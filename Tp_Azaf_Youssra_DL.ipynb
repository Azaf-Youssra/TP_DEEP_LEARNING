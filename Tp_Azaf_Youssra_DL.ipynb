{
  "nbformat": 4,
  "nbformat_minor": 0,
  "metadata": {
    "colab": {
      "name": "Untitled0.ipynb",
      "provenance": [],
      "collapsed_sections": []
    },
    "kernelspec": {
      "name": "python3",
      "display_name": "Python 3"
    }
  },
  "cells": [
    {
      "cell_type": "code",
      "metadata": {
        "id": "Kn4rWjKhwdHr"
      },
      "source": [
        "# Common imports\n",
        "import numpy as np\n",
        "import os\n",
        "import pandas as pd\n"
      ],
      "execution_count": 78,
      "outputs": []
    },
    {
      "cell_type": "code",
      "metadata": {
        "id": "k9ApYFnLSeGO"
      },
      "source": [
        "# to make this notebook's output stable across runs\n",
        "np.random.seed(42)\n",
        "\n",
        "# To plot pretty figures\n",
        "%matplotlib inline\n",
        "import matplotlib as mpl\n",
        "import matplotlib.pyplot as plt\n",
        "mpl.rc('axes', labelsize=14)\n",
        "mpl.rc('xtick', labelsize=12)\n",
        "mpl.rc('ytick', labelsize=12)\n",
        "\n"
      ],
      "execution_count": 79,
      "outputs": []
    },
    {
      "cell_type": "code",
      "metadata": {
        "id": "486-hWhWSg2x"
      },
      "source": [
        "# Ignore useless warnings (see SciPy issue #5998)\n",
        "import warnings\n",
        "warnings.filterwarnings(action=\"ignore\", message=\"^internal gelsd\")"
      ],
      "execution_count": 80,
      "outputs": []
    },
    {
      "cell_type": "code",
      "metadata": {
        "id": "Zcp7L5pOSnpR"
      },
      "source": [
        "import tensorflow as tf\n",
        "from tensorflow import keras"
      ],
      "execution_count": 81,
      "outputs": []
    },
    {
      "cell_type": "code",
      "metadata": {
        "colab": {
          "base_uri": "https://localhost:8080/",
          "height": 35
        },
        "id": "WIPICjNFSxO0",
        "outputId": "ad41b74d-2c78-4102-c25c-014b69e8a566"
      },
      "source": [
        "tf.__version__"
      ],
      "execution_count": 82,
      "outputs": [
        {
          "output_type": "execute_result",
          "data": {
            "application/vnd.google.colaboratory.intrinsic+json": {
              "type": "string"
            },
            "text/plain": [
              "'2.3.0'"
            ]
          },
          "metadata": {
            "tags": []
          },
          "execution_count": 82
        }
      ]
    },
    {
      "cell_type": "markdown",
      "metadata": {
        "id": "HN_zAIAmTvo0"
      },
      "source": [
        "Let's start by loading the fashion MNIST dataset. Keras has a number of functions to load popular datasets in keras.datasets. The dataset is already split for you between a training set and a test set, but it can be useful to split the training set further to have a validation set:\n",
        "\n",
        "\n"
      ]
    },
    {
      "cell_type": "code",
      "metadata": {
        "id": "q0YruimUTi5z"
      },
      "source": [
        "fashion_mnist = keras.datasets.fashion_mnist\n",
        "(X_train_full, y_train_full), (X_test, y_test) = fashion_mnist.load_data()"
      ],
      "execution_count": 83,
      "outputs": []
    },
    {
      "cell_type": "markdown",
      "metadata": {
        "id": "6WQILMAMUNJ_"
      },
      "source": [
        "The training set contains 60,000 grayscale images, each 28x28 pixels:"
      ]
    },
    {
      "cell_type": "code",
      "metadata": {
        "colab": {
          "base_uri": "https://localhost:8080/"
        },
        "id": "d-oTZtIkTCWT",
        "outputId": "e4ae1224-5179-452b-b974-f2ba225bf233"
      },
      "source": [
        "X_train_full.shape"
      ],
      "execution_count": 84,
      "outputs": [
        {
          "output_type": "execute_result",
          "data": {
            "text/plain": [
              "(60000, 28, 28)"
            ]
          },
          "metadata": {
            "tags": []
          },
          "execution_count": 84
        }
      ]
    },
    {
      "cell_type": "markdown",
      "metadata": {
        "id": "rPUIB_pxUMo2"
      },
      "source": [
        "Each pixel intensity is represented as a byte (0 to 255):\n"
      ]
    },
    {
      "cell_type": "code",
      "metadata": {
        "colab": {
          "base_uri": "https://localhost:8080/"
        },
        "id": "V-sIwhJ_USH3",
        "outputId": "fb970bba-77b9-435c-89ef-c3ce7cb6c63d"
      },
      "source": [
        "X_train_full.dtype"
      ],
      "execution_count": 85,
      "outputs": [
        {
          "output_type": "execute_result",
          "data": {
            "text/plain": [
              "dtype('uint8')"
            ]
          },
          "metadata": {
            "tags": []
          },
          "execution_count": 85
        }
      ]
    },
    {
      "cell_type": "markdown",
      "metadata": {
        "id": "7rV-_XkLUSgA"
      },
      "source": [
        "Let's split the full training set into a validation set and a (smaller) training set. We also scale the pixel intensities down to the 0-1 range and convert them to floats, by dividing by 255."
      ]
    },
    {
      "cell_type": "code",
      "metadata": {
        "id": "DDwTLLXFUYDj"
      },
      "source": [
        "X_valid, X_train = X_train_full[:5000] / 255., X_train_full[5000:] / 255.\n",
        "y_valid, y_train = y_train_full[:5000], y_train_full[5000:]\n",
        "X_test = X_test / 255."
      ],
      "execution_count": 86,
      "outputs": []
    },
    {
      "cell_type": "markdown",
      "metadata": {
        "id": "1lrSCu6uUb58"
      },
      "source": [
        "You can plot an image using Matplotlib's imshow() function, with a 'binary' color map:"
      ]
    },
    {
      "cell_type": "code",
      "metadata": {
        "colab": {
          "base_uri": "https://localhost:8080/",
          "height": 248
        },
        "id": "1F6KkqE7Ucxz",
        "outputId": "e0ff7f06-3bcb-46b6-e8cd-5603f6ef1cee"
      },
      "source": [
        "plt.imshow(X_train[2], cmap=\"binary\")\n",
        "plt.axis('off')\n",
        "plt.show()"
      ],
      "execution_count": 87,
      "outputs": [
        {
          "output_type": "display_data",
          "data": {
            "image/png": "[encoded data removed]",
            "text/plain": [
              "<Figure size 432x288 with 1 Axes>"
            ]
          },
          "metadata": {
            "tags": [],
            "needs_background": "light"
          }
        }
      ]
    },
    {
      "cell_type": "code",
      "metadata": {
        "colab": {
          "base_uri": "https://localhost:8080/",
          "height": 248
        },
        "id": "FVPtRDE0WLxU",
        "outputId": "35edd384-42eb-4ace-e5a3-b1f459035428"
      },
      "source": [
        "plt.imshow(X_valid[5], cmap=\"binary\")\n",
        "plt.axis('off')\n",
        "plt.show()"
      ],
      "execution_count": 88,
      "outputs": [
        {
          "output_type": "display_data",
          "data": {
            "image/png": "[encoded data removed]",
            "text/plain": [
              "<Figure size 432x288 with 1 Axes>"
            ]
          },
          "metadata": {
            "tags": [],
            "needs_background": "light"
          }
        }
      ]
    },
    {
      "cell_type": "markdown",
      "metadata": {
        "id": "jJd1YobjWsqY"
      },
      "source": [
        "# Construct a Model"
      ]
    },
    {
      "cell_type": "code",
      "metadata": {
        "id": "OqgrGcwRWv_a"
      },
      "source": [
        "model = keras.models.Sequential([\n",
        "    keras.layers.Flatten(input_shape=[28, 28]),\n",
        "    keras.layers.Dense(300, activation=\"relu\"),\n",
        "    keras.layers.Dense(100, activation=\"relu\"),\n",
        "    keras.layers.Dense(10, activation=\"softmax\")\n",
        "])"
      ],
      "execution_count": 89,
      "outputs": []
    },
    {
      "cell_type": "code",
      "metadata": {
        "id": "T-PAvvRUWyTX"
      },
      "source": [
        "keras.backend.clear_session()\n",
        "np.random.seed(42)"
      ],
      "execution_count": 90,
      "outputs": []
    },
    {
      "cell_type": "code",
      "metadata": {
        "colab": {
          "base_uri": "https://localhost:8080/"
        },
        "id": "HTAj-f8dXCxQ",
        "outputId": "474660fa-d35e-440d-c78f-50511d161ad0"
      },
      "source": [
        "model.layers"
      ],
      "execution_count": 91,
      "outputs": [
        {
          "output_type": "execute_result",
          "data": {
            "text/plain": [
              "[<tensorflow.python.keras.layers.core.Flatten at 0x7f4d551c8f98>,\n",
              " <tensorflow.python.keras.layers.core.Dense at 0x7f4d551c8b00>,\n",
              " <tensorflow.python.keras.layers.core.Dense at 0x7f4d551c8358>,\n",
              " <tensorflow.python.keras.layers.core.Dense at 0x7f4d551d10b8>]"
            ]
          },
          "metadata": {
            "tags": []
          },
          "execution_count": 91
        }
      ]
    },
    {
      "cell_type": "code",
      "metadata": {
        "colab": {
          "base_uri": "https://localhost:8080/"
        },
        "id": "0LGsXl2IXDRK",
        "outputId": "05bbd612-6a21-49d3-bd77-b36df94d2abc"
      },
      "source": [
        "model.summary()"
      ],
      "execution_count": 92,
      "outputs": [
        {
          "output_type": "stream",
          "text": [
            "Model: \"sequential_2\"\n",
            "_________________________________________________________________\n",
            "Layer (type)                 Output Shape              Param #   \n",
            "=================================================================\n",
            "flatten_2 (Flatten)          (None, 784)               0         \n",
            "_________________________________________________________________\n",
            "dense_9 (Dense)              (None, 300)               235500    \n",
            "_________________________________________________________________\n",
            "dense_10 (Dense)             (None, 100)               30100     \n",
            "_________________________________________________________________\n",
            "dense_11 (Dense)             (None, 10)                1010      \n",
            "=================================================================\n",
            "Total params: 266,610\n",
            "Trainable params: 266,610\n",
            "Non-trainable params: 0\n",
            "_________________________________________________________________\n"
          ],
          "name": "stdout"
        }
      ]
    },
    {
      "cell_type": "code",
      "metadata": {
        "colab": {
          "base_uri": "https://localhost:8080/",
          "height": 35
        },
        "id": "3Y5Tgu80XGM_",
        "outputId": "2cd49d47-dd2c-468f-fce0-c6017b6c30f9"
      },
      "source": [
        "hidden1 = model.layers[1]\n",
        "hidden1.name"
      ],
      "execution_count": 93,
      "outputs": [
        {
          "output_type": "execute_result",
          "data": {
            "application/vnd.google.colaboratory.intrinsic+json": {
              "type": "string"
            },
            "text/plain": [
              "'dense_9'"
            ]
          },
          "metadata": {
            "tags": []
          },
          "execution_count": 93
        }
      ]
    },
    {
      "cell_type": "code",
      "metadata": {
        "colab": {
          "base_uri": "https://localhost:8080/"
        },
        "id": "gasz5fyaXPE9",
        "outputId": "99ce7554-85e5-449d-d3e1-bfb166929c29"
      },
      "source": [
        "model.get_layer(hidden1.name) is hidden1"
      ],
      "execution_count": 94,
      "outputs": [
        {
          "output_type": "execute_result",
          "data": {
            "text/plain": [
              "True"
            ]
          },
          "metadata": {
            "tags": []
          },
          "execution_count": 94
        }
      ]
    },
    {
      "cell_type": "code",
      "metadata": {
        "id": "2_kgpw2ZXQmi"
      },
      "source": [
        "weights, biases = hidden1.get_weights()"
      ],
      "execution_count": 95,
      "outputs": []
    },
    {
      "cell_type": "code",
      "metadata": {
        "colab": {
          "base_uri": "https://localhost:8080/"
        },
        "id": "ySKytOptXSD8",
        "outputId": "7924a2dc-c3df-4f5f-e9be-acfce734b876"
      },
      "source": [
        "weights"
      ],
      "execution_count": 96,
      "outputs": [
        {
          "output_type": "execute_result",
          "data": {
            "text/plain": [
              "array([[ 0.01207802, -0.05535754, -0.01771513, ...,  0.01746687,\n",
              "         0.0133497 ,  0.05383413],\n",
              "       [ 0.02010391, -0.02706678,  0.02287871, ...,  0.0168227 ,\n",
              "         0.03347206, -0.06666281],\n",
              "       [ 0.03914981, -0.00953282, -0.06002529, ..., -0.04614432,\n",
              "         0.02983787, -0.04922261],\n",
              "       ...,\n",
              "       [ 0.03932826,  0.06978491, -0.00274364, ..., -0.00301748,\n",
              "         0.01711215,  0.02811638],\n",
              "       [ 0.04803104, -0.06569241,  0.0487215 , ..., -0.02862288,\n",
              "        -0.05708605,  0.02990717],\n",
              "       [ 0.00156182, -0.05014411,  0.02629876, ..., -0.01993694,\n",
              "         0.02330573,  0.02970791]], dtype=float32)"
            ]
          },
          "metadata": {
            "tags": []
          },
          "execution_count": 96
        }
      ]
    },
    {
      "cell_type": "code",
      "metadata": {
        "colab": {
          "base_uri": "https://localhost:8080/"
        },
        "id": "ZvkYKjHkXX3r",
        "outputId": "5ab0f9c7-605e-4402-d983-5378facbe8ab"
      },
      "source": [
        "weights.shape"
      ],
      "execution_count": 97,
      "outputs": [
        {
          "output_type": "execute_result",
          "data": {
            "text/plain": [
              "(784, 300)"
            ]
          },
          "metadata": {
            "tags": []
          },
          "execution_count": 97
        }
      ]
    },
    {
      "cell_type": "code",
      "metadata": {
        "colab": {
          "base_uri": "https://localhost:8080/"
        },
        "id": "96ThWyfEXYSG",
        "outputId": "ddd54ec3-2a7b-402f-c7c7-cd9c1130ebd3"
      },
      "source": [
        "biases"
      ],
      "execution_count": 98,
      "outputs": [
        {
          "output_type": "execute_result",
          "data": {
            "text/plain": [
              "array([0., 0., 0., 0., 0., 0., 0., 0., 0., 0., 0., 0., 0., 0., 0., 0., 0.,\n",
              "       0., 0., 0., 0., 0., 0., 0., 0., 0., 0., 0., 0., 0., 0., 0., 0., 0.,\n",
              "       0., 0., 0., 0., 0., 0., 0., 0., 0., 0., 0., 0., 0., 0., 0., 0., 0.,\n",
              "       0., 0., 0., 0., 0., 0., 0., 0., 0., 0., 0., 0., 0., 0., 0., 0., 0.,\n",
              "       0., 0., 0., 0., 0., 0., 0., 0., 0., 0., 0., 0., 0., 0., 0., 0., 0.,\n",
              "       0., 0., 0., 0., 0., 0., 0., 0., 0., 0., 0., 0., 0., 0., 0., 0., 0.,\n",
              "       0., 0., 0., 0., 0., 0., 0., 0., 0., 0., 0., 0., 0., 0., 0., 0., 0.,\n",
              "       0., 0., 0., 0., 0., 0., 0., 0., 0., 0., 0., 0., 0., 0., 0., 0., 0.,\n",
              "       0., 0., 0., 0., 0., 0., 0., 0., 0., 0., 0., 0., 0., 0., 0., 0., 0.,\n",
              "       0., 0., 0., 0., 0., 0., 0., 0., 0., 0., 0., 0., 0., 0., 0., 0., 0.,\n",
              "       0., 0., 0., 0., 0., 0., 0., 0., 0., 0., 0., 0., 0., 0., 0., 0., 0.,\n",
              "       0., 0., 0., 0., 0., 0., 0., 0., 0., 0., 0., 0., 0., 0., 0., 0., 0.,\n",
              "       0., 0., 0., 0., 0., 0., 0., 0., 0., 0., 0., 0., 0., 0., 0., 0., 0.,\n",
              "       0., 0., 0., 0., 0., 0., 0., 0., 0., 0., 0., 0., 0., 0., 0., 0., 0.,\n",
              "       0., 0., 0., 0., 0., 0., 0., 0., 0., 0., 0., 0., 0., 0., 0., 0., 0.,\n",
              "       0., 0., 0., 0., 0., 0., 0., 0., 0., 0., 0., 0., 0., 0., 0., 0., 0.,\n",
              "       0., 0., 0., 0., 0., 0., 0., 0., 0., 0., 0., 0., 0., 0., 0., 0., 0.,\n",
              "       0., 0., 0., 0., 0., 0., 0., 0., 0., 0., 0.], dtype=float32)"
            ]
          },
          "metadata": {
            "tags": []
          },
          "execution_count": 98
        }
      ]
    },
    {
      "cell_type": "code",
      "metadata": {
        "colab": {
          "base_uri": "https://localhost:8080/"
        },
        "id": "foQbCFuMXbvy",
        "outputId": "65f24626-60a4-4f61-db35-58937bc60295"
      },
      "source": [
        "biases.shape"
      ],
      "execution_count": 99,
      "outputs": [
        {
          "output_type": "execute_result",
          "data": {
            "text/plain": [
              "(300,)"
            ]
          },
          "metadata": {
            "tags": []
          },
          "execution_count": 99
        }
      ]
    },
    {
      "cell_type": "markdown",
      "metadata": {
        "id": "aqiPGCmlYIMB"
      },
      "source": [
        "Here you can chose the loss function, the optimizer, the performance metric, etc. check Keras documentation for further details.\n"
      ]
    },
    {
      "cell_type": "code",
      "metadata": {
        "id": "-fuvpKrXYO2r"
      },
      "source": [
        "model.compile(loss=\"sparse_categorical_crossentropy\",\n",
        "              optimizer=\"sgd\",\n",
        "              metrics=[\"accuracy\"])"
      ],
      "execution_count": 100,
      "outputs": []
    },
    {
      "cell_type": "code",
      "metadata": {
        "colab": {
          "base_uri": "https://localhost:8080/"
        },
        "id": "8B1CftKzYXWn",
        "outputId": "18c064d2-fddd-49ee-a85d-fb92d3084437"
      },
      "source": [
        "#Here you can chose how many epochs you need and the batch size.\n",
        "history = model.fit(X_train, y_train, batch_size=32, epochs=30,\n",
        "                    validation_data=(X_valid, y_valid))"
      ],
      "execution_count": 101,
      "outputs": [
        {
          "output_type": "stream",
          "text": [
            "Epoch 1/30\n",
            "1719/1719 [==============================] - 4s 3ms/step - loss: 0.7062 - accuracy: 0.7674 - val_loss: 0.5110 - val_accuracy: 0.8278\n",
            "Epoch 2/30\n",
            "1719/1719 [==============================] - 4s 2ms/step - loss: 0.4890 - accuracy: 0.8305 - val_loss: 0.4566 - val_accuracy: 0.8428\n",
            "Epoch 3/30\n",
            "1719/1719 [==============================] - 4s 2ms/step - loss: 0.4457 - accuracy: 0.8428 - val_loss: 0.4212 - val_accuracy: 0.8560\n",
            "Epoch 4/30\n",
            "1719/1719 [==============================] - 4s 2ms/step - loss: 0.4185 - accuracy: 0.8529 - val_loss: 0.4004 - val_accuracy: 0.8638\n",
            "Epoch 5/30\n",
            "1719/1719 [==============================] - 4s 2ms/step - loss: 0.3970 - accuracy: 0.8608 - val_loss: 0.3818 - val_accuracy: 0.8692\n",
            "Epoch 6/30\n",
            "1719/1719 [==============================] - 4s 2ms/step - loss: 0.3818 - accuracy: 0.8659 - val_loss: 0.3811 - val_accuracy: 0.8666\n",
            "Epoch 7/30\n",
            "1719/1719 [==============================] - 4s 2ms/step - loss: 0.3681 - accuracy: 0.8693 - val_loss: 0.3877 - val_accuracy: 0.8658\n",
            "Epoch 8/30\n",
            "1719/1719 [==============================] - 4s 2ms/step - loss: 0.3571 - accuracy: 0.8732 - val_loss: 0.3618 - val_accuracy: 0.8766\n",
            "Epoch 9/30\n",
            "1719/1719 [==============================] - 4s 2ms/step - loss: 0.3455 - accuracy: 0.8777 - val_loss: 0.3717 - val_accuracy: 0.8712\n",
            "Epoch 10/30\n",
            "1719/1719 [==============================] - 4s 2ms/step - loss: 0.3355 - accuracy: 0.8805 - val_loss: 0.3572 - val_accuracy: 0.8738\n",
            "Epoch 11/30\n",
            "1719/1719 [==============================] - 4s 2ms/step - loss: 0.3269 - accuracy: 0.8838 - val_loss: 0.3419 - val_accuracy: 0.8778\n",
            "Epoch 12/30\n",
            "1719/1719 [==============================] - 4s 2ms/step - loss: 0.3183 - accuracy: 0.8863 - val_loss: 0.3325 - val_accuracy: 0.8852\n",
            "Epoch 13/30\n",
            "1719/1719 [==============================] - 4s 2ms/step - loss: 0.3110 - accuracy: 0.8892 - val_loss: 0.3347 - val_accuracy: 0.8810\n",
            "Epoch 14/30\n",
            "1719/1719 [==============================] - 4s 2ms/step - loss: 0.3043 - accuracy: 0.8909 - val_loss: 0.3292 - val_accuracy: 0.8828\n",
            "Epoch 15/30\n",
            "1719/1719 [==============================] - 4s 2ms/step - loss: 0.2974 - accuracy: 0.8922 - val_loss: 0.3262 - val_accuracy: 0.8838\n",
            "Epoch 16/30\n",
            "1719/1719 [==============================] - 4s 2ms/step - loss: 0.2913 - accuracy: 0.8954 - val_loss: 0.3437 - val_accuracy: 0.8800\n",
            "Epoch 17/30\n",
            "1719/1719 [==============================] - 4s 2ms/step - loss: 0.2861 - accuracy: 0.8970 - val_loss: 0.3225 - val_accuracy: 0.8870\n",
            "Epoch 18/30\n",
            "1719/1719 [==============================] - 4s 2ms/step - loss: 0.2803 - accuracy: 0.8988 - val_loss: 0.3197 - val_accuracy: 0.8850\n",
            "Epoch 19/30\n",
            "1719/1719 [==============================] - 4s 2ms/step - loss: 0.2745 - accuracy: 0.9012 - val_loss: 0.3143 - val_accuracy: 0.8860\n",
            "Epoch 20/30\n",
            "1719/1719 [==============================] - 4s 2ms/step - loss: 0.2693 - accuracy: 0.9031 - val_loss: 0.3222 - val_accuracy: 0.8832\n",
            "Epoch 21/30\n",
            "1719/1719 [==============================] - 4s 2ms/step - loss: 0.2644 - accuracy: 0.9055 - val_loss: 0.3092 - val_accuracy: 0.8890\n",
            "Epoch 22/30\n",
            "1719/1719 [==============================] - 4s 2ms/step - loss: 0.2599 - accuracy: 0.9052 - val_loss: 0.3029 - val_accuracy: 0.8910\n",
            "Epoch 23/30\n",
            "1719/1719 [==============================] - 4s 2ms/step - loss: 0.2565 - accuracy: 0.9070 - val_loss: 0.3153 - val_accuracy: 0.8860\n",
            "Epoch 24/30\n",
            "1719/1719 [==============================] - 4s 2ms/step - loss: 0.2508 - accuracy: 0.9109 - val_loss: 0.3098 - val_accuracy: 0.8882\n",
            "Epoch 25/30\n",
            "1719/1719 [==============================] - 4s 2ms/step - loss: 0.2466 - accuracy: 0.9112 - val_loss: 0.3130 - val_accuracy: 0.8866\n",
            "Epoch 26/30\n",
            "1719/1719 [==============================] - 4s 3ms/step - loss: 0.2432 - accuracy: 0.9125 - val_loss: 0.3098 - val_accuracy: 0.8870\n",
            "Epoch 27/30\n",
            "1719/1719 [==============================] - 5s 3ms/step - loss: 0.2389 - accuracy: 0.9131 - val_loss: 0.3095 - val_accuracy: 0.8860\n",
            "Epoch 28/30\n",
            "1719/1719 [==============================] - 4s 2ms/step - loss: 0.2353 - accuracy: 0.9157 - val_loss: 0.3143 - val_accuracy: 0.8830\n",
            "Epoch 29/30\n",
            "1719/1719 [==============================] - 4s 2ms/step - loss: 0.2330 - accuracy: 0.9157 - val_loss: 0.3054 - val_accuracy: 0.8892\n",
            "Epoch 30/30\n",
            "1719/1719 [==============================] - 4s 2ms/step - loss: 0.2273 - accuracy: 0.9187 - val_loss: 0.2975 - val_accuracy: 0.8902\n"
          ],
          "name": "stdout"
        }
      ]
    },
    {
      "cell_type": "code",
      "metadata": {
        "colab": {
          "base_uri": "https://localhost:8080/"
        },
        "id": "jN5QwbbmYtlF",
        "outputId": "216e567d-d05e-4e52-dee9-5e1a738296cb"
      },
      "source": [
        "history.params"
      ],
      "execution_count": 102,
      "outputs": [
        {
          "output_type": "execute_result",
          "data": {
            "text/plain": [
              "{'epochs': 30, 'steps': 1719, 'verbose': 1}"
            ]
          },
          "metadata": {
            "tags": []
          },
          "execution_count": 102
        }
      ]
    },
    {
      "cell_type": "code",
      "metadata": {
        "colab": {
          "base_uri": "https://localhost:8080/",
          "height": 328
        },
        "id": "a5_pi0wTYyXZ",
        "outputId": "a8abbf80-fbb5-473d-c593-0c663e063214"
      },
      "source": [
        "#Plot learning Curves\n",
        "import pandas as pd\n",
        "\n",
        "pd.DataFrame(history.history).plot(figsize=(8, 5))\n",
        "plt.grid(True)\n",
        "plt.gca().set_ylim(0, 1)\n",
        "plt.show()"
      ],
      "execution_count": 103,
      "outputs": [
        {
          "output_type": "display_data",
          "data": {
            "image/png": "[encoded data removed]",
            "text/plain": [
              "<Figure size 576x360 with 1 Axes>"
            ]
          },
          "metadata": {
            "tags": [],
            "needs_background": "light"
          }
        }
      ]
    },
    {
      "cell_type": "code",
      "metadata": {
        "colab": {
          "base_uri": "https://localhost:8080/"
        },
        "id": "ViNi0hOBaXC3",
        "outputId": "8f88463f-7d2c-4a5b-875f-d6b02eb4ef27"
      },
      "source": [
        "model.evaluate(X_test, y_test)"
      ],
      "execution_count": 104,
      "outputs": [
        {
          "output_type": "stream",
          "text": [
            "313/313 [==============================] - 0s 1ms/step - loss: 0.3242 - accuracy: 0.8850\n"
          ],
          "name": "stdout"
        },
        {
          "output_type": "execute_result",
          "data": {
            "text/plain": [
              "[0.3242228627204895, 0.8849999904632568]"
            ]
          },
          "metadata": {
            "tags": []
          },
          "execution_count": 104
        }
      ]
    },
    {
      "cell_type": "markdown",
      "metadata": {
        "id": "qQa__iAlahyd"
      },
      "source": [
        "1. Plot Learning curves when using different optimizers"
      ]
    },
    {
      "cell_type": "markdown",
      "metadata": {
        "id": "sao91Yp_bqCy"
      },
      "source": [
        "First optimizer ADAM"
      ]
    },
    {
      "cell_type": "code",
      "metadata": {
        "id": "xEnkUD31amv-"
      },
      "source": [
        "model.compile(loss=\"sparse_categorical_crossentropy\",\n",
        "              optimizer=\"adam\",\n",
        "              metrics=[\"accuracy\"])"
      ],
      "execution_count": 105,
      "outputs": []
    },
    {
      "cell_type": "code",
      "metadata": {
        "colab": {
          "base_uri": "https://localhost:8080/"
        },
        "id": "VIudUW2EayxW",
        "outputId": "d0de86c4-5d30-418f-9d1f-16c7bd473d53"
      },
      "source": [
        "history0 = model.fit(X_train, y_train, batch_size=32, epochs=30,\n",
        "                    validation_data=(X_valid, y_valid))"
      ],
      "execution_count": 106,
      "outputs": [
        {
          "output_type": "stream",
          "text": [
            "Epoch 1/30\n",
            "1719/1719 [==============================] - 5s 3ms/step - loss: 0.3787 - accuracy: 0.8604 - val_loss: 0.3386 - val_accuracy: 0.8798\n",
            "Epoch 2/30\n",
            "1719/1719 [==============================] - 5s 3ms/step - loss: 0.3331 - accuracy: 0.8778 - val_loss: 0.3350 - val_accuracy: 0.8834\n",
            "Epoch 3/30\n",
            "1719/1719 [==============================] - 5s 3ms/step - loss: 0.3074 - accuracy: 0.8857 - val_loss: 0.3260 - val_accuracy: 0.8844\n",
            "Epoch 4/30\n",
            "1719/1719 [==============================] - 5s 3ms/step - loss: 0.2885 - accuracy: 0.8940 - val_loss: 0.3174 - val_accuracy: 0.8840\n",
            "Epoch 5/30\n",
            "1719/1719 [==============================] - 5s 3ms/step - loss: 0.2703 - accuracy: 0.8988 - val_loss: 0.3183 - val_accuracy: 0.8862\n",
            "Epoch 6/30\n",
            "1719/1719 [==============================] - 5s 3ms/step - loss: 0.2581 - accuracy: 0.9032 - val_loss: 0.3101 - val_accuracy: 0.8914\n",
            "Epoch 7/30\n",
            "1719/1719 [==============================] - 5s 3ms/step - loss: 0.2503 - accuracy: 0.9066 - val_loss: 0.3373 - val_accuracy: 0.8786\n",
            "Epoch 8/30\n",
            "1719/1719 [==============================] - 5s 3ms/step - loss: 0.2379 - accuracy: 0.9108 - val_loss: 0.3213 - val_accuracy: 0.8902\n",
            "Epoch 9/30\n",
            "1719/1719 [==============================] - 5s 3ms/step - loss: 0.2274 - accuracy: 0.9141 - val_loss: 0.3060 - val_accuracy: 0.8964\n",
            "Epoch 10/30\n",
            "1719/1719 [==============================] - 5s 3ms/step - loss: 0.2192 - accuracy: 0.9178 - val_loss: 0.3126 - val_accuracy: 0.8980\n",
            "Epoch 11/30\n",
            "1719/1719 [==============================] - 5s 3ms/step - loss: 0.2104 - accuracy: 0.9213 - val_loss: 0.3102 - val_accuracy: 0.8980\n",
            "Epoch 12/30\n",
            "1719/1719 [==============================] - 5s 3ms/step - loss: 0.2041 - accuracy: 0.9235 - val_loss: 0.3286 - val_accuracy: 0.8888\n",
            "Epoch 13/30\n",
            "1719/1719 [==============================] - 5s 3ms/step - loss: 0.1991 - accuracy: 0.9252 - val_loss: 0.3180 - val_accuracy: 0.8968\n",
            "Epoch 14/30\n",
            "1719/1719 [==============================] - 5s 3ms/step - loss: 0.1912 - accuracy: 0.9279 - val_loss: 0.3411 - val_accuracy: 0.8960\n",
            "Epoch 15/30\n",
            "1719/1719 [==============================] - 5s 3ms/step - loss: 0.1854 - accuracy: 0.9298 - val_loss: 0.3382 - val_accuracy: 0.8982\n",
            "Epoch 16/30\n",
            "1719/1719 [==============================] - 5s 3ms/step - loss: 0.1803 - accuracy: 0.9319 - val_loss: 0.3478 - val_accuracy: 0.8918\n",
            "Epoch 17/30\n",
            "1719/1719 [==============================] - 5s 3ms/step - loss: 0.1730 - accuracy: 0.9345 - val_loss: 0.3346 - val_accuracy: 0.8952\n",
            "Epoch 18/30\n",
            "1719/1719 [==============================] - 5s 3ms/step - loss: 0.1707 - accuracy: 0.9363 - val_loss: 0.3567 - val_accuracy: 0.8940\n",
            "Epoch 19/30\n",
            "1719/1719 [==============================] - 5s 3ms/step - loss: 0.1665 - accuracy: 0.9377 - val_loss: 0.3600 - val_accuracy: 0.8964\n",
            "Epoch 20/30\n",
            "1719/1719 [==============================] - 5s 3ms/step - loss: 0.1614 - accuracy: 0.9380 - val_loss: 0.3650 - val_accuracy: 0.8954\n",
            "Epoch 21/30\n",
            "1719/1719 [==============================] - 5s 3ms/step - loss: 0.1564 - accuracy: 0.9411 - val_loss: 0.3736 - val_accuracy: 0.8964\n",
            "Epoch 22/30\n",
            "1719/1719 [==============================] - 5s 3ms/step - loss: 0.1521 - accuracy: 0.9417 - val_loss: 0.3560 - val_accuracy: 0.8954\n",
            "Epoch 23/30\n",
            "1719/1719 [==============================] - 5s 3ms/step - loss: 0.1481 - accuracy: 0.9427 - val_loss: 0.4113 - val_accuracy: 0.8918\n",
            "Epoch 24/30\n",
            "1719/1719 [==============================] - 5s 3ms/step - loss: 0.1435 - accuracy: 0.9451 - val_loss: 0.4358 - val_accuracy: 0.8920\n",
            "Epoch 25/30\n",
            "1719/1719 [==============================] - 5s 3ms/step - loss: 0.1402 - accuracy: 0.9458 - val_loss: 0.4364 - val_accuracy: 0.8974\n",
            "Epoch 26/30\n",
            "1719/1719 [==============================] - 5s 3ms/step - loss: 0.1382 - accuracy: 0.9486 - val_loss: 0.4679 - val_accuracy: 0.8910\n",
            "Epoch 27/30\n",
            "1719/1719 [==============================] - 5s 3ms/step - loss: 0.1377 - accuracy: 0.9473 - val_loss: 0.3908 - val_accuracy: 0.9002\n",
            "Epoch 28/30\n",
            "1719/1719 [==============================] - 5s 3ms/step - loss: 0.1303 - accuracy: 0.9499 - val_loss: 0.5096 - val_accuracy: 0.8902\n",
            "Epoch 29/30\n",
            "1719/1719 [==============================] - 5s 3ms/step - loss: 0.1300 - accuracy: 0.9503 - val_loss: 0.4208 - val_accuracy: 0.8964\n",
            "Epoch 30/30\n",
            "1719/1719 [==============================] - 5s 3ms/step - loss: 0.1252 - accuracy: 0.9519 - val_loss: 0.4355 - val_accuracy: 0.8998\n"
          ],
          "name": "stdout"
        }
      ]
    },
    {
      "cell_type": "code",
      "metadata": {
        "colab": {
          "base_uri": "https://localhost:8080/"
        },
        "id": "Qvyrr3-6bKHC",
        "outputId": "2c7145a0-f7be-49d1-cc23-07357d5831f3"
      },
      "source": [
        "history0.params"
      ],
      "execution_count": 107,
      "outputs": [
        {
          "output_type": "execute_result",
          "data": {
            "text/plain": [
              "{'epochs': 30, 'steps': 1719, 'verbose': 1}"
            ]
          },
          "metadata": {
            "tags": []
          },
          "execution_count": 107
        }
      ]
    },
    {
      "cell_type": "code",
      "metadata": {
        "colab": {
          "base_uri": "https://localhost:8080/",
          "height": 328
        },
        "id": "j4zzyLhJbNvo",
        "outputId": "7a018534-9c7c-49aa-8621-b1e4ed636a6f"
      },
      "source": [
        "pd.DataFrame(history0.history).plot(figsize=(8, 5))\n",
        "plt.grid(True)\n",
        "plt.gca().set_ylim(0, 1)\n",
        "plt.show()"
      ],
      "execution_count": 108,
      "outputs": [
        {
          "output_type": "display_data",
          "data": {
            "image/png": "[encoded data removed]",
            "text/plain": [
              "<Figure size 576x360 with 1 Axes>"
            ]
          },
          "metadata": {
            "tags": [],
            "needs_background": "light"
          }
        }
      ]
    },
    {
      "cell_type": "markdown",
      "metadata": {
        "id": "TN4UUyBsbeRF"
      },
      "source": [
        "Second optimizer RMSprop"
      ]
    },
    {
      "cell_type": "code",
      "metadata": {
        "id": "9hkVKTRJbh3T"
      },
      "source": [
        "model.compile(loss=\"sparse_categorical_crossentropy\",\n",
        "              optimizer=\"RMSprop\",\n",
        "              metrics=[\"accuracy\"])"
      ],
      "execution_count": 109,
      "outputs": []
    },
    {
      "cell_type": "code",
      "metadata": {
        "colab": {
          "base_uri": "https://localhost:8080/"
        },
        "id": "XF-XUNldbx9V",
        "outputId": "d20104ff-73c6-4646-deaa-d8c359607bfa"
      },
      "source": [
        "history1 = model.fit(X_train, y_train, batch_size=32, epochs=30,\n",
        "                    validation_data=(X_valid, y_valid))"
      ],
      "execution_count": 110,
      "outputs": [
        {
          "output_type": "stream",
          "text": [
            "Epoch 1/30\n",
            "1719/1719 [==============================] - 7s 4ms/step - loss: 0.1243 - accuracy: 0.9529 - val_loss: 0.5623 - val_accuracy: 0.8936\n",
            "Epoch 2/30\n",
            "1719/1719 [==============================] - 7s 4ms/step - loss: 0.1343 - accuracy: 0.9515 - val_loss: 0.5990 - val_accuracy: 0.9012\n",
            "Epoch 3/30\n",
            "1719/1719 [==============================] - 7s 4ms/step - loss: 0.1411 - accuracy: 0.9486 - val_loss: 0.7186 - val_accuracy: 0.8970\n",
            "Epoch 4/30\n",
            "1719/1719 [==============================] - 6s 4ms/step - loss: 0.1455 - accuracy: 0.9487 - val_loss: 0.7448 - val_accuracy: 0.8924\n",
            "Epoch 5/30\n",
            "1719/1719 [==============================] - 6s 4ms/step - loss: 0.1559 - accuracy: 0.9470 - val_loss: 0.7228 - val_accuracy: 0.8936\n",
            "Epoch 6/30\n",
            "1719/1719 [==============================] - 6s 4ms/step - loss: 0.1548 - accuracy: 0.9482 - val_loss: 0.7873 - val_accuracy: 0.8936\n",
            "Epoch 7/30\n",
            "1719/1719 [==============================] - 6s 4ms/step - loss: 0.1593 - accuracy: 0.9464 - val_loss: 0.8230 - val_accuracy: 0.8922\n",
            "Epoch 8/30\n",
            "1719/1719 [==============================] - 6s 4ms/step - loss: 0.1596 - accuracy: 0.9462 - val_loss: 0.8789 - val_accuracy: 0.8940\n",
            "Epoch 9/30\n",
            "1719/1719 [==============================] - 6s 4ms/step - loss: 0.1675 - accuracy: 0.9461 - val_loss: 0.8403 - val_accuracy: 0.8938\n",
            "Epoch 10/30\n",
            "1719/1719 [==============================] - 6s 4ms/step - loss: 0.1671 - accuracy: 0.9459 - val_loss: 1.0059 - val_accuracy: 0.8916\n",
            "Epoch 11/30\n",
            "1719/1719 [==============================] - 6s 4ms/step - loss: 0.1653 - accuracy: 0.9474 - val_loss: 0.8798 - val_accuracy: 0.8908\n",
            "Epoch 12/30\n",
            "1719/1719 [==============================] - 6s 4ms/step - loss: 0.1694 - accuracy: 0.9456 - val_loss: 0.9179 - val_accuracy: 0.8920\n",
            "Epoch 13/30\n",
            "1719/1719 [==============================] - 6s 4ms/step - loss: 0.1693 - accuracy: 0.9457 - val_loss: 0.9895 - val_accuracy: 0.8916\n",
            "Epoch 14/30\n",
            "1719/1719 [==============================] - 6s 4ms/step - loss: 0.1671 - accuracy: 0.9457 - val_loss: 1.0276 - val_accuracy: 0.8908\n",
            "Epoch 15/30\n",
            "1719/1719 [==============================] - 6s 4ms/step - loss: 0.1696 - accuracy: 0.9448 - val_loss: 1.0447 - val_accuracy: 0.8948\n",
            "Epoch 16/30\n",
            "1719/1719 [==============================] - 6s 4ms/step - loss: 0.1701 - accuracy: 0.9468 - val_loss: 1.0153 - val_accuracy: 0.8880\n",
            "Epoch 17/30\n",
            "1719/1719 [==============================] - 6s 4ms/step - loss: 0.1744 - accuracy: 0.9466 - val_loss: 0.9962 - val_accuracy: 0.8988\n",
            "Epoch 18/30\n",
            "1719/1719 [==============================] - 6s 4ms/step - loss: 0.1717 - accuracy: 0.9472 - val_loss: 1.1338 - val_accuracy: 0.8866\n",
            "Epoch 19/30\n",
            "1719/1719 [==============================] - 6s 4ms/step - loss: 0.1802 - accuracy: 0.9468 - val_loss: 1.1160 - val_accuracy: 0.8904\n",
            "Epoch 20/30\n",
            "1719/1719 [==============================] - 6s 4ms/step - loss: 0.1745 - accuracy: 0.9461 - val_loss: 1.0669 - val_accuracy: 0.8928\n",
            "Epoch 21/30\n",
            "1719/1719 [==============================] - 7s 4ms/step - loss: 0.1801 - accuracy: 0.9450 - val_loss: 1.1370 - val_accuracy: 0.8900\n",
            "Epoch 22/30\n",
            "1719/1719 [==============================] - 7s 4ms/step - loss: 0.1744 - accuracy: 0.9465 - val_loss: 1.0890 - val_accuracy: 0.8884\n",
            "Epoch 23/30\n",
            "1719/1719 [==============================] - 6s 4ms/step - loss: 0.1773 - accuracy: 0.9450 - val_loss: 1.3018 - val_accuracy: 0.8838\n",
            "Epoch 24/30\n",
            "1719/1719 [==============================] - 6s 4ms/step - loss: 0.1782 - accuracy: 0.9463 - val_loss: 1.1532 - val_accuracy: 0.8894\n",
            "Epoch 25/30\n",
            "1719/1719 [==============================] - 6s 4ms/step - loss: 0.1752 - accuracy: 0.9465 - val_loss: 1.3192 - val_accuracy: 0.8914\n",
            "Epoch 26/30\n",
            "1719/1719 [==============================] - 6s 4ms/step - loss: 0.1784 - accuracy: 0.9466 - val_loss: 1.2833 - val_accuracy: 0.8910\n",
            "Epoch 27/30\n",
            "1719/1719 [==============================] - 6s 4ms/step - loss: 0.1886 - accuracy: 0.9457 - val_loss: 1.2424 - val_accuracy: 0.8940\n",
            "Epoch 28/30\n",
            "1719/1719 [==============================] - 6s 4ms/step - loss: 0.1789 - accuracy: 0.9466 - val_loss: 1.2742 - val_accuracy: 0.8914\n",
            "Epoch 29/30\n",
            "1719/1719 [==============================] - 6s 4ms/step - loss: 0.1739 - accuracy: 0.9482 - val_loss: 1.2797 - val_accuracy: 0.8882\n",
            "Epoch 30/30\n",
            "1719/1719 [==============================] - 7s 4ms/step - loss: 0.1772 - accuracy: 0.9476 - val_loss: 1.3978 - val_accuracy: 0.8816\n"
          ],
          "name": "stdout"
        }
      ]
    },
    {
      "cell_type": "code",
      "metadata": {
        "colab": {
          "base_uri": "https://localhost:8080/"
        },
        "id": "3MLmx3gdb5Ve",
        "outputId": "8b7032d0-5b79-416b-cd40-b6bfc2e448c9"
      },
      "source": [
        "history1.params"
      ],
      "execution_count": 111,
      "outputs": [
        {
          "output_type": "execute_result",
          "data": {
            "text/plain": [
              "{'epochs': 30, 'steps': 1719, 'verbose': 1}"
            ]
          },
          "metadata": {
            "tags": []
          },
          "execution_count": 111
        }
      ]
    },
    {
      "cell_type": "code",
      "metadata": {
        "colab": {
          "base_uri": "https://localhost:8080/",
          "height": 328
        },
        "id": "DxBtTbmib6Wl",
        "outputId": "23ac8ff7-67cd-4f86-8703-9fa1fadb3d31"
      },
      "source": [
        "pd.DataFrame(history1.history).plot(figsize=(8, 5))\n",
        "plt.grid(True)\n",
        "plt.gca().set_ylim(0, 1)\n",
        "plt.show()"
      ],
      "execution_count": 112,
      "outputs": [
        {
          "output_type": "display_data",
          "data": {
            "image/png": "[encoded data removed]",
            "text/plain": [
              "<Figure size 576x360 with 1 Axes>"
            ]
          },
          "metadata": {
            "tags": [],
            "needs_background": "light"
          }
        }
      ]
    },
    {
      "cell_type": "markdown",
      "metadata": {
        "id": "kymQTGDJcfwV"
      },
      "source": [
        "Third optimizer Nadam"
      ]
    },
    {
      "cell_type": "code",
      "metadata": {
        "id": "hQH8IP4vcmFO"
      },
      "source": [
        "model.compile(loss=\"sparse_categorical_crossentropy\",\n",
        "              optimizer=\"Nadam\",\n",
        "              metrics=[\"accuracy\"])"
      ],
      "execution_count": 113,
      "outputs": []
    },
    {
      "cell_type": "code",
      "metadata": {
        "colab": {
          "base_uri": "https://localhost:8080/"
        },
        "id": "c-aIdixlcoF2",
        "outputId": "e4a5bac4-c763-4b28-cc3f-2c7c54602d43"
      },
      "source": [
        "history2 = model.fit(X_train, y_train, batch_size=32, epochs=30,\n",
        "                    validation_data=(X_valid, y_valid))"
      ],
      "execution_count": 114,
      "outputs": [
        {
          "output_type": "stream",
          "text": [
            "Epoch 1/30\n",
            "1719/1719 [==============================] - 11s 6ms/step - loss: 0.2385 - accuracy: 0.9357 - val_loss: 0.9838 - val_accuracy: 0.8838\n",
            "Epoch 2/30\n",
            "1719/1719 [==============================] - 8s 5ms/step - loss: 0.2256 - accuracy: 0.9334 - val_loss: 0.9027 - val_accuracy: 0.8868\n",
            "Epoch 3/30\n",
            "1719/1719 [==============================] - 8s 4ms/step - loss: 0.1901 - accuracy: 0.9390 - val_loss: 1.0024 - val_accuracy: 0.8896\n",
            "Epoch 4/30\n",
            "1719/1719 [==============================] - 8s 5ms/step - loss: 0.1678 - accuracy: 0.9437 - val_loss: 0.7732 - val_accuracy: 0.8950\n",
            "Epoch 5/30\n",
            "1719/1719 [==============================] - 8s 4ms/step - loss: 0.1639 - accuracy: 0.9447 - val_loss: 0.9275 - val_accuracy: 0.8888\n",
            "Epoch 6/30\n",
            "1719/1719 [==============================] - 8s 4ms/step - loss: 0.1629 - accuracy: 0.9457 - val_loss: 0.7985 - val_accuracy: 0.8924\n",
            "Epoch 7/30\n",
            "1719/1719 [==============================] - 8s 4ms/step - loss: 0.1452 - accuracy: 0.9499 - val_loss: 0.9151 - val_accuracy: 0.8884\n",
            "Epoch 8/30\n",
            "1719/1719 [==============================] - 8s 4ms/step - loss: 0.1495 - accuracy: 0.9496 - val_loss: 0.7910 - val_accuracy: 0.8904\n",
            "Epoch 9/30\n",
            "1719/1719 [==============================] - 8s 5ms/step - loss: 0.1359 - accuracy: 0.9518 - val_loss: 0.7837 - val_accuracy: 0.8944\n",
            "Epoch 10/30\n",
            "1719/1719 [==============================] - 8s 5ms/step - loss: 0.1394 - accuracy: 0.9513 - val_loss: 0.7813 - val_accuracy: 0.8940\n",
            "Epoch 11/30\n",
            "1719/1719 [==============================] - 8s 5ms/step - loss: 0.1391 - accuracy: 0.9519 - val_loss: 0.7793 - val_accuracy: 0.8890\n",
            "Epoch 12/30\n",
            "1719/1719 [==============================] - 8s 5ms/step - loss: 0.1259 - accuracy: 0.9557 - val_loss: 0.8128 - val_accuracy: 0.8946\n",
            "Epoch 13/30\n",
            "1719/1719 [==============================] - 8s 5ms/step - loss: 0.1298 - accuracy: 0.9526 - val_loss: 0.7816 - val_accuracy: 0.8954\n",
            "Epoch 14/30\n",
            "1719/1719 [==============================] - 8s 5ms/step - loss: 0.1157 - accuracy: 0.9592 - val_loss: 0.7788 - val_accuracy: 0.8962\n",
            "Epoch 15/30\n",
            "1719/1719 [==============================] - 8s 5ms/step - loss: 0.1279 - accuracy: 0.9540 - val_loss: 0.7689 - val_accuracy: 0.9002\n",
            "Epoch 16/30\n",
            "1719/1719 [==============================] - 8s 5ms/step - loss: 0.1150 - accuracy: 0.9585 - val_loss: 0.6963 - val_accuracy: 0.8924\n",
            "Epoch 17/30\n",
            "1719/1719 [==============================] - 8s 5ms/step - loss: 0.1170 - accuracy: 0.9572 - val_loss: 0.7931 - val_accuracy: 0.8960\n",
            "Epoch 18/30\n",
            "1719/1719 [==============================] - 8s 5ms/step - loss: 0.1124 - accuracy: 0.9587 - val_loss: 0.7398 - val_accuracy: 0.8950\n",
            "Epoch 19/30\n",
            "1719/1719 [==============================] - 8s 4ms/step - loss: 0.1102 - accuracy: 0.9596 - val_loss: 0.7183 - val_accuracy: 0.8974\n",
            "Epoch 20/30\n",
            "1719/1719 [==============================] - 8s 5ms/step - loss: 0.1154 - accuracy: 0.9592 - val_loss: 0.7783 - val_accuracy: 0.8966\n",
            "Epoch 21/30\n",
            "1719/1719 [==============================] - 8s 5ms/step - loss: 0.1034 - accuracy: 0.9625 - val_loss: 0.8108 - val_accuracy: 0.8932\n",
            "Epoch 22/30\n",
            "1719/1719 [==============================] - 8s 5ms/step - loss: 0.1067 - accuracy: 0.9602 - val_loss: 0.8222 - val_accuracy: 0.8948\n",
            "Epoch 23/30\n",
            "1719/1719 [==============================] - 8s 5ms/step - loss: 0.1023 - accuracy: 0.9615 - val_loss: 0.8390 - val_accuracy: 0.8962\n",
            "Epoch 24/30\n",
            "1719/1719 [==============================] - 8s 5ms/step - loss: 0.1006 - accuracy: 0.9642 - val_loss: 0.7736 - val_accuracy: 0.8976\n",
            "Epoch 25/30\n",
            "1719/1719 [==============================] - 8s 5ms/step - loss: 0.0956 - accuracy: 0.9643 - val_loss: 0.8695 - val_accuracy: 0.8934\n",
            "Epoch 26/30\n",
            "1719/1719 [==============================] - 8s 5ms/step - loss: 0.0989 - accuracy: 0.9646 - val_loss: 0.8878 - val_accuracy: 0.8980\n",
            "Epoch 27/30\n",
            "1719/1719 [==============================] - 8s 5ms/step - loss: 0.0950 - accuracy: 0.9658 - val_loss: 0.9135 - val_accuracy: 0.9014\n",
            "Epoch 28/30\n",
            "1719/1719 [==============================] - 8s 5ms/step - loss: 0.1012 - accuracy: 0.9629 - val_loss: 0.8618 - val_accuracy: 0.8962\n",
            "Epoch 29/30\n",
            "1719/1719 [==============================] - 8s 5ms/step - loss: 0.0874 - accuracy: 0.9674 - val_loss: 0.8911 - val_accuracy: 0.8960\n",
            "Epoch 30/30\n",
            "1719/1719 [==============================] - 8s 5ms/step - loss: 0.0918 - accuracy: 0.9664 - val_loss: 0.8168 - val_accuracy: 0.9002\n"
          ],
          "name": "stdout"
        }
      ]
    },
    {
      "cell_type": "code",
      "metadata": {
        "colab": {
          "base_uri": "https://localhost:8080/"
        },
        "id": "4uhItB_Ucq8q",
        "outputId": "17532d5c-be47-4d4c-84bc-7a11666fd675"
      },
      "source": [
        "history2.params"
      ],
      "execution_count": 115,
      "outputs": [
        {
          "output_type": "execute_result",
          "data": {
            "text/plain": [
              "{'epochs': 30, 'steps': 1719, 'verbose': 1}"
            ]
          },
          "metadata": {
            "tags": []
          },
          "execution_count": 115
        }
      ]
    },
    {
      "cell_type": "code",
      "metadata": {
        "colab": {
          "base_uri": "https://localhost:8080/",
          "height": 328
        },
        "id": "m0_juqtXcu5a",
        "outputId": "68ddebce-2b0d-452f-b430-51f987e2f11d"
      },
      "source": [
        "pd.DataFrame(history2.history).plot(figsize=(8, 5))\n",
        "plt.grid(True)\n",
        "plt.gca().set_ylim(0, 1)\n",
        "plt.show()"
      ],
      "execution_count": 116,
      "outputs": [
        {
          "output_type": "display_data",
          "data": {
            "image/png": "[encoded data removed]",
            "text/plain": [
              "<Figure size 576x360 with 1 Axes>"
            ]
          },
          "metadata": {
            "tags": [],
            "needs_background": "light"
          }
        }
      ]
    },
    {
      "cell_type": "markdown",
      "metadata": {
        "id": "fGiXTAoHcx5b"
      },
      "source": [
        "2. Plot Learning curves when using different batch size"
      ]
    },
    {
      "cell_type": "markdown",
      "metadata": {
        "id": "EfYU56xPeQ9D"
      },
      "source": [
        "First batch size is 10"
      ]
    },
    {
      "cell_type": "code",
      "metadata": {
        "colab": {
          "base_uri": "https://localhost:8080/"
        },
        "id": "YVYzDxYkdGdj",
        "outputId": "d46ab9a8-5392-4f75-eb16-3f2ef7512a24"
      },
      "source": [
        "history3 = model.fit(X_train, y_train, batch_size=10, epochs=30,\n",
        "                    validation_data=(X_valid, y_valid))"
      ],
      "execution_count": 117,
      "outputs": [
        {
          "output_type": "stream",
          "text": [
            "Epoch 1/30\n",
            "5500/5500 [==============================] - 26s 5ms/step - loss: 0.1903 - accuracy: 0.9392 - val_loss: 0.8954 - val_accuracy: 0.8880\n",
            "Epoch 2/30\n",
            "5500/5500 [==============================] - 25s 4ms/step - loss: 0.1621 - accuracy: 0.9453 - val_loss: 0.7068 - val_accuracy: 0.8894\n",
            "Epoch 3/30\n",
            "5500/5500 [==============================] - 25s 4ms/step - loss: 0.1653 - accuracy: 0.9442 - val_loss: 0.6792 - val_accuracy: 0.8988\n",
            "Epoch 4/30\n",
            "5500/5500 [==============================] - 24s 4ms/step - loss: 0.1561 - accuracy: 0.9471 - val_loss: 0.7442 - val_accuracy: 0.8772\n",
            "Epoch 5/30\n",
            "5500/5500 [==============================] - 24s 4ms/step - loss: 0.1533 - accuracy: 0.9472 - val_loss: 0.8931 - val_accuracy: 0.8754\n",
            "Epoch 6/30\n",
            "5500/5500 [==============================] - 25s 5ms/step - loss: 0.1539 - accuracy: 0.9462 - val_loss: 0.7232 - val_accuracy: 0.8930\n",
            "Epoch 7/30\n",
            "5500/5500 [==============================] - 25s 4ms/step - loss: 0.1463 - accuracy: 0.9496 - val_loss: 0.7105 - val_accuracy: 0.8910\n",
            "Epoch 8/30\n",
            "5500/5500 [==============================] - 24s 4ms/step - loss: 0.1450 - accuracy: 0.9493 - val_loss: 0.8410 - val_accuracy: 0.8876\n",
            "Epoch 9/30\n",
            "5500/5500 [==============================] - 26s 5ms/step - loss: 0.1470 - accuracy: 0.9508 - val_loss: 0.7719 - val_accuracy: 0.8910\n",
            "Epoch 10/30\n",
            "5500/5500 [==============================] - 24s 4ms/step - loss: 0.1409 - accuracy: 0.9499 - val_loss: 0.8060 - val_accuracy: 0.8912\n",
            "Epoch 11/30\n",
            "5500/5500 [==============================] - 25s 5ms/step - loss: 0.1391 - accuracy: 0.9501 - val_loss: 0.7837 - val_accuracy: 0.8936\n",
            "Epoch 12/30\n",
            "5500/5500 [==============================] - 25s 4ms/step - loss: 0.1396 - accuracy: 0.9517 - val_loss: 0.7436 - val_accuracy: 0.8934\n",
            "Epoch 13/30\n",
            "5500/5500 [==============================] - 25s 5ms/step - loss: 0.1376 - accuracy: 0.9531 - val_loss: 0.8422 - val_accuracy: 0.8932\n",
            "Epoch 14/30\n",
            "5500/5500 [==============================] - 24s 4ms/step - loss: 0.1311 - accuracy: 0.9538 - val_loss: 0.7366 - val_accuracy: 0.8876\n",
            "Epoch 15/30\n",
            "5500/5500 [==============================] - 24s 4ms/step - loss: 0.1311 - accuracy: 0.9535 - val_loss: 0.8073 - val_accuracy: 0.8840\n",
            "Epoch 16/30\n",
            "5500/5500 [==============================] - 24s 4ms/step - loss: 0.1284 - accuracy: 0.9544 - val_loss: 0.9386 - val_accuracy: 0.8860\n",
            "Epoch 17/30\n",
            "5500/5500 [==============================] - 24s 4ms/step - loss: 0.1293 - accuracy: 0.9559 - val_loss: 0.8606 - val_accuracy: 0.8928\n",
            "Epoch 18/30\n",
            "5500/5500 [==============================] - 24s 4ms/step - loss: 0.1274 - accuracy: 0.9552 - val_loss: 0.8265 - val_accuracy: 0.8894\n",
            "Epoch 19/30\n",
            "5500/5500 [==============================] - 24s 4ms/step - loss: 0.1209 - accuracy: 0.9577 - val_loss: 0.9356 - val_accuracy: 0.8872\n",
            "Epoch 20/30\n",
            "5500/5500 [==============================] - 24s 4ms/step - loss: 0.1316 - accuracy: 0.9553 - val_loss: 0.8638 - val_accuracy: 0.8904\n",
            "Epoch 21/30\n",
            "5500/5500 [==============================] - 24s 4ms/step - loss: 0.1203 - accuracy: 0.9565 - val_loss: 0.8720 - val_accuracy: 0.8878\n",
            "Epoch 22/30\n",
            "5500/5500 [==============================] - 27s 5ms/step - loss: 0.1200 - accuracy: 0.9578 - val_loss: 0.8806 - val_accuracy: 0.8894\n",
            "Epoch 23/30\n",
            "5500/5500 [==============================] - 24s 4ms/step - loss: 0.1262 - accuracy: 0.9557 - val_loss: 0.9189 - val_accuracy: 0.8942\n",
            "Epoch 24/30\n",
            "5500/5500 [==============================] - 24s 4ms/step - loss: 0.1192 - accuracy: 0.9583 - val_loss: 0.8849 - val_accuracy: 0.8918\n",
            "Epoch 25/30\n",
            "5500/5500 [==============================] - 24s 4ms/step - loss: 0.1187 - accuracy: 0.9580 - val_loss: 0.9233 - val_accuracy: 0.8972\n",
            "Epoch 26/30\n",
            "5500/5500 [==============================] - 25s 4ms/step - loss: 0.1193 - accuracy: 0.9596 - val_loss: 0.8639 - val_accuracy: 0.8950\n",
            "Epoch 27/30\n",
            "5500/5500 [==============================] - 24s 4ms/step - loss: 0.1158 - accuracy: 0.9598 - val_loss: 0.8844 - val_accuracy: 0.8890\n",
            "Epoch 28/30\n",
            "5500/5500 [==============================] - 24s 4ms/step - loss: 0.1163 - accuracy: 0.9597 - val_loss: 0.9401 - val_accuracy: 0.8900\n",
            "Epoch 29/30\n",
            "5500/5500 [==============================] - 24s 4ms/step - loss: 0.1136 - accuracy: 0.9618 - val_loss: 0.9176 - val_accuracy: 0.8930\n",
            "Epoch 30/30\n",
            "5500/5500 [==============================] - 24s 4ms/step - loss: 0.1087 - accuracy: 0.9614 - val_loss: 1.0659 - val_accuracy: 0.8922\n"
          ],
          "name": "stdout"
        }
      ]
    },
    {
      "cell_type": "code",
      "metadata": {
        "colab": {
          "base_uri": "https://localhost:8080/",
          "height": 328
        },
        "id": "1fr-hJ7Ue_yI",
        "outputId": "f4ce0773-9827-46dc-fbe7-ceb9c8d24db7"
      },
      "source": [
        "pd.DataFrame(history3.history).plot(figsize=(8, 5))\n",
        "plt.grid(True)\n",
        "plt.gca().set_ylim(0, 1)\n",
        "plt.show()"
      ],
      "execution_count": 118,
      "outputs": [
        {
          "output_type": "display_data",
          "data": {
            "image/png": "[encoded data removed]",
            "text/plain": [
              "<Figure size 576x360 with 1 Axes>"
            ]
          },
          "metadata": {
            "tags": [],
            "needs_background": "light"
          }
        }
      ]
    },
    {
      "cell_type": "markdown",
      "metadata": {
        "id": "qrviHwOBeaze"
      },
      "source": [
        "Second batch size is 40"
      ]
    },
    {
      "cell_type": "code",
      "metadata": {
        "colab": {
          "base_uri": "https://localhost:8080/"
        },
        "id": "KfB7-ifOd7zb",
        "outputId": "ba3df287-11bb-424a-aa55-fbb68d71ccfc"
      },
      "source": [
        "history4 = model.fit(X_train, y_train, batch_size=40, epochs=30,\n",
        "                    validation_data=(X_valid, y_valid))"
      ],
      "execution_count": 119,
      "outputs": [
        {
          "output_type": "stream",
          "text": [
            "Epoch 1/30\n",
            "1375/1375 [==============================] - 7s 5ms/step - loss: 0.0686 - accuracy: 0.9769 - val_loss: 1.0370 - val_accuracy: 0.9026\n",
            "Epoch 2/30\n",
            "1375/1375 [==============================] - 7s 5ms/step - loss: 0.0575 - accuracy: 0.9788 - val_loss: 1.0487 - val_accuracy: 0.9014\n",
            "Epoch 3/30\n",
            "1375/1375 [==============================] - 7s 5ms/step - loss: 0.0599 - accuracy: 0.9779 - val_loss: 1.0933 - val_accuracy: 0.9004\n",
            "Epoch 4/30\n",
            "1375/1375 [==============================] - 7s 5ms/step - loss: 0.0611 - accuracy: 0.9772 - val_loss: 1.2375 - val_accuracy: 0.8956\n",
            "Epoch 5/30\n",
            "1375/1375 [==============================] - 7s 5ms/step - loss: 0.0658 - accuracy: 0.9767 - val_loss: 1.0877 - val_accuracy: 0.8988\n",
            "Epoch 6/30\n",
            "1375/1375 [==============================] - 7s 5ms/step - loss: 0.0562 - accuracy: 0.9793 - val_loss: 1.1271 - val_accuracy: 0.9024\n",
            "Epoch 7/30\n",
            "1375/1375 [==============================] - 7s 5ms/step - loss: 0.0608 - accuracy: 0.9776 - val_loss: 1.1382 - val_accuracy: 0.9026\n",
            "Epoch 8/30\n",
            "1375/1375 [==============================] - 7s 5ms/step - loss: 0.0558 - accuracy: 0.9795 - val_loss: 1.2128 - val_accuracy: 0.8996\n",
            "Epoch 9/30\n",
            "1375/1375 [==============================] - 7s 5ms/step - loss: 0.0626 - accuracy: 0.9778 - val_loss: 1.1564 - val_accuracy: 0.9016\n",
            "Epoch 10/30\n",
            "1375/1375 [==============================] - 7s 5ms/step - loss: 0.0534 - accuracy: 0.9806 - val_loss: 1.1978 - val_accuracy: 0.9024\n",
            "Epoch 11/30\n",
            "1375/1375 [==============================] - 7s 5ms/step - loss: 0.0520 - accuracy: 0.9805 - val_loss: 1.1364 - val_accuracy: 0.8976\n",
            "Epoch 12/30\n",
            "1375/1375 [==============================] - 7s 5ms/step - loss: 0.0530 - accuracy: 0.9807 - val_loss: 1.1364 - val_accuracy: 0.8972\n",
            "Epoch 13/30\n",
            "1375/1375 [==============================] - 7s 5ms/step - loss: 0.0520 - accuracy: 0.9806 - val_loss: 1.1942 - val_accuracy: 0.8976\n",
            "Epoch 14/30\n",
            "1375/1375 [==============================] - 7s 5ms/step - loss: 0.0514 - accuracy: 0.9810 - val_loss: 1.2655 - val_accuracy: 0.8990\n",
            "Epoch 15/30\n",
            "1375/1375 [==============================] - 7s 5ms/step - loss: 0.0556 - accuracy: 0.9800 - val_loss: 1.2652 - val_accuracy: 0.8996\n",
            "Epoch 16/30\n",
            "1375/1375 [==============================] - 8s 6ms/step - loss: 0.0455 - accuracy: 0.9832 - val_loss: 1.2842 - val_accuracy: 0.9006\n",
            "Epoch 17/30\n",
            "1375/1375 [==============================] - 7s 5ms/step - loss: 0.0478 - accuracy: 0.9824 - val_loss: 1.2779 - val_accuracy: 0.8978\n",
            "Epoch 18/30\n",
            "1375/1375 [==============================] - 7s 5ms/step - loss: 0.0471 - accuracy: 0.9823 - val_loss: 1.3209 - val_accuracy: 0.8988\n",
            "Epoch 19/30\n",
            "1375/1375 [==============================] - 7s 5ms/step - loss: 0.0484 - accuracy: 0.9823 - val_loss: 1.2626 - val_accuracy: 0.8978\n",
            "Epoch 20/30\n",
            "1375/1375 [==============================] - 7s 5ms/step - loss: 0.0486 - accuracy: 0.9813 - val_loss: 1.2967 - val_accuracy: 0.9042\n",
            "Epoch 21/30\n",
            "1375/1375 [==============================] - 7s 5ms/step - loss: 0.0476 - accuracy: 0.9826 - val_loss: 1.4622 - val_accuracy: 0.9020\n",
            "Epoch 22/30\n",
            "1375/1375 [==============================] - 7s 5ms/step - loss: 0.0464 - accuracy: 0.9834 - val_loss: 1.3176 - val_accuracy: 0.8974\n",
            "Epoch 23/30\n",
            "1375/1375 [==============================] - 7s 5ms/step - loss: 0.0466 - accuracy: 0.9829 - val_loss: 1.3536 - val_accuracy: 0.8958\n",
            "Epoch 24/30\n",
            "1375/1375 [==============================] - 7s 5ms/step - loss: 0.0464 - accuracy: 0.9839 - val_loss: 1.3497 - val_accuracy: 0.8996\n",
            "Epoch 25/30\n",
            "1375/1375 [==============================] - 7s 5ms/step - loss: 0.0418 - accuracy: 0.9842 - val_loss: 1.3917 - val_accuracy: 0.8968\n",
            "Epoch 26/30\n",
            "1375/1375 [==============================] - 7s 5ms/step - loss: 0.0453 - accuracy: 0.9833 - val_loss: 1.4539 - val_accuracy: 0.8974\n",
            "Epoch 27/30\n",
            "1375/1375 [==============================] - 7s 5ms/step - loss: 0.0432 - accuracy: 0.9840 - val_loss: 1.4770 - val_accuracy: 0.8974\n",
            "Epoch 28/30\n",
            "1375/1375 [==============================] - 8s 6ms/step - loss: 0.0454 - accuracy: 0.9839 - val_loss: 1.4786 - val_accuracy: 0.8946\n",
            "Epoch 29/30\n",
            "1375/1375 [==============================] - 7s 5ms/step - loss: 0.0445 - accuracy: 0.9834 - val_loss: 1.4516 - val_accuracy: 0.8974\n",
            "Epoch 30/30\n",
            "1375/1375 [==============================] - 7s 5ms/step - loss: 0.0399 - accuracy: 0.9855 - val_loss: 1.5195 - val_accuracy: 0.8958\n"
          ],
          "name": "stdout"
        }
      ]
    },
    {
      "cell_type": "code",
      "metadata": {
        "colab": {
          "base_uri": "https://localhost:8080/",
          "height": 328
        },
        "id": "bPjLW9A_ep7e",
        "outputId": "8a5f65c2-ce43-47c3-f324-684ba84d33f9"
      },
      "source": [
        "pd.DataFrame(history4.history).plot(figsize=(8, 5))\n",
        "plt.grid(True)\n",
        "plt.gca().set_ylim(0, 1)\n",
        "plt.show()"
      ],
      "execution_count": 120,
      "outputs": [
        {
          "output_type": "display_data",
          "data": {
            "image/png": "[encoded data removed]",
            "text/plain": [
              "<Figure size 576x360 with 1 Axes>"
            ]
          },
          "metadata": {
            "tags": [],
            "needs_background": "light"
          }
        }
      ]
    },
    {
      "cell_type": "markdown",
      "metadata": {
        "id": "rk9C6fD9fF6C"
      },
      "source": [
        "3. Plot Learning curves when using different number of epochs"
      ]
    },
    {
      "cell_type": "markdown",
      "metadata": {
        "id": "aBFSCoIlfIrr"
      },
      "source": [
        "First epoch is 12"
      ]
    },
    {
      "cell_type": "code",
      "metadata": {
        "colab": {
          "base_uri": "https://localhost:8080/"
        },
        "id": "hKsolstHfH5e",
        "outputId": "287ef251-a46f-4e39-d713-17b018193858"
      },
      "source": [
        "history5 = model.fit(X_train, y_train, batch_size=32, epochs=12,\n",
        "                    validation_data=(X_valid, y_valid))"
      ],
      "execution_count": 121,
      "outputs": [
        {
          "output_type": "stream",
          "text": [
            "Epoch 1/12\n",
            "1719/1719 [==============================] - 8s 4ms/step - loss: 0.0535 - accuracy: 0.9813 - val_loss: 1.4197 - val_accuracy: 0.8958\n",
            "Epoch 2/12\n",
            "1719/1719 [==============================] - 8s 4ms/step - loss: 0.0490 - accuracy: 0.9822 - val_loss: 1.5315 - val_accuracy: 0.8976\n",
            "Epoch 3/12\n",
            "1719/1719 [==============================] - 8s 4ms/step - loss: 0.0456 - accuracy: 0.9832 - val_loss: 1.4403 - val_accuracy: 0.9006\n",
            "Epoch 4/12\n",
            "1719/1719 [==============================] - 8s 4ms/step - loss: 0.0469 - accuracy: 0.9835 - val_loss: 1.4560 - val_accuracy: 0.8972\n",
            "Epoch 5/12\n",
            "1719/1719 [==============================] - 8s 4ms/step - loss: 0.0406 - accuracy: 0.9853 - val_loss: 1.3340 - val_accuracy: 0.8974\n",
            "Epoch 6/12\n",
            "1719/1719 [==============================] - 8s 4ms/step - loss: 0.0434 - accuracy: 0.9836 - val_loss: 1.4249 - val_accuracy: 0.8970\n",
            "Epoch 7/12\n",
            "1719/1719 [==============================] - 8s 4ms/step - loss: 0.0493 - accuracy: 0.9834 - val_loss: 1.4664 - val_accuracy: 0.8972\n",
            "Epoch 8/12\n",
            "1719/1719 [==============================] - 8s 4ms/step - loss: 0.0470 - accuracy: 0.9834 - val_loss: 1.4508 - val_accuracy: 0.8980\n",
            "Epoch 9/12\n",
            "1719/1719 [==============================] - 8s 4ms/step - loss: 0.0429 - accuracy: 0.9843 - val_loss: 1.3310 - val_accuracy: 0.8998\n",
            "Epoch 10/12\n",
            "1719/1719 [==============================] - 8s 4ms/step - loss: 0.0505 - accuracy: 0.9826 - val_loss: 1.3848 - val_accuracy: 0.8930\n",
            "Epoch 11/12\n",
            "1719/1719 [==============================] - 8s 4ms/step - loss: 0.0404 - accuracy: 0.9857 - val_loss: 1.4536 - val_accuracy: 0.8984\n",
            "Epoch 12/12\n",
            "1719/1719 [==============================] - 8s 4ms/step - loss: 0.0396 - accuracy: 0.9851 - val_loss: 1.8161 - val_accuracy: 0.8922\n"
          ],
          "name": "stdout"
        }
      ]
    },
    {
      "cell_type": "code",
      "metadata": {
        "colab": {
          "base_uri": "https://localhost:8080/",
          "height": 328
        },
        "id": "NVTxOfV1fbQ9",
        "outputId": "f139d87f-6466-469e-c8f4-ff33e1290b71"
      },
      "source": [
        "pd.DataFrame(history5.history).plot(figsize=(8, 5))\n",
        "plt.grid(True)\n",
        "plt.gca().set_ylim(0, 1)\n",
        "plt.show()"
      ],
      "execution_count": 122,
      "outputs": [
        {
          "output_type": "display_data",
          "data": {
            "image/png": "[encoded data removed]",
            "text/plain": [
              "<Figure size 576x360 with 1 Axes>"
            ]
          },
          "metadata": {
            "tags": [],
            "needs_background": "light"
          }
        }
      ]
    },
    {
      "cell_type": "markdown",
      "metadata": {
        "id": "XerKrcgnfljx"
      },
      "source": [
        "Second epoch is 44"
      ]
    },
    {
      "cell_type": "code",
      "metadata": {
        "colab": {
          "base_uri": "https://localhost:8080/"
        },
        "id": "gYOhyEcUfeKF",
        "outputId": "b863f548-eddc-4ca7-9886-e1f683d48b15"
      },
      "source": [
        "history5 = model.fit(X_train, y_train, batch_size=32, epochs=44,\n",
        "                    validation_data=(X_valid, y_valid))"
      ],
      "execution_count": 123,
      "outputs": [
        {
          "output_type": "stream",
          "text": [
            "Epoch 1/44\n",
            "1719/1719 [==============================] - 8s 4ms/step - loss: 0.0446 - accuracy: 0.9844 - val_loss: 1.5253 - val_accuracy: 0.8990\n",
            "Epoch 2/44\n",
            "1719/1719 [==============================] - 8s 4ms/step - loss: 0.0439 - accuracy: 0.9845 - val_loss: 1.3857 - val_accuracy: 0.8978\n",
            "Epoch 3/44\n",
            "1719/1719 [==============================] - 8s 4ms/step - loss: 0.0420 - accuracy: 0.9849 - val_loss: 1.4612 - val_accuracy: 0.8956\n",
            "Epoch 4/44\n",
            "1719/1719 [==============================] - 8s 4ms/step - loss: 0.0457 - accuracy: 0.9834 - val_loss: 1.5864 - val_accuracy: 0.8912\n",
            "Epoch 5/44\n",
            "1719/1719 [==============================] - 8s 4ms/step - loss: 0.0386 - accuracy: 0.9867 - val_loss: 1.5875 - val_accuracy: 0.8944\n",
            "Epoch 6/44\n",
            "1719/1719 [==============================] - 8s 4ms/step - loss: 0.0391 - accuracy: 0.9853 - val_loss: 1.5132 - val_accuracy: 0.8912\n",
            "Epoch 7/44\n",
            "1719/1719 [==============================] - 7s 4ms/step - loss: 0.0431 - accuracy: 0.9845 - val_loss: 1.4382 - val_accuracy: 0.8924\n",
            "Epoch 8/44\n",
            "1719/1719 [==============================] - 7s 4ms/step - loss: 0.0367 - accuracy: 0.9865 - val_loss: 1.7224 - val_accuracy: 0.8958\n",
            "Epoch 9/44\n",
            "1719/1719 [==============================] - 8s 4ms/step - loss: 0.0392 - accuracy: 0.9856 - val_loss: 1.6124 - val_accuracy: 0.8972\n",
            "Epoch 10/44\n",
            "1719/1719 [==============================] - 8s 4ms/step - loss: 0.0393 - accuracy: 0.9855 - val_loss: 1.5282 - val_accuracy: 0.8930\n",
            "Epoch 11/44\n",
            "1719/1719 [==============================] - 8s 4ms/step - loss: 0.0355 - accuracy: 0.9870 - val_loss: 1.5914 - val_accuracy: 0.8912\n",
            "Epoch 12/44\n",
            "1719/1719 [==============================] - 8s 4ms/step - loss: 0.0465 - accuracy: 0.9844 - val_loss: 1.6395 - val_accuracy: 0.8960\n",
            "Epoch 13/44\n",
            "1719/1719 [==============================] - 7s 4ms/step - loss: 0.0316 - accuracy: 0.9879 - val_loss: 1.5958 - val_accuracy: 0.8938\n",
            "Epoch 14/44\n",
            "1719/1719 [==============================] - 8s 4ms/step - loss: 0.0450 - accuracy: 0.9844 - val_loss: 1.6609 - val_accuracy: 0.8940\n",
            "Epoch 15/44\n",
            "1719/1719 [==============================] - 7s 4ms/step - loss: 0.0378 - accuracy: 0.9864 - val_loss: 1.6538 - val_accuracy: 0.8884\n",
            "Epoch 16/44\n",
            "1719/1719 [==============================] - 8s 5ms/step - loss: 0.0365 - accuracy: 0.9869 - val_loss: 1.6227 - val_accuracy: 0.8984\n",
            "Epoch 17/44\n",
            "1719/1719 [==============================] - 8s 5ms/step - loss: 0.0429 - accuracy: 0.9849 - val_loss: 1.6538 - val_accuracy: 0.8926\n",
            "Epoch 18/44\n",
            "1719/1719 [==============================] - 8s 4ms/step - loss: 0.0370 - accuracy: 0.9869 - val_loss: 1.8257 - val_accuracy: 0.8942\n",
            "Epoch 19/44\n",
            "1719/1719 [==============================] - 8s 4ms/step - loss: 0.0358 - accuracy: 0.9876 - val_loss: 1.6627 - val_accuracy: 0.9006\n",
            "Epoch 20/44\n",
            "1719/1719 [==============================] - 8s 4ms/step - loss: 0.0416 - accuracy: 0.9856 - val_loss: 1.5492 - val_accuracy: 0.8916\n",
            "Epoch 21/44\n",
            "1719/1719 [==============================] - 8s 4ms/step - loss: 0.0328 - accuracy: 0.9881 - val_loss: 1.7280 - val_accuracy: 0.8994\n",
            "Epoch 22/44\n",
            "1719/1719 [==============================] - 8s 4ms/step - loss: 0.0432 - accuracy: 0.9856 - val_loss: 1.6032 - val_accuracy: 0.8972\n",
            "Epoch 23/44\n",
            "1719/1719 [==============================] - 7s 4ms/step - loss: 0.0359 - accuracy: 0.9866 - val_loss: 1.6387 - val_accuracy: 0.8962\n",
            "Epoch 24/44\n",
            "1719/1719 [==============================] - 7s 4ms/step - loss: 0.0393 - accuracy: 0.9865 - val_loss: 1.7260 - val_accuracy: 0.8898\n",
            "Epoch 25/44\n",
            "1719/1719 [==============================] - 8s 4ms/step - loss: 0.0304 - accuracy: 0.9892 - val_loss: 1.8172 - val_accuracy: 0.8926\n",
            "Epoch 26/44\n",
            "1719/1719 [==============================] - 8s 4ms/step - loss: 0.0417 - accuracy: 0.9858 - val_loss: 1.7911 - val_accuracy: 0.8976\n",
            "Epoch 27/44\n",
            "1719/1719 [==============================] - 8s 5ms/step - loss: 0.0373 - accuracy: 0.9871 - val_loss: 1.7044 - val_accuracy: 0.8986\n",
            "Epoch 28/44\n",
            "1719/1719 [==============================] - 7s 4ms/step - loss: 0.0324 - accuracy: 0.9882 - val_loss: 1.6205 - val_accuracy: 0.8968\n",
            "Epoch 29/44\n",
            "1719/1719 [==============================] - 8s 4ms/step - loss: 0.0341 - accuracy: 0.9887 - val_loss: 1.6789 - val_accuracy: 0.8992\n",
            "Epoch 30/44\n",
            "1719/1719 [==============================] - 8s 4ms/step - loss: 0.0321 - accuracy: 0.9882 - val_loss: 1.6075 - val_accuracy: 0.8904\n",
            "Epoch 31/44\n",
            "1719/1719 [==============================] - 8s 4ms/step - loss: 0.0423 - accuracy: 0.9863 - val_loss: 1.7955 - val_accuracy: 0.8936\n",
            "Epoch 32/44\n",
            "1719/1719 [==============================] - 7s 4ms/step - loss: 0.0347 - accuracy: 0.9880 - val_loss: 1.6779 - val_accuracy: 0.9012\n",
            "Epoch 33/44\n",
            "1719/1719 [==============================] - 8s 4ms/step - loss: 0.0304 - accuracy: 0.9893 - val_loss: 1.6998 - val_accuracy: 0.8960\n",
            "Epoch 34/44\n",
            "1719/1719 [==============================] - 7s 4ms/step - loss: 0.0362 - accuracy: 0.9873 - val_loss: 1.7394 - val_accuracy: 0.9010\n",
            "Epoch 35/44\n",
            "1719/1719 [==============================] - 7s 4ms/step - loss: 0.0349 - accuracy: 0.9877 - val_loss: 1.8287 - val_accuracy: 0.8950\n",
            "Epoch 36/44\n",
            "1719/1719 [==============================] - 8s 4ms/step - loss: 0.0307 - accuracy: 0.9885 - val_loss: 1.8358 - val_accuracy: 0.8908\n",
            "Epoch 37/44\n",
            "1719/1719 [==============================] - 8s 4ms/step - loss: 0.0375 - accuracy: 0.9870 - val_loss: 1.7808 - val_accuracy: 0.8952\n",
            "Epoch 38/44\n",
            "1719/1719 [==============================] - 8s 4ms/step - loss: 0.0391 - accuracy: 0.9873 - val_loss: 1.9228 - val_accuracy: 0.8928\n",
            "Epoch 39/44\n",
            "1719/1719 [==============================] - 8s 4ms/step - loss: 0.0310 - accuracy: 0.9891 - val_loss: 1.9103 - val_accuracy: 0.8948\n",
            "Epoch 40/44\n",
            "1719/1719 [==============================] - 7s 4ms/step - loss: 0.0328 - accuracy: 0.9881 - val_loss: 1.8844 - val_accuracy: 0.8978\n",
            "Epoch 41/44\n",
            "1719/1719 [==============================] - 7s 4ms/step - loss: 0.0343 - accuracy: 0.9882 - val_loss: 1.7858 - val_accuracy: 0.8996\n",
            "Epoch 42/44\n",
            "1719/1719 [==============================] - 8s 4ms/step - loss: 0.0314 - accuracy: 0.9884 - val_loss: 1.8446 - val_accuracy: 0.8952\n",
            "Epoch 43/44\n",
            "1719/1719 [==============================] - 8s 4ms/step - loss: 0.0400 - accuracy: 0.9871 - val_loss: 1.8025 - val_accuracy: 0.8930\n",
            "Epoch 44/44\n",
            "1719/1719 [==============================] - 8s 4ms/step - loss: 0.0280 - accuracy: 0.9903 - val_loss: 1.8267 - val_accuracy: 0.8942\n"
          ],
          "name": "stdout"
        }
      ]
    },
    {
      "cell_type": "code",
      "metadata": {
        "colab": {
          "base_uri": "https://localhost:8080/",
          "height": 328
        },
        "id": "0En8twlifeYI",
        "outputId": "3a029e31-2ed5-49e2-ba9b-8f4f22d62221"
      },
      "source": [
        "pd.DataFrame(history5.history).plot(figsize=(8, 5))\n",
        "plt.grid(True)\n",
        "plt.gca().set_ylim(0, 1)\n",
        "plt.show()"
      ],
      "execution_count": 124,
      "outputs": [
        {
          "output_type": "display_data",
          "data": {
            "image/png": "[encoded data removed]",
            "text/plain": [
              "<Figure size 576x360 with 1 Axes>"
            ]
          },
          "metadata": {
            "tags": [],
            "needs_background": "light"
          }
        }
      ]
    },
    {
      "cell_type": "markdown",
      "metadata": {
        "id": "e_YoFskqfsAd"
      },
      "source": [
        " 4.Add additional neurons and use Dropout Layer. Plot Learning curves."
      ]
    },
    {
      "cell_type": "code",
      "metadata": {
        "id": "5ZbIgM1IkfjR"
      },
      "source": [
        "model = keras.models.Sequential()\n",
        "model.add(keras.layers.Flatten(input_shape=[28, 28]))\n",
        "model.add(keras.layers.Dense(400, activation=\"relu\"))\n",
        "model.add((keras.layers.Dropout(0.6)))\n",
        "model.add(keras.layers.Dense(150, activation=\"relu\"))\n",
        "model.add(keras.layers.Dense(70, activation=\"softmax\"))"
      ],
      "execution_count": 125,
      "outputs": []
    },
    {
      "cell_type": "code",
      "metadata": {
        "colab": {
          "base_uri": "https://localhost:8080/"
        },
        "id": "bqvJh0TJmjGn",
        "outputId": "a364374f-801c-4d11-fd9a-66f59bf239fb"
      },
      "source": [
        "model.layers"
      ],
      "execution_count": 126,
      "outputs": [
        {
          "output_type": "execute_result",
          "data": {
            "text/plain": [
              "[<tensorflow.python.keras.layers.core.Flatten at 0x7f4d551c8f60>,\n",
              " <tensorflow.python.keras.layers.core.Dense at 0x7f4d55f013c8>,\n",
              " <tensorflow.python.keras.layers.core.Dropout at 0x7f4d4f576a58>,\n",
              " <tensorflow.python.keras.layers.core.Dense at 0x7f4d4f3a2a20>,\n",
              " <tensorflow.python.keras.layers.core.Dense at 0x7f4d506fa630>]"
            ]
          },
          "metadata": {
            "tags": []
          },
          "execution_count": 126
        }
      ]
    },
    {
      "cell_type": "code",
      "metadata": {
        "colab": {
          "base_uri": "https://localhost:8080/"
        },
        "id": "L44syg-3mjsi",
        "outputId": "53b498be-9bef-4ced-bae6-353c7e53d915"
      },
      "source": [
        "model.summary()"
      ],
      "execution_count": 127,
      "outputs": [
        {
          "output_type": "stream",
          "text": [
            "Model: \"sequential\"\n",
            "_________________________________________________________________\n",
            "Layer (type)                 Output Shape              Param #   \n",
            "=================================================================\n",
            "flatten (Flatten)            (None, 784)               0         \n",
            "_________________________________________________________________\n",
            "dense (Dense)                (None, 400)               314000    \n",
            "_________________________________________________________________\n",
            "dropout (Dropout)            (None, 400)               0         \n",
            "_________________________________________________________________\n",
            "dense_1 (Dense)              (None, 150)               60150     \n",
            "_________________________________________________________________\n",
            "dense_2 (Dense)              (None, 70)                10570     \n",
            "=================================================================\n",
            "Total params: 384,720\n",
            "Trainable params: 384,720\n",
            "Non-trainable params: 0\n",
            "_________________________________________________________________\n"
          ],
          "name": "stdout"
        }
      ]
    },
    {
      "cell_type": "code",
      "metadata": {
        "id": "-MaQapkis489"
      },
      "source": [
        "model.compile(loss=\"sparse_categorical_crossentropy\",\n",
        "              optimizer=\"sgd\",\n",
        "              metrics=[\"accuracy\"])"
      ],
      "execution_count": 133,
      "outputs": []
    },
    {
      "cell_type": "code",
      "metadata": {
        "colab": {
          "base_uri": "https://localhost:8080/"
        },
        "id": "WseZHaBImwBv",
        "outputId": "97eeb330-b741-402b-f6c6-13010e4eadd9"
      },
      "source": [
        "history7 = model.fit(X_train, y_train, batch_size=32, epochs=30,\n",
        "                    validation_data=(X_valid, y_valid))"
      ],
      "execution_count": 134,
      "outputs": [
        {
          "output_type": "stream",
          "text": [
            "Epoch 1/30\n",
            "1719/1719 [==============================] - 6s 4ms/step - loss: 0.9633 - accuracy: 0.6745 - val_loss: 0.5847 - val_accuracy: 0.7944\n",
            "Epoch 2/30\n",
            "1719/1719 [==============================] - 6s 3ms/step - loss: 0.6010 - accuracy: 0.7901 - val_loss: 0.4877 - val_accuracy: 0.8260\n",
            "Epoch 3/30\n",
            "1719/1719 [==============================] - 6s 3ms/step - loss: 0.5314 - accuracy: 0.8105 - val_loss: 0.4497 - val_accuracy: 0.8418\n",
            "Epoch 4/30\n",
            "1719/1719 [==============================] - 6s 3ms/step - loss: 0.4905 - accuracy: 0.8263 - val_loss: 0.4102 - val_accuracy: 0.8614\n",
            "Epoch 5/30\n",
            "1719/1719 [==============================] - 6s 3ms/step - loss: 0.4668 - accuracy: 0.8339 - val_loss: 0.3995 - val_accuracy: 0.8622\n",
            "Epoch 6/30\n",
            "1719/1719 [==============================] - 6s 3ms/step - loss: 0.4456 - accuracy: 0.8406 - val_loss: 0.3830 - val_accuracy: 0.8676\n",
            "Epoch 7/30\n",
            "1719/1719 [==============================] - 6s 3ms/step - loss: 0.4299 - accuracy: 0.8462 - val_loss: 0.3745 - val_accuracy: 0.8712\n",
            "Epoch 8/30\n",
            "1719/1719 [==============================] - 6s 4ms/step - loss: 0.4200 - accuracy: 0.8501 - val_loss: 0.3643 - val_accuracy: 0.8734\n",
            "Epoch 9/30\n",
            "1719/1719 [==============================] - 6s 4ms/step - loss: 0.4102 - accuracy: 0.8530 - val_loss: 0.3652 - val_accuracy: 0.8768\n",
            "Epoch 10/30\n",
            "1719/1719 [==============================] - 6s 3ms/step - loss: 0.4007 - accuracy: 0.8569 - val_loss: 0.3606 - val_accuracy: 0.8772\n",
            "Epoch 11/30\n",
            "1719/1719 [==============================] - 6s 3ms/step - loss: 0.3911 - accuracy: 0.8588 - val_loss: 0.3436 - val_accuracy: 0.8802\n",
            "Epoch 12/30\n",
            "1719/1719 [==============================] - 6s 3ms/step - loss: 0.3850 - accuracy: 0.8614 - val_loss: 0.3394 - val_accuracy: 0.8812\n",
            "Epoch 13/30\n",
            "1719/1719 [==============================] - 6s 3ms/step - loss: 0.3762 - accuracy: 0.8655 - val_loss: 0.3375 - val_accuracy: 0.8830\n",
            "Epoch 14/30\n",
            "1719/1719 [==============================] - 6s 3ms/step - loss: 0.3708 - accuracy: 0.8655 - val_loss: 0.3397 - val_accuracy: 0.8790\n",
            "Epoch 15/30\n",
            "1719/1719 [==============================] - 6s 3ms/step - loss: 0.3676 - accuracy: 0.8673 - val_loss: 0.3305 - val_accuracy: 0.8850\n",
            "Epoch 16/30\n",
            "1719/1719 [==============================] - 6s 3ms/step - loss: 0.3616 - accuracy: 0.8701 - val_loss: 0.3343 - val_accuracy: 0.8854\n",
            "Epoch 17/30\n",
            "1719/1719 [==============================] - 6s 3ms/step - loss: 0.3590 - accuracy: 0.8706 - val_loss: 0.3294 - val_accuracy: 0.8862\n",
            "Epoch 18/30\n",
            "1719/1719 [==============================] - 6s 3ms/step - loss: 0.3539 - accuracy: 0.8718 - val_loss: 0.3216 - val_accuracy: 0.8886\n",
            "Epoch 19/30\n",
            "1719/1719 [==============================] - 6s 3ms/step - loss: 0.3482 - accuracy: 0.8724 - val_loss: 0.3275 - val_accuracy: 0.8840\n",
            "Epoch 20/30\n",
            "1719/1719 [==============================] - 6s 3ms/step - loss: 0.3430 - accuracy: 0.8763 - val_loss: 0.3241 - val_accuracy: 0.8848\n",
            "Epoch 21/30\n",
            "1719/1719 [==============================] - 6s 3ms/step - loss: 0.3437 - accuracy: 0.8758 - val_loss: 0.3317 - val_accuracy: 0.8862\n",
            "Epoch 22/30\n",
            "1719/1719 [==============================] - 6s 4ms/step - loss: 0.3358 - accuracy: 0.8771 - val_loss: 0.3154 - val_accuracy: 0.8870\n",
            "Epoch 23/30\n",
            "1719/1719 [==============================] - 6s 3ms/step - loss: 0.3331 - accuracy: 0.8780 - val_loss: 0.3180 - val_accuracy: 0.8884\n",
            "Epoch 24/30\n",
            "1719/1719 [==============================] - 6s 3ms/step - loss: 0.3305 - accuracy: 0.8795 - val_loss: 0.3116 - val_accuracy: 0.8884\n",
            "Epoch 25/30\n",
            "1719/1719 [==============================] - 6s 3ms/step - loss: 0.3257 - accuracy: 0.8805 - val_loss: 0.3048 - val_accuracy: 0.8914\n",
            "Epoch 26/30\n",
            "1719/1719 [==============================] - 6s 3ms/step - loss: 0.3239 - accuracy: 0.8812 - val_loss: 0.3046 - val_accuracy: 0.8918\n",
            "Epoch 27/30\n",
            "1719/1719 [==============================] - 6s 3ms/step - loss: 0.3214 - accuracy: 0.8850 - val_loss: 0.3100 - val_accuracy: 0.8904\n",
            "Epoch 28/30\n",
            "1719/1719 [==============================] - 6s 3ms/step - loss: 0.3203 - accuracy: 0.8846 - val_loss: 0.3089 - val_accuracy: 0.8870\n",
            "Epoch 29/30\n",
            "1719/1719 [==============================] - 6s 4ms/step - loss: 0.3156 - accuracy: 0.8854 - val_loss: 0.3079 - val_accuracy: 0.8932\n",
            "Epoch 30/30\n",
            "1719/1719 [==============================] - 6s 3ms/step - loss: 0.3132 - accuracy: 0.8859 - val_loss: 0.3137 - val_accuracy: 0.8892\n"
          ],
          "name": "stdout"
        }
      ]
    },
    {
      "cell_type": "code",
      "metadata": {
        "colab": {
          "base_uri": "https://localhost:8080/",
          "height": 328
        },
        "id": "YB1M8jZ3myCa",
        "outputId": "ef3e8f17-e29d-42de-d476-235b70bd7343"
      },
      "source": [
        "pd.DataFrame(history7.history).plot(figsize=(8, 5))\n",
        "plt.grid(True)\n",
        "plt.gca().set_ylim(0, 1)\n",
        "plt.show()"
      ],
      "execution_count": 135,
      "outputs": [
        {
          "output_type": "display_data",
          "data": {
            "image/png": "[encoded data removed]",
            "text/plain": [
              "<Figure size 576x360 with 1 Axes>"
            ]
          },
          "metadata": {
            "tags": [],
            "needs_background": "light"
          }
        }
      ]
    },
    {
      "cell_type": "markdown",
      "metadata": {
        "id": "q8E6HkHBm9Jp"
      },
      "source": [
        "5.Use Batch Normalisation"
      ]
    },
    {
      "cell_type": "code",
      "metadata": {
        "id": "TkSKxdsrm-zW"
      },
      "source": [
        "model = keras.models.Sequential()\n",
        "model.add(keras.layers.Flatten(input_shape=[28, 28]))\n",
        "model.add(keras.layers.Dense(400, activation=\"relu\"))\n",
        "model.add((keras.layers.Dropout(0.6)))\n",
        "model.add(keras.layers.BatchNormalization())\n",
        "model.add(keras.layers.Dense(150, activation=\"relu\"))\n",
        "model.add(keras.layers.Dense(70, activation=\"softmax\"))"
      ],
      "execution_count": 136,
      "outputs": []
    },
    {
      "cell_type": "code",
      "metadata": {
        "colab": {
          "base_uri": "https://localhost:8080/"
        },
        "id": "BcEelC25ovfq",
        "outputId": "19e8f21c-ca12-4114-aaaa-3fac534723b0"
      },
      "source": [
        "model.layers"
      ],
      "execution_count": 137,
      "outputs": [
        {
          "output_type": "execute_result",
          "data": {
            "text/plain": [
              "[<tensorflow.python.keras.layers.core.Flatten at 0x7f4d6b5123c8>,\n",
              " <tensorflow.python.keras.layers.core.Dense at 0x7f4d5b4a6080>,\n",
              " <tensorflow.python.keras.layers.core.Dropout at 0x7f4d6b4df240>,\n",
              " <tensorflow.python.keras.layers.normalization_v2.BatchNormalization at 0x7f4d6b4dfa20>,\n",
              " <tensorflow.python.keras.layers.core.Dense at 0x7f4d6b4dfeb8>,\n",
              " <tensorflow.python.keras.layers.core.Dense at 0x7f4d506b25f8>]"
            ]
          },
          "metadata": {
            "tags": []
          },
          "execution_count": 137
        }
      ]
    },
    {
      "cell_type": "code",
      "metadata": {
        "colab": {
          "base_uri": "https://localhost:8080/"
        },
        "id": "wj3G48Ufovpt",
        "outputId": "3a2989d8-1049-479d-eb55-d5c1d6087e40"
      },
      "source": [
        "model.summary()"
      ],
      "execution_count": 138,
      "outputs": [
        {
          "output_type": "stream",
          "text": [
            "Model: \"sequential_1\"\n",
            "_________________________________________________________________\n",
            "Layer (type)                 Output Shape              Param #   \n",
            "=================================================================\n",
            "flatten_1 (Flatten)          (None, 784)               0         \n",
            "_________________________________________________________________\n",
            "dense_3 (Dense)              (None, 400)               314000    \n",
            "_________________________________________________________________\n",
            "dropout_1 (Dropout)          (None, 400)               0         \n",
            "_________________________________________________________________\n",
            "batch_normalization (BatchNo (None, 400)               1600      \n",
            "_________________________________________________________________\n",
            "dense_4 (Dense)              (None, 150)               60150     \n",
            "_________________________________________________________________\n",
            "dense_5 (Dense)              (None, 70)                10570     \n",
            "=================================================================\n",
            "Total params: 386,320\n",
            "Trainable params: 385,520\n",
            "Non-trainable params: 800\n",
            "_________________________________________________________________\n"
          ],
          "name": "stdout"
        }
      ]
    },
    {
      "cell_type": "code",
      "metadata": {
        "id": "73oZ3Ql1s-88"
      },
      "source": [
        "model.compile(loss=\"sparse_categorical_crossentropy\",\n",
        "              optimizer=\"sgd\",\n",
        "              metrics=[\"accuracy\"])"
      ],
      "execution_count": 139,
      "outputs": []
    },
    {
      "cell_type": "code",
      "metadata": {
        "colab": {
          "base_uri": "https://localhost:8080/"
        },
        "id": "VWmKK0Iloxyt",
        "outputId": "2152607a-cf27-44cf-88f0-b6db8e1adadd"
      },
      "source": [
        "history8 = model.fit(X_train, y_train, batch_size=32, epochs=30,\n",
        "                    validation_data=(X_valid, y_valid))"
      ],
      "execution_count": 140,
      "outputs": [
        {
          "output_type": "stream",
          "text": [
            "Epoch 1/30\n",
            "1719/1719 [==============================] - 7s 4ms/step - loss: 0.8379 - accuracy: 0.7273 - val_loss: 0.4758 - val_accuracy: 0.8320\n",
            "Epoch 2/30\n",
            "1719/1719 [==============================] - 6s 4ms/step - loss: 0.5688 - accuracy: 0.7939 - val_loss: 0.4340 - val_accuracy: 0.8412\n",
            "Epoch 3/30\n",
            "1719/1719 [==============================] - 7s 4ms/step - loss: 0.5231 - accuracy: 0.8103 - val_loss: 0.4037 - val_accuracy: 0.8560\n",
            "Epoch 4/30\n",
            "1719/1719 [==============================] - 7s 4ms/step - loss: 0.4979 - accuracy: 0.8193 - val_loss: 0.3918 - val_accuracy: 0.8570\n",
            "Epoch 5/30\n",
            "1719/1719 [==============================] - 7s 4ms/step - loss: 0.4794 - accuracy: 0.8253 - val_loss: 0.3759 - val_accuracy: 0.8620\n",
            "Epoch 6/30\n",
            "1719/1719 [==============================] - 6s 4ms/step - loss: 0.4704 - accuracy: 0.8289 - val_loss: 0.3742 - val_accuracy: 0.8638\n",
            "Epoch 7/30\n",
            "1719/1719 [==============================] - 6s 4ms/step - loss: 0.4622 - accuracy: 0.8322 - val_loss: 0.3832 - val_accuracy: 0.8548\n",
            "Epoch 8/30\n",
            "1719/1719 [==============================] - 6s 4ms/step - loss: 0.4537 - accuracy: 0.8337 - val_loss: 0.3579 - val_accuracy: 0.8686\n",
            "Epoch 9/30\n",
            "1719/1719 [==============================] - 6s 4ms/step - loss: 0.4505 - accuracy: 0.8359 - val_loss: 0.3781 - val_accuracy: 0.8582\n",
            "Epoch 10/30\n",
            "1719/1719 [==============================] - 6s 4ms/step - loss: 0.4372 - accuracy: 0.8401 - val_loss: 0.3604 - val_accuracy: 0.8704\n",
            "Epoch 11/30\n",
            "1719/1719 [==============================] - 7s 4ms/step - loss: 0.4376 - accuracy: 0.8405 - val_loss: 0.3537 - val_accuracy: 0.8754\n",
            "Epoch 12/30\n",
            "1719/1719 [==============================] - 7s 4ms/step - loss: 0.4300 - accuracy: 0.8434 - val_loss: 0.3505 - val_accuracy: 0.8680\n",
            "Epoch 13/30\n",
            "1719/1719 [==============================] - 7s 4ms/step - loss: 0.4304 - accuracy: 0.8420 - val_loss: 0.3457 - val_accuracy: 0.8736\n",
            "Epoch 14/30\n",
            "1719/1719 [==============================] - 7s 4ms/step - loss: 0.4205 - accuracy: 0.8465 - val_loss: 0.3542 - val_accuracy: 0.8688\n",
            "Epoch 15/30\n",
            "1719/1719 [==============================] - 7s 4ms/step - loss: 0.4228 - accuracy: 0.8447 - val_loss: 0.3506 - val_accuracy: 0.8708\n",
            "Epoch 16/30\n",
            "1719/1719 [==============================] - 7s 4ms/step - loss: 0.4130 - accuracy: 0.8501 - val_loss: 0.3393 - val_accuracy: 0.8732\n",
            "Epoch 17/30\n",
            "1719/1719 [==============================] - 7s 4ms/step - loss: 0.4094 - accuracy: 0.8494 - val_loss: 0.3373 - val_accuracy: 0.8742\n",
            "Epoch 18/30\n",
            "1719/1719 [==============================] - 6s 4ms/step - loss: 0.4071 - accuracy: 0.8510 - val_loss: 0.3348 - val_accuracy: 0.8762\n",
            "Epoch 19/30\n",
            "1719/1719 [==============================] - 6s 4ms/step - loss: 0.4037 - accuracy: 0.8535 - val_loss: 0.3462 - val_accuracy: 0.8738\n",
            "Epoch 20/30\n",
            "1719/1719 [==============================] - 6s 4ms/step - loss: 0.4004 - accuracy: 0.8530 - val_loss: 0.3322 - val_accuracy: 0.8814\n",
            "Epoch 21/30\n",
            "1719/1719 [==============================] - 6s 4ms/step - loss: 0.3979 - accuracy: 0.8535 - val_loss: 0.3321 - val_accuracy: 0.8764\n",
            "Epoch 22/30\n",
            "1719/1719 [==============================] - 7s 4ms/step - loss: 0.3966 - accuracy: 0.8549 - val_loss: 0.3349 - val_accuracy: 0.8812\n",
            "Epoch 23/30\n",
            "1719/1719 [==============================] - 7s 4ms/step - loss: 0.3934 - accuracy: 0.8563 - val_loss: 0.3255 - val_accuracy: 0.8780\n",
            "Epoch 24/30\n",
            "1719/1719 [==============================] - 7s 4ms/step - loss: 0.3857 - accuracy: 0.8596 - val_loss: 0.3289 - val_accuracy: 0.8796\n",
            "Epoch 25/30\n",
            "1719/1719 [==============================] - 7s 4ms/step - loss: 0.3864 - accuracy: 0.8573 - val_loss: 0.3258 - val_accuracy: 0.8806\n",
            "Epoch 26/30\n",
            "1719/1719 [==============================] - 6s 4ms/step - loss: 0.3848 - accuracy: 0.8578 - val_loss: 0.3279 - val_accuracy: 0.8792\n",
            "Epoch 27/30\n",
            "1719/1719 [==============================] - 6s 4ms/step - loss: 0.3817 - accuracy: 0.8603 - val_loss: 0.3235 - val_accuracy: 0.8804\n",
            "Epoch 28/30\n",
            "1719/1719 [==============================] - 7s 4ms/step - loss: 0.3818 - accuracy: 0.8592 - val_loss: 0.3217 - val_accuracy: 0.8798\n",
            "Epoch 29/30\n",
            "1719/1719 [==============================] - 7s 4ms/step - loss: 0.3828 - accuracy: 0.8601 - val_loss: 0.3196 - val_accuracy: 0.8840\n",
            "Epoch 30/30\n",
            "1719/1719 [==============================] - 6s 4ms/step - loss: 0.3778 - accuracy: 0.8611 - val_loss: 0.3247 - val_accuracy: 0.8844\n"
          ],
          "name": "stdout"
        }
      ]
    },
    {
      "cell_type": "code",
      "metadata": {
        "colab": {
          "base_uri": "https://localhost:8080/",
          "height": 328
        },
        "id": "Q6aTht-Uo1SJ",
        "outputId": "26400cc8-7330-4b5e-bacc-de7fd92b8285"
      },
      "source": [
        "pd.DataFrame(history8.history).plot(figsize=(8, 5))\n",
        "plt.grid(True)\n",
        "plt.gca().set_ylim(0, 1)\n",
        "plt.show()"
      ],
      "execution_count": 141,
      "outputs": [
        {
          "output_type": "display_data",
          "data": {
            "image/png": "[encoded data removed]",
            "text/plain": [
              "<Figure size 576x360 with 1 Axes>"
            ]
          },
          "metadata": {
            "tags": [],
            "needs_background": "light"
          }
        }
      ]
    },
    {
      "cell_type": "markdown",
      "metadata": {
        "id": "_zKcRSmInXpp"
      },
      "source": [
        "6. Repeat with more layers"
      ]
    },
    {
      "cell_type": "code",
      "metadata": {
        "id": "3rwcuBTOnfjx"
      },
      "source": [
        "model = keras.models.Sequential()\n",
        "model.add(keras.layers.Flatten(input_shape=[28, 28]))\n",
        "model.add(keras.layers.Dense(100, activation=\"relu\"))\n",
        "model.add((keras.layers.Dropout(0.3)))\n",
        "model.add(keras.layers.BatchNormalization())\n",
        "model.add(keras.layers.Dense(255, activation=\"relu\"))\n",
        "model.add(keras.layers.Dense(85, activation=\"tanh\"))\n",
        "model.add(keras.layers.Dense(36, activation=\"relu\"))\n",
        "model.add(keras.layers.Dense(12, activation=\"softmax\"))"
      ],
      "execution_count": 142,
      "outputs": []
    },
    {
      "cell_type": "code",
      "metadata": {
        "colab": {
          "base_uri": "https://localhost:8080/"
        },
        "id": "Dd-oOMSEnfwX",
        "outputId": "e7fc3cd5-9a04-41ca-9f18-0da1e4265f5c"
      },
      "source": [
        "model.layers"
      ],
      "execution_count": 143,
      "outputs": [
        {
          "output_type": "execute_result",
          "data": {
            "text/plain": [
              "[<tensorflow.python.keras.layers.core.Flatten at 0x7f4d6bac2978>,\n",
              " <tensorflow.python.keras.layers.core.Dense at 0x7f4d6bac2be0>,\n",
              " <tensorflow.python.keras.layers.core.Dropout at 0x7f4d6b5f1f60>,\n",
              " <tensorflow.python.keras.layers.normalization_v2.BatchNormalization at 0x7f4d6b4a8898>,\n",
              " <tensorflow.python.keras.layers.core.Dense at 0x7f4d6b4a8780>,\n",
              " <tensorflow.python.keras.layers.core.Dense at 0x7f4d5a264588>,\n",
              " <tensorflow.python.keras.layers.core.Dense at 0x7f4d5b4a4a90>,\n",
              " <tensorflow.python.keras.layers.core.Dense at 0x7f4d5b4a0f28>]"
            ]
          },
          "metadata": {
            "tags": []
          },
          "execution_count": 143
        }
      ]
    },
    {
      "cell_type": "code",
      "metadata": {
        "colab": {
          "base_uri": "https://localhost:8080/"
        },
        "id": "mRKO9cnNnmXt",
        "outputId": "7b0709a8-edfe-4df9-ff7f-18d7d2b4ec98"
      },
      "source": [
        "model.summary()"
      ],
      "execution_count": 144,
      "outputs": [
        {
          "output_type": "stream",
          "text": [
            "Model: \"sequential_2\"\n",
            "_________________________________________________________________\n",
            "Layer (type)                 Output Shape              Param #   \n",
            "=================================================================\n",
            "flatten_2 (Flatten)          (None, 784)               0         \n",
            "_________________________________________________________________\n",
            "dense_6 (Dense)              (None, 100)               78500     \n",
            "_________________________________________________________________\n",
            "dropout_2 (Dropout)          (None, 100)               0         \n",
            "_________________________________________________________________\n",
            "batch_normalization_1 (Batch (None, 100)               400       \n",
            "_________________________________________________________________\n",
            "dense_7 (Dense)              (None, 255)               25755     \n",
            "_________________________________________________________________\n",
            "dense_8 (Dense)              (None, 85)                21760     \n",
            "_________________________________________________________________\n",
            "dense_9 (Dense)              (None, 36)                3096      \n",
            "_________________________________________________________________\n",
            "dense_10 (Dense)             (None, 12)                444       \n",
            "=================================================================\n",
            "Total params: 129,955\n",
            "Trainable params: 129,755\n",
            "Non-trainable params: 200\n",
            "_________________________________________________________________\n"
          ],
          "name": "stdout"
        }
      ]
    },
    {
      "cell_type": "code",
      "metadata": {
        "id": "Trss9L1ltAJ-"
      },
      "source": [
        "model.compile(loss=\"sparse_categorical_crossentropy\",\n",
        "              optimizer=\"sgd\",\n",
        "              metrics=[\"accuracy\"])"
      ],
      "execution_count": 145,
      "outputs": []
    },
    {
      "cell_type": "code",
      "metadata": {
        "colab": {
          "base_uri": "https://localhost:8080/"
        },
        "id": "N8YgpQpTnvg7",
        "outputId": "03d67486-82ce-4ea0-dd0e-2e294dc862ee"
      },
      "source": [
        "history9 = model.fit(X_train, y_train, batch_size=32, epochs=30,\n",
        "                    validation_data=(X_valid, y_valid))"
      ],
      "execution_count": 146,
      "outputs": [
        {
          "output_type": "stream",
          "text": [
            "Epoch 1/30\n",
            "1719/1719 [==============================] - 4s 2ms/step - loss: 0.8288 - accuracy: 0.7174 - val_loss: 0.4704 - val_accuracy: 0.8326\n",
            "Epoch 2/30\n",
            "1719/1719 [==============================] - 4s 2ms/step - loss: 0.5301 - accuracy: 0.8107 - val_loss: 0.4023 - val_accuracy: 0.8560\n",
            "Epoch 3/30\n",
            "1719/1719 [==============================] - 3s 2ms/step - loss: 0.4802 - accuracy: 0.8255 - val_loss: 0.3905 - val_accuracy: 0.8628\n",
            "Epoch 4/30\n",
            "1719/1719 [==============================] - 4s 2ms/step - loss: 0.4585 - accuracy: 0.8346 - val_loss: 0.3732 - val_accuracy: 0.8622\n",
            "Epoch 5/30\n",
            "1719/1719 [==============================] - 4s 2ms/step - loss: 0.4344 - accuracy: 0.8422 - val_loss: 0.3547 - val_accuracy: 0.8684\n",
            "Epoch 6/30\n",
            "1719/1719 [==============================] - 4s 2ms/step - loss: 0.4264 - accuracy: 0.8457 - val_loss: 0.3506 - val_accuracy: 0.8754\n",
            "Epoch 7/30\n",
            "1719/1719 [==============================] - 4s 2ms/step - loss: 0.4099 - accuracy: 0.8509 - val_loss: 0.3425 - val_accuracy: 0.8720\n",
            "Epoch 8/30\n",
            "1719/1719 [==============================] - 4s 2ms/step - loss: 0.4030 - accuracy: 0.8532 - val_loss: 0.3348 - val_accuracy: 0.8768\n",
            "Epoch 9/30\n",
            "1719/1719 [==============================] - 4s 2ms/step - loss: 0.3928 - accuracy: 0.8555 - val_loss: 0.3394 - val_accuracy: 0.8730\n",
            "Epoch 10/30\n",
            "1719/1719 [==============================] - 4s 2ms/step - loss: 0.3860 - accuracy: 0.8597 - val_loss: 0.3331 - val_accuracy: 0.8760\n",
            "Epoch 11/30\n",
            "1719/1719 [==============================] - 4s 2ms/step - loss: 0.3816 - accuracy: 0.8617 - val_loss: 0.3551 - val_accuracy: 0.8638\n",
            "Epoch 12/30\n",
            "1719/1719 [==============================] - 4s 2ms/step - loss: 0.3772 - accuracy: 0.8631 - val_loss: 0.3252 - val_accuracy: 0.8830\n",
            "Epoch 13/30\n",
            "1719/1719 [==============================] - 4s 2ms/step - loss: 0.3740 - accuracy: 0.8619 - val_loss: 0.3248 - val_accuracy: 0.8820\n",
            "Epoch 14/30\n",
            "1719/1719 [==============================] - 4s 2ms/step - loss: 0.3670 - accuracy: 0.8644 - val_loss: 0.3237 - val_accuracy: 0.8812\n",
            "Epoch 15/30\n",
            "1719/1719 [==============================] - 4s 2ms/step - loss: 0.3614 - accuracy: 0.8675 - val_loss: 0.3106 - val_accuracy: 0.8858\n",
            "Epoch 16/30\n",
            "1719/1719 [==============================] - 4s 2ms/step - loss: 0.3593 - accuracy: 0.8661 - val_loss: 0.3211 - val_accuracy: 0.8824\n",
            "Epoch 17/30\n",
            "1719/1719 [==============================] - 4s 2ms/step - loss: 0.3573 - accuracy: 0.8673 - val_loss: 0.3244 - val_accuracy: 0.8812\n",
            "Epoch 18/30\n",
            "1719/1719 [==============================] - 4s 2ms/step - loss: 0.3539 - accuracy: 0.8685 - val_loss: 0.3170 - val_accuracy: 0.8856\n",
            "Epoch 19/30\n",
            "1719/1719 [==============================] - 4s 2ms/step - loss: 0.3496 - accuracy: 0.8716 - val_loss: 0.3212 - val_accuracy: 0.8850\n",
            "Epoch 20/30\n",
            "1719/1719 [==============================] - 4s 2ms/step - loss: 0.3455 - accuracy: 0.8718 - val_loss: 0.3141 - val_accuracy: 0.8850\n",
            "Epoch 21/30\n",
            "1719/1719 [==============================] - 4s 2ms/step - loss: 0.3422 - accuracy: 0.8741 - val_loss: 0.3065 - val_accuracy: 0.8890\n",
            "Epoch 22/30\n",
            "1719/1719 [==============================] - 4s 2ms/step - loss: 0.3338 - accuracy: 0.8765 - val_loss: 0.3114 - val_accuracy: 0.8900\n",
            "Epoch 23/30\n",
            "1719/1719 [==============================] - 4s 2ms/step - loss: 0.3315 - accuracy: 0.8783 - val_loss: 0.3176 - val_accuracy: 0.8838\n",
            "Epoch 24/30\n",
            "1719/1719 [==============================] - 4s 2ms/step - loss: 0.3301 - accuracy: 0.8784 - val_loss: 0.3088 - val_accuracy: 0.8854\n",
            "Epoch 25/30\n",
            "1719/1719 [==============================] - 3s 2ms/step - loss: 0.3302 - accuracy: 0.8782 - val_loss: 0.3114 - val_accuracy: 0.8866\n",
            "Epoch 26/30\n",
            "1719/1719 [==============================] - 3s 2ms/step - loss: 0.3222 - accuracy: 0.8817 - val_loss: 0.3103 - val_accuracy: 0.8858\n",
            "Epoch 27/30\n",
            "1719/1719 [==============================] - 4s 2ms/step - loss: 0.3264 - accuracy: 0.8786 - val_loss: 0.3124 - val_accuracy: 0.8862\n",
            "Epoch 28/30\n",
            "1719/1719 [==============================] - 4s 2ms/step - loss: 0.3228 - accuracy: 0.8785 - val_loss: 0.3122 - val_accuracy: 0.8896\n",
            "Epoch 29/30\n",
            "1719/1719 [==============================] - 4s 2ms/step - loss: 0.3178 - accuracy: 0.8829 - val_loss: 0.3050 - val_accuracy: 0.8874\n",
            "Epoch 30/30\n",
            "1719/1719 [==============================] - 4s 2ms/step - loss: 0.3170 - accuracy: 0.8816 - val_loss: 0.3039 - val_accuracy: 0.8938\n"
          ],
          "name": "stdout"
        }
      ]
    },
    {
      "cell_type": "code",
      "metadata": {
        "colab": {
          "base_uri": "https://localhost:8080/",
          "height": 328
        },
        "id": "JNgBmWninyRO",
        "outputId": "a26753ea-fcfb-41b6-c679-459442dfaf4a"
      },
      "source": [
        "pd.DataFrame(history9.history).plot(figsize=(8, 5))\n",
        "plt.grid(True)\n",
        "plt.gca().set_ylim(0, 1)\n",
        "plt.show()"
      ],
      "execution_count": 147,
      "outputs": [
        {
          "output_type": "display_data",
          "data": {
            "image/png": "[encoded data removed]",
            "text/plain": [
              "<Figure size 576x360 with 1 Axes>"
            ]
          },
          "metadata": {
            "tags": [],
            "needs_background": "light"
          }
        }
      ]
    }
  ]
}