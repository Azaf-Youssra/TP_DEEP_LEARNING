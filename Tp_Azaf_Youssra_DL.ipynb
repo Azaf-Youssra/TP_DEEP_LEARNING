{
  "nbformat": 4,
  "nbformat_minor": 0,
  "metadata": {
    "colab": {
      "name": "Untitled0.ipynb",
      "provenance": [],
      "collapsed_sections": []
    },
    "kernelspec": {
      "name": "python3",
      "display_name": "Python 3"
    }
  },
  "cells": [
    {
      "cell_type": "markdown",
      "metadata": {
        "id": "omA8kMcoHfl-"
      },
      "source": [
        "ANN with Keras"
      ]
    },
    {
      "cell_type": "code",
      "metadata": {
        "id": "Kn4rWjKhwdHr"
      },
      "source": [
        "# Common imports\n",
        "import numpy as np\n",
        "import os\n",
        "import pandas as pd\n"
      ],
      "execution_count": 1,
      "outputs": []
    },
    {
      "cell_type": "code",
      "metadata": {
        "id": "k9ApYFnLSeGO"
      },
      "source": [
        "# to make this notebook's output stable across runs\n",
        "np.random.seed(42)\n",
        "\n",
        "# To plot pretty figures\n",
        "%matplotlib inline\n",
        "import matplotlib as mpl\n",
        "import matplotlib.pyplot as plt\n",
        "mpl.rc('axes', labelsize=14)\n",
        "mpl.rc('xtick', labelsize=12)\n",
        "mpl.rc('ytick', labelsize=12)\n",
        "\n"
      ],
      "execution_count": 2,
      "outputs": []
    },
    {
      "cell_type": "code",
      "metadata": {
        "id": "486-hWhWSg2x"
      },
      "source": [
        "# Ignore useless warnings (see SciPy issue #5998)\n",
        "import warnings\n",
        "warnings.filterwarnings(action=\"ignore\", message=\"^internal gelsd\")"
      ],
      "execution_count": 3,
      "outputs": []
    },
    {
      "cell_type": "code",
      "metadata": {
        "id": "Zcp7L5pOSnpR"
      },
      "source": [
        "import tensorflow as tf\n",
        "from tensorflow import keras"
      ],
      "execution_count": 4,
      "outputs": []
    },
    {
      "cell_type": "code",
      "metadata": {
        "colab": {
          "base_uri": "https://localhost:8080/",
          "height": 35
        },
        "id": "WIPICjNFSxO0",
        "outputId": "ba987a50-7718-4435-a910-907f4422aa0b"
      },
      "source": [
        "tf.__version__"
      ],
      "execution_count": 5,
      "outputs": [
        {
          "output_type": "execute_result",
          "data": {
            "application/vnd.google.colaboratory.intrinsic+json": {
              "type": "string"
            },
            "text/plain": [
              "'2.3.0'"
            ]
          },
          "metadata": {
            "tags": []
          },
          "execution_count": 5
        }
      ]
    },
    {
      "cell_type": "markdown",
      "metadata": {
        "id": "HN_zAIAmTvo0"
      },
      "source": [
        "Let's start by loading the fashion MNIST dataset. Keras has a number of functions to load popular datasets in keras.datasets. The dataset is already split for you between a training set and a test set, but it can be useful to split the training set further to have a validation set:\n",
        "\n",
        "\n"
      ]
    },
    {
      "cell_type": "code",
      "metadata": {
        "colab": {
          "base_uri": "https://localhost:8080/"
        },
        "id": "q0YruimUTi5z",
        "outputId": "dc1db3a7-e7e3-4195-9d6d-ac86249bfd93"
      },
      "source": [
        "fashion_mnist = keras.datasets.fashion_mnist\n",
        "(X_train_full, y_train_full), (X_test, y_test) = fashion_mnist.load_data()"
      ],
      "execution_count": 6,
      "outputs": [
        {
          "output_type": "stream",
          "text": [
            "Downloading data from https://storage.googleapis.com/tensorflow/tf-keras-datasets/train-labels-idx1-ubyte.gz\n",
            "32768/29515 [=================================] - 0s 0us/step\n",
            "Downloading data from https://storage.googleapis.com/tensorflow/tf-keras-datasets/train-images-idx3-ubyte.gz\n",
            "26427392/26421880 [==============================] - 0s 0us/step\n",
            "Downloading data from https://storage.googleapis.com/tensorflow/tf-keras-datasets/t10k-labels-idx1-ubyte.gz\n",
            "8192/5148 [===============================================] - 0s 0us/step\n",
            "Downloading data from https://storage.googleapis.com/tensorflow/tf-keras-datasets/t10k-images-idx3-ubyte.gz\n",
            "4423680/4422102 [==============================] - 0s 0us/step\n"
          ],
          "name": "stdout"
        }
      ]
    },
    {
      "cell_type": "markdown",
      "metadata": {
        "id": "6WQILMAMUNJ_"
      },
      "source": [
        "The training set contains 60,000 grayscale images, each 28x28 pixels:"
      ]
    },
    {
      "cell_type": "code",
      "metadata": {
        "colab": {
          "base_uri": "https://localhost:8080/"
        },
        "id": "d-oTZtIkTCWT",
        "outputId": "81438756-e297-4b6b-eb81-b65e185da892"
      },
      "source": [
        "X_train_full.shape"
      ],
      "execution_count": 7,
      "outputs": [
        {
          "output_type": "execute_result",
          "data": {
            "text/plain": [
              "(60000, 28, 28)"
            ]
          },
          "metadata": {
            "tags": []
          },
          "execution_count": 7
        }
      ]
    },
    {
      "cell_type": "markdown",
      "metadata": {
        "id": "rPUIB_pxUMo2"
      },
      "source": [
        "Each pixel intensity is represented as a byte (0 to 255):\n"
      ]
    },
    {
      "cell_type": "code",
      "metadata": {
        "colab": {
          "base_uri": "https://localhost:8080/"
        },
        "id": "V-sIwhJ_USH3",
        "outputId": "d33490c9-e2c6-4318-c972-2a326472c729"
      },
      "source": [
        "X_train_full.dtype"
      ],
      "execution_count": 8,
      "outputs": [
        {
          "output_type": "execute_result",
          "data": {
            "text/plain": [
              "dtype('uint8')"
            ]
          },
          "metadata": {
            "tags": []
          },
          "execution_count": 8
        }
      ]
    },
    {
      "cell_type": "markdown",
      "metadata": {
        "id": "7rV-_XkLUSgA"
      },
      "source": [
        "Let's split the full training set into a validation set and a (smaller) training set. We also scale the pixel intensities down to the 0-1 range and convert them to floats, by dividing by 255."
      ]
    },
    {
      "cell_type": "code",
      "metadata": {
        "id": "DDwTLLXFUYDj"
      },
      "source": [
        "X_valid, X_train = X_train_full[:5000] / 255., X_train_full[5000:] / 255.\n",
        "y_valid, y_train = y_train_full[:5000], y_train_full[5000:]\n",
        "X_test = X_test / 255."
      ],
      "execution_count": 9,
      "outputs": []
    },
    {
      "cell_type": "markdown",
      "metadata": {
        "id": "1lrSCu6uUb58"
      },
      "source": [
        "You can plot an image using Matplotlib's imshow() function, with a 'binary' color map:"
      ]
    },
    {
      "cell_type": "code",
      "metadata": {
        "colab": {
          "base_uri": "https://localhost:8080/",
          "height": 248
        },
        "id": "1F6KkqE7Ucxz",
        "outputId": "d832c8d9-b821-46c7-835f-22c1c32f0918"
      },
      "source": [
        "plt.imshow(X_train[2], cmap=\"binary\")\n",
        "plt.axis('off')\n",
        "plt.show()"
      ],
      "execution_count": 10,
      "outputs": [
        {
          "output_type": "display_data",
          "data": {
            "image/png": "[encoded data removed]",
            "text/plain": [
              "<Figure size 432x288 with 1 Axes>"
            ]
          },
          "metadata": {
            "tags": [],
            "needs_background": "light"
          }
        }
      ]
    },
    {
      "cell_type": "code",
      "metadata": {
        "colab": {
          "base_uri": "https://localhost:8080/",
          "height": 248
        },
        "id": "FVPtRDE0WLxU",
        "outputId": "148f844d-3b4b-4a1c-f203-e0e193a1c281"
      },
      "source": [
        "plt.imshow(X_valid[5], cmap=\"binary\")\n",
        "plt.axis('off')\n",
        "plt.show()"
      ],
      "execution_count": 11,
      "outputs": [
        {
          "output_type": "display_data",
          "data": {
            "image/png": "[encoded data removed]",
            "text/plain": [
              "<Figure size 432x288 with 1 Axes>"
            ]
          },
          "metadata": {
            "tags": [],
            "needs_background": "light"
          }
        }
      ]
    },
    {
      "cell_type": "markdown",
      "metadata": {
        "id": "jJd1YobjWsqY"
      },
      "source": [
        "# Construct a Model"
      ]
    },
    {
      "cell_type": "code",
      "metadata": {
        "id": "OqgrGcwRWv_a"
      },
      "source": [
        "model = keras.models.Sequential([\n",
        "    keras.layers.Flatten(input_shape=[28, 28]),\n",
        "    keras.layers.Dense(300, activation=\"relu\"),\n",
        "    keras.layers.Dense(100, activation=\"relu\"),\n",
        "    keras.layers.Dense(10, activation=\"softmax\")\n",
        "])"
      ],
      "execution_count": 12,
      "outputs": []
    },
    {
      "cell_type": "code",
      "metadata": {
        "id": "T-PAvvRUWyTX"
      },
      "source": [
        "keras.backend.clear_session()\n",
        "np.random.seed(42)"
      ],
      "execution_count": 13,
      "outputs": []
    },
    {
      "cell_type": "code",
      "metadata": {
        "colab": {
          "base_uri": "https://localhost:8080/"
        },
        "id": "HTAj-f8dXCxQ",
        "outputId": "5be9238d-7bed-4325-8c36-47df401e1393"
      },
      "source": [
        "model.layers"
      ],
      "execution_count": 14,
      "outputs": [
        {
          "output_type": "execute_result",
          "data": {
            "text/plain": [
              "[<tensorflow.python.keras.layers.core.Flatten at 0x7f2795d3f400>,\n",
              " <tensorflow.python.keras.layers.core.Dense at 0x7f2795cf4198>,\n",
              " <tensorflow.python.keras.layers.core.Dense at 0x7f2795cf4470>,\n",
              " <tensorflow.python.keras.layers.core.Dense at 0x7f2795cf46d8>]"
            ]
          },
          "metadata": {
            "tags": []
          },
          "execution_count": 14
        }
      ]
    },
    {
      "cell_type": "code",
      "metadata": {
        "colab": {
          "base_uri": "https://localhost:8080/"
        },
        "id": "0LGsXl2IXDRK",
        "outputId": "cb5b3e8b-223f-4c66-fca1-8241bce3f61f"
      },
      "source": [
        "model.summary()"
      ],
      "execution_count": 15,
      "outputs": [
        {
          "output_type": "stream",
          "text": [
            "Model: \"sequential\"\n",
            "_________________________________________________________________\n",
            "Layer (type)                 Output Shape              Param #   \n",
            "=================================================================\n",
            "flatten (Flatten)            (None, 784)               0         \n",
            "_________________________________________________________________\n",
            "dense (Dense)                (None, 300)               235500    \n",
            "_________________________________________________________________\n",
            "dense_1 (Dense)              (None, 100)               30100     \n",
            "_________________________________________________________________\n",
            "dense_2 (Dense)              (None, 10)                1010      \n",
            "=================================================================\n",
            "Total params: 266,610\n",
            "Trainable params: 266,610\n",
            "Non-trainable params: 0\n",
            "_________________________________________________________________\n"
          ],
          "name": "stdout"
        }
      ]
    },
    {
      "cell_type": "code",
      "metadata": {
        "colab": {
          "base_uri": "https://localhost:8080/",
          "height": 35
        },
        "id": "3Y5Tgu80XGM_",
        "outputId": "961f0e50-ae61-42f7-ba9c-5239b67a5a73"
      },
      "source": [
        "hidden1 = model.layers[1]\n",
        "hidden1.name"
      ],
      "execution_count": 16,
      "outputs": [
        {
          "output_type": "execute_result",
          "data": {
            "application/vnd.google.colaboratory.intrinsic+json": {
              "type": "string"
            },
            "text/plain": [
              "'dense'"
            ]
          },
          "metadata": {
            "tags": []
          },
          "execution_count": 16
        }
      ]
    },
    {
      "cell_type": "code",
      "metadata": {
        "colab": {
          "base_uri": "https://localhost:8080/"
        },
        "id": "gasz5fyaXPE9",
        "outputId": "0d5525e3-0b6c-4098-f59f-cc53a2fcef05"
      },
      "source": [
        "model.get_layer(hidden1.name) is hidden1"
      ],
      "execution_count": 17,
      "outputs": [
        {
          "output_type": "execute_result",
          "data": {
            "text/plain": [
              "True"
            ]
          },
          "metadata": {
            "tags": []
          },
          "execution_count": 17
        }
      ]
    },
    {
      "cell_type": "code",
      "metadata": {
        "id": "2_kgpw2ZXQmi"
      },
      "source": [
        "weights, biases = hidden1.get_weights()"
      ],
      "execution_count": 18,
      "outputs": []
    },
    {
      "cell_type": "code",
      "metadata": {
        "colab": {
          "base_uri": "https://localhost:8080/"
        },
        "id": "ySKytOptXSD8",
        "outputId": "a610c201-c17f-4c84-d90b-4603a023f79c"
      },
      "source": [
        "weights"
      ],
      "execution_count": 19,
      "outputs": [
        {
          "output_type": "execute_result",
          "data": {
            "text/plain": [
              "array([[ 2.2911191e-02, -5.8708005e-02,  4.5370430e-02, ...,\n",
              "        -2.2972152e-03, -5.5450216e-02, -4.2617127e-02],\n",
              "       [-3.6927018e-02, -1.4033180e-02,  2.0132393e-02, ...,\n",
              "        -9.9882483e-05,  4.4874184e-02,  7.0811346e-02],\n",
              "       [-1.2022950e-02,  6.1899021e-02,  5.1863983e-02, ...,\n",
              "        -7.0949391e-02, -2.1513250e-02,  5.2242726e-02],\n",
              "       ...,\n",
              "       [ 1.7104685e-02,  3.4921594e-02, -3.0493464e-02, ...,\n",
              "        -3.6960740e-02,  5.0434232e-02,  4.7588997e-02],\n",
              "       [ 5.1727638e-02, -3.1420887e-02,  1.8634871e-03, ...,\n",
              "        -2.2888627e-02, -2.8738428e-02, -7.4098557e-02],\n",
              "       [ 4.6593972e-02, -4.6870880e-02, -6.8088330e-02, ...,\n",
              "        -3.6399391e-02, -3.1928156e-02,  4.2066202e-03]], dtype=float32)"
            ]
          },
          "metadata": {
            "tags": []
          },
          "execution_count": 19
        }
      ]
    },
    {
      "cell_type": "code",
      "metadata": {
        "colab": {
          "base_uri": "https://localhost:8080/"
        },
        "id": "ZvkYKjHkXX3r",
        "outputId": "2e5b43e2-ed87-4b26-d272-195a1ad6872c"
      },
      "source": [
        "weights.shape"
      ],
      "execution_count": 20,
      "outputs": [
        {
          "output_type": "execute_result",
          "data": {
            "text/plain": [
              "(784, 300)"
            ]
          },
          "metadata": {
            "tags": []
          },
          "execution_count": 20
        }
      ]
    },
    {
      "cell_type": "code",
      "metadata": {
        "colab": {
          "base_uri": "https://localhost:8080/"
        },
        "id": "96ThWyfEXYSG",
        "outputId": "6f9c2a11-bd65-4d03-e610-493b7a5b72c1"
      },
      "source": [
        "biases"
      ],
      "execution_count": 21,
      "outputs": [
        {
          "output_type": "execute_result",
          "data": {
            "text/plain": [
              "array([0., 0., 0., 0., 0., 0., 0., 0., 0., 0., 0., 0., 0., 0., 0., 0., 0.,\n",
              "       0., 0., 0., 0., 0., 0., 0., 0., 0., 0., 0., 0., 0., 0., 0., 0., 0.,\n",
              "       0., 0., 0., 0., 0., 0., 0., 0., 0., 0., 0., 0., 0., 0., 0., 0., 0.,\n",
              "       0., 0., 0., 0., 0., 0., 0., 0., 0., 0., 0., 0., 0., 0., 0., 0., 0.,\n",
              "       0., 0., 0., 0., 0., 0., 0., 0., 0., 0., 0., 0., 0., 0., 0., 0., 0.,\n",
              "       0., 0., 0., 0., 0., 0., 0., 0., 0., 0., 0., 0., 0., 0., 0., 0., 0.,\n",
              "       0., 0., 0., 0., 0., 0., 0., 0., 0., 0., 0., 0., 0., 0., 0., 0., 0.,\n",
              "       0., 0., 0., 0., 0., 0., 0., 0., 0., 0., 0., 0., 0., 0., 0., 0., 0.,\n",
              "       0., 0., 0., 0., 0., 0., 0., 0., 0., 0., 0., 0., 0., 0., 0., 0., 0.,\n",
              "       0., 0., 0., 0., 0., 0., 0., 0., 0., 0., 0., 0., 0., 0., 0., 0., 0.,\n",
              "       0., 0., 0., 0., 0., 0., 0., 0., 0., 0., 0., 0., 0., 0., 0., 0., 0.,\n",
              "       0., 0., 0., 0., 0., 0., 0., 0., 0., 0., 0., 0., 0., 0., 0., 0., 0.,\n",
              "       0., 0., 0., 0., 0., 0., 0., 0., 0., 0., 0., 0., 0., 0., 0., 0., 0.,\n",
              "       0., 0., 0., 0., 0., 0., 0., 0., 0., 0., 0., 0., 0., 0., 0., 0., 0.,\n",
              "       0., 0., 0., 0., 0., 0., 0., 0., 0., 0., 0., 0., 0., 0., 0., 0., 0.,\n",
              "       0., 0., 0., 0., 0., 0., 0., 0., 0., 0., 0., 0., 0., 0., 0., 0., 0.,\n",
              "       0., 0., 0., 0., 0., 0., 0., 0., 0., 0., 0., 0., 0., 0., 0., 0., 0.,\n",
              "       0., 0., 0., 0., 0., 0., 0., 0., 0., 0., 0.], dtype=float32)"
            ]
          },
          "metadata": {
            "tags": []
          },
          "execution_count": 21
        }
      ]
    },
    {
      "cell_type": "code",
      "metadata": {
        "colab": {
          "base_uri": "https://localhost:8080/"
        },
        "id": "foQbCFuMXbvy",
        "outputId": "9c55ac36-4326-4c50-b05b-285a1b18af32"
      },
      "source": [
        "biases.shape"
      ],
      "execution_count": 22,
      "outputs": [
        {
          "output_type": "execute_result",
          "data": {
            "text/plain": [
              "(300,)"
            ]
          },
          "metadata": {
            "tags": []
          },
          "execution_count": 22
        }
      ]
    },
    {
      "cell_type": "markdown",
      "metadata": {
        "id": "aqiPGCmlYIMB"
      },
      "source": [
        "Here you can chose the loss function, the optimizer, the performance metric, etc. check Keras documentation for further details.\n"
      ]
    },
    {
      "cell_type": "code",
      "metadata": {
        "id": "-fuvpKrXYO2r"
      },
      "source": [
        "model.compile(loss=\"sparse_categorical_crossentropy\",\n",
        "              optimizer=\"sgd\",\n",
        "              metrics=[\"accuracy\"])"
      ],
      "execution_count": 23,
      "outputs": []
    },
    {
      "cell_type": "code",
      "metadata": {
        "colab": {
          "base_uri": "https://localhost:8080/"
        },
        "id": "8B1CftKzYXWn",
        "outputId": "02b0a561-9fa4-4414-ff95-1430b5f3f43b"
      },
      "source": [
        "#Here you can chose how many epochs you need and the batch size.\n",
        "history = model.fit(X_train, y_train, batch_size=32, epochs=30,\n",
        "                    validation_data=(X_valid, y_valid))"
      ],
      "execution_count": 24,
      "outputs": [
        {
          "output_type": "stream",
          "text": [
            "Epoch 1/30\n",
            "1719/1719 [==============================] - 5s 3ms/step - loss: 0.7129 - accuracy: 0.7667 - val_loss: 0.5114 - val_accuracy: 0.8274\n",
            "Epoch 2/30\n",
            "1719/1719 [==============================] - 5s 3ms/step - loss: 0.4878 - accuracy: 0.8301 - val_loss: 0.4531 - val_accuracy: 0.8394\n",
            "Epoch 3/30\n",
            "1719/1719 [==============================] - 5s 3ms/step - loss: 0.4452 - accuracy: 0.8448 - val_loss: 0.4356 - val_accuracy: 0.8478\n",
            "Epoch 4/30\n",
            "1719/1719 [==============================] - 5s 3ms/step - loss: 0.4187 - accuracy: 0.8527 - val_loss: 0.4120 - val_accuracy: 0.8610\n",
            "Epoch 5/30\n",
            "1719/1719 [==============================] - 5s 3ms/step - loss: 0.3988 - accuracy: 0.8612 - val_loss: 0.3971 - val_accuracy: 0.8588\n",
            "Epoch 6/30\n",
            "1719/1719 [==============================] - 5s 3ms/step - loss: 0.3829 - accuracy: 0.8661 - val_loss: 0.3968 - val_accuracy: 0.8632\n",
            "Epoch 7/30\n",
            "1719/1719 [==============================] - 5s 3ms/step - loss: 0.3702 - accuracy: 0.8693 - val_loss: 0.3699 - val_accuracy: 0.8722\n",
            "Epoch 8/30\n",
            "1719/1719 [==============================] - 5s 3ms/step - loss: 0.3577 - accuracy: 0.8724 - val_loss: 0.3636 - val_accuracy: 0.8714\n",
            "Epoch 9/30\n",
            "1719/1719 [==============================] - 5s 3ms/step - loss: 0.3477 - accuracy: 0.8770 - val_loss: 0.3620 - val_accuracy: 0.8758\n",
            "Epoch 10/30\n",
            "1719/1719 [==============================] - 5s 3ms/step - loss: 0.3374 - accuracy: 0.8808 - val_loss: 0.3545 - val_accuracy: 0.8748\n",
            "Epoch 11/30\n",
            "1719/1719 [==============================] - 5s 3ms/step - loss: 0.3289 - accuracy: 0.8824 - val_loss: 0.3436 - val_accuracy: 0.8792\n",
            "Epoch 12/30\n",
            "1719/1719 [==============================] - 5s 3ms/step - loss: 0.3217 - accuracy: 0.8849 - val_loss: 0.3315 - val_accuracy: 0.8832\n",
            "Epoch 13/30\n",
            "1719/1719 [==============================] - 5s 3ms/step - loss: 0.3139 - accuracy: 0.8876 - val_loss: 0.3509 - val_accuracy: 0.8756\n",
            "Epoch 14/30\n",
            "1719/1719 [==============================] - 5s 3ms/step - loss: 0.3067 - accuracy: 0.8905 - val_loss: 0.3240 - val_accuracy: 0.8854\n",
            "Epoch 15/30\n",
            "1719/1719 [==============================] - 5s 3ms/step - loss: 0.3000 - accuracy: 0.8928 - val_loss: 0.3385 - val_accuracy: 0.8782\n",
            "Epoch 16/30\n",
            "1719/1719 [==============================] - 5s 3ms/step - loss: 0.2933 - accuracy: 0.8943 - val_loss: 0.3151 - val_accuracy: 0.8884\n",
            "Epoch 17/30\n",
            "1719/1719 [==============================] - 5s 3ms/step - loss: 0.2875 - accuracy: 0.8966 - val_loss: 0.3189 - val_accuracy: 0.8832\n",
            "Epoch 18/30\n",
            "1719/1719 [==============================] - 5s 3ms/step - loss: 0.2818 - accuracy: 0.8985 - val_loss: 0.3326 - val_accuracy: 0.8808\n",
            "Epoch 19/30\n",
            "1719/1719 [==============================] - 6s 3ms/step - loss: 0.2759 - accuracy: 0.9012 - val_loss: 0.3126 - val_accuracy: 0.8874\n",
            "Epoch 20/30\n",
            "1719/1719 [==============================] - 5s 3ms/step - loss: 0.2705 - accuracy: 0.9028 - val_loss: 0.3104 - val_accuracy: 0.8878\n",
            "Epoch 21/30\n",
            "1719/1719 [==============================] - 5s 3ms/step - loss: 0.2665 - accuracy: 0.9044 - val_loss: 0.2954 - val_accuracy: 0.8956\n",
            "Epoch 22/30\n",
            "1719/1719 [==============================] - 5s 3ms/step - loss: 0.2610 - accuracy: 0.9055 - val_loss: 0.3046 - val_accuracy: 0.8900\n",
            "Epoch 23/30\n",
            "1719/1719 [==============================] - 5s 3ms/step - loss: 0.2554 - accuracy: 0.9087 - val_loss: 0.3079 - val_accuracy: 0.8876\n",
            "Epoch 24/30\n",
            "1719/1719 [==============================] - 5s 3ms/step - loss: 0.2525 - accuracy: 0.9080 - val_loss: 0.3005 - val_accuracy: 0.8916\n",
            "Epoch 25/30\n",
            "1719/1719 [==============================] - 5s 3ms/step - loss: 0.2485 - accuracy: 0.9107 - val_loss: 0.2972 - val_accuracy: 0.8930\n",
            "Epoch 26/30\n",
            "1719/1719 [==============================] - 5s 3ms/step - loss: 0.2437 - accuracy: 0.9123 - val_loss: 0.3075 - val_accuracy: 0.8866\n",
            "Epoch 27/30\n",
            "1719/1719 [==============================] - 5s 3ms/step - loss: 0.2394 - accuracy: 0.9139 - val_loss: 0.3016 - val_accuracy: 0.8908\n",
            "Epoch 28/30\n",
            "1719/1719 [==============================] - 5s 3ms/step - loss: 0.2362 - accuracy: 0.9143 - val_loss: 0.3269 - val_accuracy: 0.8832\n",
            "Epoch 29/30\n",
            "1719/1719 [==============================] - 5s 3ms/step - loss: 0.2315 - accuracy: 0.9170 - val_loss: 0.3071 - val_accuracy: 0.8862\n",
            "Epoch 30/30\n",
            "1719/1719 [==============================] - 5s 3ms/step - loss: 0.2292 - accuracy: 0.9175 - val_loss: 0.3004 - val_accuracy: 0.8920\n"
          ],
          "name": "stdout"
        }
      ]
    },
    {
      "cell_type": "code",
      "metadata": {
        "colab": {
          "base_uri": "https://localhost:8080/"
        },
        "id": "jN5QwbbmYtlF",
        "outputId": "7349b3d5-a1eb-440e-9685-8f5131f4feb8"
      },
      "source": [
        "history.params"
      ],
      "execution_count": 25,
      "outputs": [
        {
          "output_type": "execute_result",
          "data": {
            "text/plain": [
              "{'epochs': 30, 'steps': 1719, 'verbose': 1}"
            ]
          },
          "metadata": {
            "tags": []
          },
          "execution_count": 25
        }
      ]
    },
    {
      "cell_type": "code",
      "metadata": {
        "colab": {
          "base_uri": "https://localhost:8080/",
          "height": 328
        },
        "id": "a5_pi0wTYyXZ",
        "outputId": "19205c1d-5000-4166-dbdc-525e5869c5a9"
      },
      "source": [
        "#Plot learning Curves\n",
        "import pandas as pd\n",
        "\n",
        "pd.DataFrame(history.history).plot(figsize=(8, 5))\n",
        "plt.grid(True)\n",
        "plt.gca().set_ylim(0, 1)\n",
        "plt.show()"
      ],
      "execution_count": 26,
      "outputs": [
        {
          "output_type": "display_data",
          "data": {
            "image/png": "[encoded data removed]",
            "text/plain": [
              "<Figure size 576x360 with 1 Axes>"
            ]
          },
          "metadata": {
            "tags": [],
            "needs_background": "light"
          }
        }
      ]
    },
    {
      "cell_type": "code",
      "metadata": {
        "colab": {
          "base_uri": "https://localhost:8080/"
        },
        "id": "ViNi0hOBaXC3",
        "outputId": "f81ffc72-0cc6-4ccb-bbae-71b26fe425b8"
      },
      "source": [
        "model.evaluate(X_test, y_test)"
      ],
      "execution_count": 27,
      "outputs": [
        {
          "output_type": "stream",
          "text": [
            "313/313 [==============================] - 0s 2ms/step - loss: 0.3344 - accuracy: 0.8831\n"
          ],
          "name": "stdout"
        },
        {
          "output_type": "execute_result",
          "data": {
            "text/plain": [
              "[0.3343609571456909, 0.8830999732017517]"
            ]
          },
          "metadata": {
            "tags": []
          },
          "execution_count": 27
        }
      ]
    },
    {
      "cell_type": "markdown",
      "metadata": {
        "id": "qQa__iAlahyd"
      },
      "source": [
        "1. Plot Learning curves when using different optimizers"
      ]
    },
    {
      "cell_type": "markdown",
      "metadata": {
        "id": "sao91Yp_bqCy"
      },
      "source": [
        "First optimizer ADAM"
      ]
    },
    {
      "cell_type": "code",
      "metadata": {
        "id": "xEnkUD31amv-"
      },
      "source": [
        "model.compile(loss=\"sparse_categorical_crossentropy\",\n",
        "              optimizer=\"adam\",\n",
        "              metrics=[\"accuracy\"])"
      ],
      "execution_count": 28,
      "outputs": []
    },
    {
      "cell_type": "code",
      "metadata": {
        "colab": {
          "base_uri": "https://localhost:8080/"
        },
        "id": "VIudUW2EayxW",
        "outputId": "4f4af2d6-6dd2-4974-96ef-9fd7363dd321"
      },
      "source": [
        "history0 = model.fit(X_train, y_train, batch_size=32, epochs=30,\n",
        "                    validation_data=(X_valid, y_valid))"
      ],
      "execution_count": 29,
      "outputs": [
        {
          "output_type": "stream",
          "text": [
            "Epoch 1/30\n",
            "1719/1719 [==============================] - 7s 4ms/step - loss: 0.3737 - accuracy: 0.8642 - val_loss: 0.3357 - val_accuracy: 0.8774\n",
            "Epoch 2/30\n",
            "1719/1719 [==============================] - 7s 4ms/step - loss: 0.3297 - accuracy: 0.8782 - val_loss: 0.3489 - val_accuracy: 0.8770\n",
            "Epoch 3/30\n",
            "1719/1719 [==============================] - 6s 3ms/step - loss: 0.3067 - accuracy: 0.8858 - val_loss: 0.3218 - val_accuracy: 0.8802\n",
            "Epoch 4/30\n",
            "1719/1719 [==============================] - 6s 3ms/step - loss: 0.2872 - accuracy: 0.8932 - val_loss: 0.3128 - val_accuracy: 0.8828\n",
            "Epoch 5/30\n",
            "1719/1719 [==============================] - 6s 3ms/step - loss: 0.2732 - accuracy: 0.8981 - val_loss: 0.2990 - val_accuracy: 0.8906\n",
            "Epoch 6/30\n",
            "1719/1719 [==============================] - 6s 3ms/step - loss: 0.2634 - accuracy: 0.9016 - val_loss: 0.3225 - val_accuracy: 0.8858\n",
            "Epoch 7/30\n",
            "1719/1719 [==============================] - 6s 3ms/step - loss: 0.2509 - accuracy: 0.9049 - val_loss: 0.3067 - val_accuracy: 0.8938\n",
            "Epoch 8/30\n",
            "1719/1719 [==============================] - 6s 3ms/step - loss: 0.2396 - accuracy: 0.9090 - val_loss: 0.3289 - val_accuracy: 0.8868\n",
            "Epoch 9/30\n",
            "1719/1719 [==============================] - 6s 3ms/step - loss: 0.2304 - accuracy: 0.9123 - val_loss: 0.3063 - val_accuracy: 0.8956\n",
            "Epoch 10/30\n",
            "1719/1719 [==============================] - 6s 3ms/step - loss: 0.2207 - accuracy: 0.9163 - val_loss: 0.2968 - val_accuracy: 0.9034\n",
            "Epoch 11/30\n",
            "1719/1719 [==============================] - 6s 3ms/step - loss: 0.2133 - accuracy: 0.9188 - val_loss: 0.3136 - val_accuracy: 0.8890\n",
            "Epoch 12/30\n",
            "1719/1719 [==============================] - 6s 3ms/step - loss: 0.2076 - accuracy: 0.9213 - val_loss: 0.3124 - val_accuracy: 0.8994\n",
            "Epoch 13/30\n",
            "1719/1719 [==============================] - 6s 3ms/step - loss: 0.2005 - accuracy: 0.9231 - val_loss: 0.3373 - val_accuracy: 0.8912\n",
            "Epoch 14/30\n",
            "1719/1719 [==============================] - 6s 3ms/step - loss: 0.1940 - accuracy: 0.9268 - val_loss: 0.3165 - val_accuracy: 0.8902\n",
            "Epoch 15/30\n",
            "1719/1719 [==============================] - 6s 3ms/step - loss: 0.1869 - accuracy: 0.9288 - val_loss: 0.3239 - val_accuracy: 0.8978\n",
            "Epoch 16/30\n",
            "1719/1719 [==============================] - 6s 3ms/step - loss: 0.1820 - accuracy: 0.9306 - val_loss: 0.3368 - val_accuracy: 0.8896\n",
            "Epoch 17/30\n",
            "1719/1719 [==============================] - 6s 4ms/step - loss: 0.1764 - accuracy: 0.9325 - val_loss: 0.3435 - val_accuracy: 0.8946\n",
            "Epoch 18/30\n",
            "1719/1719 [==============================] - 6s 4ms/step - loss: 0.1713 - accuracy: 0.9343 - val_loss: 0.3613 - val_accuracy: 0.8904\n",
            "Epoch 19/30\n",
            "1719/1719 [==============================] - 6s 4ms/step - loss: 0.1693 - accuracy: 0.9350 - val_loss: 0.3447 - val_accuracy: 0.8908\n",
            "Epoch 20/30\n",
            "1719/1719 [==============================] - 6s 4ms/step - loss: 0.1630 - accuracy: 0.9380 - val_loss: 0.3873 - val_accuracy: 0.8908\n",
            "Epoch 21/30\n",
            "1719/1719 [==============================] - 6s 4ms/step - loss: 0.1581 - accuracy: 0.9388 - val_loss: 0.3732 - val_accuracy: 0.8940\n",
            "Epoch 22/30\n",
            "1719/1719 [==============================] - 6s 3ms/step - loss: 0.1551 - accuracy: 0.9411 - val_loss: 0.4022 - val_accuracy: 0.8962\n",
            "Epoch 23/30\n",
            "1719/1719 [==============================] - 6s 3ms/step - loss: 0.1506 - accuracy: 0.9423 - val_loss: 0.4039 - val_accuracy: 0.8930\n",
            "Epoch 24/30\n",
            "1719/1719 [==============================] - 6s 4ms/step - loss: 0.1486 - accuracy: 0.9436 - val_loss: 0.3798 - val_accuracy: 0.8994\n",
            "Epoch 25/30\n",
            "1719/1719 [==============================] - 6s 3ms/step - loss: 0.1430 - accuracy: 0.9455 - val_loss: 0.4112 - val_accuracy: 0.8944\n",
            "Epoch 26/30\n",
            "1719/1719 [==============================] - 6s 3ms/step - loss: 0.1414 - accuracy: 0.9457 - val_loss: 0.3740 - val_accuracy: 0.8992\n",
            "Epoch 27/30\n",
            "1719/1719 [==============================] - 6s 3ms/step - loss: 0.1351 - accuracy: 0.9483 - val_loss: 0.4009 - val_accuracy: 0.9000\n",
            "Epoch 28/30\n",
            "1719/1719 [==============================] - 6s 4ms/step - loss: 0.1364 - accuracy: 0.9476 - val_loss: 0.4463 - val_accuracy: 0.8886\n",
            "Epoch 29/30\n",
            "1719/1719 [==============================] - 6s 4ms/step - loss: 0.1321 - accuracy: 0.9500 - val_loss: 0.3936 - val_accuracy: 0.8978\n",
            "Epoch 30/30\n",
            "1719/1719 [==============================] - 6s 3ms/step - loss: 0.1284 - accuracy: 0.9505 - val_loss: 0.4585 - val_accuracy: 0.8880\n"
          ],
          "name": "stdout"
        }
      ]
    },
    {
      "cell_type": "code",
      "metadata": {
        "colab": {
          "base_uri": "https://localhost:8080/"
        },
        "id": "Qvyrr3-6bKHC",
        "outputId": "fd0ad24f-ca61-45ab-b9d0-8fa15c3e18b5"
      },
      "source": [
        "history0.params"
      ],
      "execution_count": 30,
      "outputs": [
        {
          "output_type": "execute_result",
          "data": {
            "text/plain": [
              "{'epochs': 30, 'steps': 1719, 'verbose': 1}"
            ]
          },
          "metadata": {
            "tags": []
          },
          "execution_count": 30
        }
      ]
    },
    {
      "cell_type": "code",
      "metadata": {
        "colab": {
          "base_uri": "https://localhost:8080/",
          "height": 328
        },
        "id": "j4zzyLhJbNvo",
        "outputId": "bd8e22fd-1000-40de-e733-0a106181ddb1"
      },
      "source": [
        "pd.DataFrame(history0.history).plot(figsize=(8, 5))\n",
        "plt.grid(True)\n",
        "plt.gca().set_ylim(0, 1)\n",
        "plt.show()"
      ],
      "execution_count": 31,
      "outputs": [
        {
          "output_type": "display_data",
          "data": {
            "image/png": "[encoded data removed]",
            "text/plain": [
              "<Figure size 576x360 with 1 Axes>"
            ]
          },
          "metadata": {
            "tags": [],
            "needs_background": "light"
          }
        }
      ]
    },
    {
      "cell_type": "markdown",
      "metadata": {
        "id": "TN4UUyBsbeRF"
      },
      "source": [
        "Second optimizer RMSprop"
      ]
    },
    {
      "cell_type": "code",
      "metadata": {
        "id": "9hkVKTRJbh3T"
      },
      "source": [
        "model.compile(loss=\"sparse_categorical_crossentropy\",\n",
        "              optimizer=\"RMSprop\",\n",
        "              metrics=[\"accuracy\"])"
      ],
      "execution_count": 32,
      "outputs": []
    },
    {
      "cell_type": "code",
      "metadata": {
        "colab": {
          "base_uri": "https://localhost:8080/"
        },
        "id": "XF-XUNldbx9V",
        "outputId": "4d4a2184-e84f-46ff-e437-0463cf1646f0"
      },
      "source": [
        "history1 = model.fit(X_train, y_train, batch_size=32, epochs=30,\n",
        "                    validation_data=(X_valid, y_valid))"
      ],
      "execution_count": 33,
      "outputs": [
        {
          "output_type": "stream",
          "text": [
            "Epoch 1/30\n",
            "1719/1719 [==============================] - 8s 5ms/step - loss: 0.1274 - accuracy: 0.9522 - val_loss: 0.5555 - val_accuracy: 0.9024\n",
            "Epoch 2/30\n",
            "1719/1719 [==============================] - 8s 5ms/step - loss: 0.1362 - accuracy: 0.9506 - val_loss: 0.6248 - val_accuracy: 0.8968\n",
            "Epoch 3/30\n",
            "1719/1719 [==============================] - 8s 5ms/step - loss: 0.1444 - accuracy: 0.9483 - val_loss: 0.6677 - val_accuracy: 0.8976\n",
            "Epoch 4/30\n",
            "1719/1719 [==============================] - 8s 5ms/step - loss: 0.1466 - accuracy: 0.9481 - val_loss: 0.7168 - val_accuracy: 0.8970\n",
            "Epoch 5/30\n",
            "1719/1719 [==============================] - 8s 5ms/step - loss: 0.1571 - accuracy: 0.9462 - val_loss: 0.7711 - val_accuracy: 0.8924\n",
            "Epoch 6/30\n",
            "1719/1719 [==============================] - 8s 5ms/step - loss: 0.1600 - accuracy: 0.9474 - val_loss: 0.7296 - val_accuracy: 0.8982\n",
            "Epoch 7/30\n",
            "1719/1719 [==============================] - 8s 5ms/step - loss: 0.1642 - accuracy: 0.9457 - val_loss: 0.8210 - val_accuracy: 0.8938\n",
            "Epoch 8/30\n",
            "1719/1719 [==============================] - 8s 4ms/step - loss: 0.1670 - accuracy: 0.9439 - val_loss: 0.7880 - val_accuracy: 0.8974\n",
            "Epoch 9/30\n",
            "1719/1719 [==============================] - 9s 5ms/step - loss: 0.1722 - accuracy: 0.9446 - val_loss: 0.8174 - val_accuracy: 0.8850\n",
            "Epoch 10/30\n",
            "1719/1719 [==============================] - 8s 5ms/step - loss: 0.1746 - accuracy: 0.9440 - val_loss: 0.9170 - val_accuracy: 0.8828\n",
            "Epoch 11/30\n",
            "1719/1719 [==============================] - 8s 5ms/step - loss: 0.1746 - accuracy: 0.9435 - val_loss: 0.8633 - val_accuracy: 0.8920\n",
            "Epoch 12/30\n",
            "1719/1719 [==============================] - 8s 4ms/step - loss: 0.1808 - accuracy: 0.9431 - val_loss: 0.9348 - val_accuracy: 0.8954\n",
            "Epoch 13/30\n",
            "1719/1719 [==============================] - 8s 4ms/step - loss: 0.1826 - accuracy: 0.9430 - val_loss: 0.8971 - val_accuracy: 0.8910\n",
            "Epoch 14/30\n",
            "1719/1719 [==============================] - 8s 4ms/step - loss: 0.1822 - accuracy: 0.9416 - val_loss: 0.8645 - val_accuracy: 0.8882\n",
            "Epoch 15/30\n",
            "1719/1719 [==============================] - 8s 4ms/step - loss: 0.1835 - accuracy: 0.9425 - val_loss: 1.0054 - val_accuracy: 0.8820\n",
            "Epoch 16/30\n",
            "1719/1719 [==============================] - 8s 5ms/step - loss: 0.1864 - accuracy: 0.9424 - val_loss: 0.9194 - val_accuracy: 0.8902\n",
            "Epoch 17/30\n",
            "1719/1719 [==============================] - 8s 5ms/step - loss: 0.1828 - accuracy: 0.9413 - val_loss: 1.1357 - val_accuracy: 0.8848\n",
            "Epoch 18/30\n",
            "1719/1719 [==============================] - 9s 5ms/step - loss: 0.1938 - accuracy: 0.9413 - val_loss: 0.9740 - val_accuracy: 0.8836\n",
            "Epoch 19/30\n",
            "1719/1719 [==============================] - 8s 5ms/step - loss: 0.1861 - accuracy: 0.9424 - val_loss: 0.9937 - val_accuracy: 0.8826\n",
            "Epoch 20/30\n",
            "1719/1719 [==============================] - 8s 5ms/step - loss: 0.1885 - accuracy: 0.9433 - val_loss: 1.1532 - val_accuracy: 0.8928\n",
            "Epoch 21/30\n",
            "1719/1719 [==============================] - 8s 5ms/step - loss: 0.1894 - accuracy: 0.9426 - val_loss: 1.0518 - val_accuracy: 0.8896\n",
            "Epoch 22/30\n",
            "1719/1719 [==============================] - 9s 5ms/step - loss: 0.1906 - accuracy: 0.9426 - val_loss: 1.0091 - val_accuracy: 0.8900\n",
            "Epoch 23/30\n",
            "1719/1719 [==============================] - 9s 5ms/step - loss: 0.1904 - accuracy: 0.9426 - val_loss: 1.0362 - val_accuracy: 0.8846\n",
            "Epoch 24/30\n",
            "1719/1719 [==============================] - 8s 5ms/step - loss: 0.1919 - accuracy: 0.9428 - val_loss: 1.1299 - val_accuracy: 0.8808\n",
            "Epoch 25/30\n",
            "1719/1719 [==============================] - 8s 5ms/step - loss: 0.1894 - accuracy: 0.9443 - val_loss: 1.2136 - val_accuracy: 0.8868\n",
            "Epoch 26/30\n",
            "1719/1719 [==============================] - 8s 5ms/step - loss: 0.1865 - accuracy: 0.9437 - val_loss: 1.2316 - val_accuracy: 0.8864\n",
            "Epoch 27/30\n",
            "1719/1719 [==============================] - 9s 5ms/step - loss: 0.1876 - accuracy: 0.9439 - val_loss: 1.2339 - val_accuracy: 0.8938\n",
            "Epoch 28/30\n",
            "1719/1719 [==============================] - 9s 5ms/step - loss: 0.1933 - accuracy: 0.9435 - val_loss: 1.3072 - val_accuracy: 0.8910\n",
            "Epoch 29/30\n",
            "1719/1719 [==============================] - 9s 5ms/step - loss: 0.1973 - accuracy: 0.9445 - val_loss: 1.1468 - val_accuracy: 0.8888\n",
            "Epoch 30/30\n",
            "1719/1719 [==============================] - 8s 5ms/step - loss: 0.1909 - accuracy: 0.9435 - val_loss: 1.3614 - val_accuracy: 0.8818\n"
          ],
          "name": "stdout"
        }
      ]
    },
    {
      "cell_type": "code",
      "metadata": {
        "colab": {
          "base_uri": "https://localhost:8080/"
        },
        "id": "3MLmx3gdb5Ve",
        "outputId": "425fdeb8-3a61-4ca4-c59b-3f5280ab5c29"
      },
      "source": [
        "history1.params"
      ],
      "execution_count": 34,
      "outputs": [
        {
          "output_type": "execute_result",
          "data": {
            "text/plain": [
              "{'epochs': 30, 'steps': 1719, 'verbose': 1}"
            ]
          },
          "metadata": {
            "tags": []
          },
          "execution_count": 34
        }
      ]
    },
    {
      "cell_type": "code",
      "metadata": {
        "colab": {
          "base_uri": "https://localhost:8080/",
          "height": 328
        },
        "id": "DxBtTbmib6Wl",
        "outputId": "858ca3ab-e0ee-4028-eb46-5a9703c5f666"
      },
      "source": [
        "pd.DataFrame(history1.history).plot(figsize=(8, 5))\n",
        "plt.grid(True)\n",
        "plt.gca().set_ylim(0, 1)\n",
        "plt.show()"
      ],
      "execution_count": 35,
      "outputs": [
        {
          "output_type": "display_data",
          "data": {
            "image/png": "[encoded data removed]",
            "text/plain": [
              "<Figure size 576x360 with 1 Axes>"
            ]
          },
          "metadata": {
            "tags": [],
            "needs_background": "light"
          }
        }
      ]
    },
    {
      "cell_type": "markdown",
      "metadata": {
        "id": "kymQTGDJcfwV"
      },
      "source": [
        "Third optimizer Nadam"
      ]
    },
    {
      "cell_type": "code",
      "metadata": {
        "id": "hQH8IP4vcmFO"
      },
      "source": [
        "model.compile(loss=\"sparse_categorical_crossentropy\",\n",
        "              optimizer=\"Nadam\",\n",
        "              metrics=[\"accuracy\"])"
      ],
      "execution_count": 36,
      "outputs": []
    },
    {
      "cell_type": "code",
      "metadata": {
        "colab": {
          "base_uri": "https://localhost:8080/"
        },
        "id": "c-aIdixlcoF2",
        "outputId": "64139f84-3a22-46a1-8480-98a8122eb638"
      },
      "source": [
        "history2 = model.fit(X_train, y_train, batch_size=32, epochs=30,\n",
        "                    validation_data=(X_valid, y_valid))"
      ],
      "execution_count": 37,
      "outputs": [
        {
          "output_type": "stream",
          "text": [
            "Epoch 1/30\n",
            "1719/1719 [==============================] - 11s 6ms/step - loss: 0.2376 - accuracy: 0.9348 - val_loss: 0.8511 - val_accuracy: 0.8844\n",
            "Epoch 2/30\n",
            "1719/1719 [==============================] - 10s 6ms/step - loss: 0.2059 - accuracy: 0.9379 - val_loss: 0.7443 - val_accuracy: 0.8876\n",
            "Epoch 3/30\n",
            "1719/1719 [==============================] - 11s 6ms/step - loss: 0.1824 - accuracy: 0.9405 - val_loss: 0.7638 - val_accuracy: 0.8900\n",
            "Epoch 4/30\n",
            "1719/1719 [==============================] - 11s 6ms/step - loss: 0.1689 - accuracy: 0.9422 - val_loss: 0.7989 - val_accuracy: 0.8898\n",
            "Epoch 5/30\n",
            "1719/1719 [==============================] - 10s 6ms/step - loss: 0.1628 - accuracy: 0.9456 - val_loss: 0.8624 - val_accuracy: 0.8888\n",
            "Epoch 6/30\n",
            "1719/1719 [==============================] - 11s 6ms/step - loss: 0.1583 - accuracy: 0.9467 - val_loss: 0.7454 - val_accuracy: 0.8952\n",
            "Epoch 7/30\n",
            "1719/1719 [==============================] - 11s 6ms/step - loss: 0.1485 - accuracy: 0.9489 - val_loss: 0.7916 - val_accuracy: 0.8956\n",
            "Epoch 8/30\n",
            "1719/1719 [==============================] - 11s 6ms/step - loss: 0.1471 - accuracy: 0.9490 - val_loss: 0.7908 - val_accuracy: 0.8988\n",
            "Epoch 9/30\n",
            "1719/1719 [==============================] - 11s 6ms/step - loss: 0.1364 - accuracy: 0.9513 - val_loss: 0.7540 - val_accuracy: 0.8932\n",
            "Epoch 10/30\n",
            "1719/1719 [==============================] - 11s 6ms/step - loss: 0.1363 - accuracy: 0.9518 - val_loss: 0.6916 - val_accuracy: 0.8914\n",
            "Epoch 11/30\n",
            "1719/1719 [==============================] - 11s 7ms/step - loss: 0.1283 - accuracy: 0.9529 - val_loss: 0.8154 - val_accuracy: 0.8956\n",
            "Epoch 12/30\n",
            "1719/1719 [==============================] - 12s 7ms/step - loss: 0.1267 - accuracy: 0.9548 - val_loss: 0.7266 - val_accuracy: 0.9006\n",
            "Epoch 13/30\n",
            "1719/1719 [==============================] - 11s 7ms/step - loss: 0.1244 - accuracy: 0.9553 - val_loss: 0.7679 - val_accuracy: 0.8930\n",
            "Epoch 14/30\n",
            "1719/1719 [==============================] - 11s 6ms/step - loss: 0.1210 - accuracy: 0.9563 - val_loss: 0.8049 - val_accuracy: 0.8900\n",
            "Epoch 15/30\n",
            "1719/1719 [==============================] - 11s 6ms/step - loss: 0.1145 - accuracy: 0.9576 - val_loss: 0.8443 - val_accuracy: 0.8890\n",
            "Epoch 16/30\n",
            "1719/1719 [==============================] - 11s 6ms/step - loss: 0.1263 - accuracy: 0.9550 - val_loss: 0.8235 - val_accuracy: 0.8940\n",
            "Epoch 17/30\n",
            "1719/1719 [==============================] - 11s 6ms/step - loss: 0.1123 - accuracy: 0.9593 - val_loss: 0.8528 - val_accuracy: 0.8996\n",
            "Epoch 18/30\n",
            "1719/1719 [==============================] - 11s 6ms/step - loss: 0.1124 - accuracy: 0.9607 - val_loss: 0.7876 - val_accuracy: 0.8936\n",
            "Epoch 19/30\n",
            "1719/1719 [==============================] - 13s 8ms/step - loss: 0.1071 - accuracy: 0.9606 - val_loss: 0.8465 - val_accuracy: 0.8924\n",
            "Epoch 20/30\n",
            "1719/1719 [==============================] - 11s 6ms/step - loss: 0.1084 - accuracy: 0.9596 - val_loss: 0.7982 - val_accuracy: 0.8898\n",
            "Epoch 21/30\n",
            "1719/1719 [==============================] - 10s 6ms/step - loss: 0.1170 - accuracy: 0.9596 - val_loss: 0.7509 - val_accuracy: 0.8978\n",
            "Epoch 22/30\n",
            "1719/1719 [==============================] - 11s 6ms/step - loss: 0.1025 - accuracy: 0.9614 - val_loss: 0.7667 - val_accuracy: 0.8942\n",
            "Epoch 23/30\n",
            "1719/1719 [==============================] - 11s 6ms/step - loss: 0.1016 - accuracy: 0.9624 - val_loss: 0.9077 - val_accuracy: 0.8936\n",
            "Epoch 24/30\n",
            "1719/1719 [==============================] - 11s 6ms/step - loss: 0.1010 - accuracy: 0.9626 - val_loss: 0.8402 - val_accuracy: 0.8858\n",
            "Epoch 25/30\n",
            "1719/1719 [==============================] - 12s 7ms/step - loss: 0.0995 - accuracy: 0.9635 - val_loss: 0.8408 - val_accuracy: 0.8912\n",
            "Epoch 26/30\n",
            "1719/1719 [==============================] - 11s 7ms/step - loss: 0.0957 - accuracy: 0.9649 - val_loss: 0.8088 - val_accuracy: 0.8934\n",
            "Epoch 27/30\n",
            "1719/1719 [==============================] - 11s 6ms/step - loss: 0.0919 - accuracy: 0.9651 - val_loss: 0.8794 - val_accuracy: 0.8904\n",
            "Epoch 28/30\n",
            "1719/1719 [==============================] - 11s 6ms/step - loss: 0.0920 - accuracy: 0.9655 - val_loss: 0.8446 - val_accuracy: 0.8938\n",
            "Epoch 29/30\n",
            "1719/1719 [==============================] - 10s 6ms/step - loss: 0.0911 - accuracy: 0.9659 - val_loss: 0.8495 - val_accuracy: 0.8978\n",
            "Epoch 30/30\n",
            "1719/1719 [==============================] - 10s 6ms/step - loss: 0.0939 - accuracy: 0.9660 - val_loss: 0.8350 - val_accuracy: 0.8934\n"
          ],
          "name": "stdout"
        }
      ]
    },
    {
      "cell_type": "code",
      "metadata": {
        "colab": {
          "base_uri": "https://localhost:8080/"
        },
        "id": "4uhItB_Ucq8q",
        "outputId": "f1571663-a72f-49f9-8767-0e519d9de472"
      },
      "source": [
        "history2.params"
      ],
      "execution_count": 38,
      "outputs": [
        {
          "output_type": "execute_result",
          "data": {
            "text/plain": [
              "{'epochs': 30, 'steps': 1719, 'verbose': 1}"
            ]
          },
          "metadata": {
            "tags": []
          },
          "execution_count": 38
        }
      ]
    },
    {
      "cell_type": "code",
      "metadata": {
        "colab": {
          "base_uri": "https://localhost:8080/",
          "height": 328
        },
        "id": "m0_juqtXcu5a",
        "outputId": "e7d2ad30-d38f-4184-baa1-855343a53400"
      },
      "source": [
        "pd.DataFrame(history2.history).plot(figsize=(8, 5))\n",
        "plt.grid(True)\n",
        "plt.gca().set_ylim(0, 1)\n",
        "plt.show()"
      ],
      "execution_count": 39,
      "outputs": [
        {
          "output_type": "display_data",
          "data": {
            "image/png": "[encoded data removed]",
            "text/plain": [
              "<Figure size 576x360 with 1 Axes>"
            ]
          },
          "metadata": {
            "tags": [],
            "needs_background": "light"
          }
        }
      ]
    },
    {
      "cell_type": "markdown",
      "metadata": {
        "id": "fGiXTAoHcx5b"
      },
      "source": [
        "2. Plot Learning curves when using different batch size"
      ]
    },
    {
      "cell_type": "markdown",
      "metadata": {
        "id": "EfYU56xPeQ9D"
      },
      "source": [
        "First batch size is 10"
      ]
    },
    {
      "cell_type": "code",
      "metadata": {
        "colab": {
          "base_uri": "https://localhost:8080/"
        },
        "id": "YVYzDxYkdGdj",
        "outputId": "2f719f61-ac3c-4aab-b6d7-fb4b3fbdef98"
      },
      "source": [
        "history3 = model.fit(X_train, y_train, batch_size=10, epochs=30,\n",
        "                    validation_data=(X_valid, y_valid))"
      ],
      "execution_count": 40,
      "outputs": [
        {
          "output_type": "stream",
          "text": [
            "Epoch 1/30\n",
            "5500/5500 [==============================] - 34s 6ms/step - loss: 0.1795 - accuracy: 0.9406 - val_loss: 0.7691 - val_accuracy: 0.8924\n",
            "Epoch 2/30\n",
            "5500/5500 [==============================] - 34s 6ms/step - loss: 0.1544 - accuracy: 0.9463 - val_loss: 0.7789 - val_accuracy: 0.8894\n",
            "Epoch 3/30\n",
            "5500/5500 [==============================] - 33s 6ms/step - loss: 0.1585 - accuracy: 0.9466 - val_loss: 0.7881 - val_accuracy: 0.8802\n",
            "Epoch 4/30\n",
            "5500/5500 [==============================] - 34s 6ms/step - loss: 0.1592 - accuracy: 0.9465 - val_loss: 0.7777 - val_accuracy: 0.8914\n",
            "Epoch 5/30\n",
            "5500/5500 [==============================] - 34s 6ms/step - loss: 0.1546 - accuracy: 0.9466 - val_loss: 0.6885 - val_accuracy: 0.8876\n",
            "Epoch 6/30\n",
            "5500/5500 [==============================] - 36s 7ms/step - loss: 0.1513 - accuracy: 0.9468 - val_loss: 0.7653 - val_accuracy: 0.8912\n",
            "Epoch 7/30\n",
            "5500/5500 [==============================] - 34s 6ms/step - loss: 0.1463 - accuracy: 0.9496 - val_loss: 0.8271 - val_accuracy: 0.8860\n",
            "Epoch 8/30\n",
            "5500/5500 [==============================] - 36s 6ms/step - loss: 0.1453 - accuracy: 0.9489 - val_loss: 0.7895 - val_accuracy: 0.8848\n",
            "Epoch 9/30\n",
            "5500/5500 [==============================] - 35s 6ms/step - loss: 0.1451 - accuracy: 0.9492 - val_loss: 0.7210 - val_accuracy: 0.8942\n",
            "Epoch 10/30\n",
            "5500/5500 [==============================] - 33s 6ms/step - loss: 0.1399 - accuracy: 0.9503 - val_loss: 0.7040 - val_accuracy: 0.8908\n",
            "Epoch 11/30\n",
            "5500/5500 [==============================] - 33s 6ms/step - loss: 0.1398 - accuracy: 0.9518 - val_loss: 0.8887 - val_accuracy: 0.8864\n",
            "Epoch 12/30\n",
            "5500/5500 [==============================] - 34s 6ms/step - loss: 0.1376 - accuracy: 0.9512 - val_loss: 1.0283 - val_accuracy: 0.8810\n",
            "Epoch 13/30\n",
            "5500/5500 [==============================] - 34s 6ms/step - loss: 0.1355 - accuracy: 0.9537 - val_loss: 0.8119 - val_accuracy: 0.8942\n",
            "Epoch 14/30\n",
            "5500/5500 [==============================] - 34s 6ms/step - loss: 0.1322 - accuracy: 0.9540 - val_loss: 0.9949 - val_accuracy: 0.8866\n",
            "Epoch 15/30\n",
            "5500/5500 [==============================] - 35s 6ms/step - loss: 0.1350 - accuracy: 0.9524 - val_loss: 0.9888 - val_accuracy: 0.8896\n",
            "Epoch 16/30\n",
            "5500/5500 [==============================] - 35s 6ms/step - loss: 0.1272 - accuracy: 0.9571 - val_loss: 0.9252 - val_accuracy: 0.8870\n",
            "Epoch 17/30\n",
            "5500/5500 [==============================] - 34s 6ms/step - loss: 0.1286 - accuracy: 0.9546 - val_loss: 0.9062 - val_accuracy: 0.8874\n",
            "Epoch 18/30\n",
            "5500/5500 [==============================] - 33s 6ms/step - loss: 0.1361 - accuracy: 0.9528 - val_loss: 0.8016 - val_accuracy: 0.8944\n",
            "Epoch 19/30\n",
            "5500/5500 [==============================] - 32s 6ms/step - loss: 0.1207 - accuracy: 0.9572 - val_loss: 0.8360 - val_accuracy: 0.8840\n",
            "Epoch 20/30\n",
            "5500/5500 [==============================] - 32s 6ms/step - loss: 0.1269 - accuracy: 0.9561 - val_loss: 0.8630 - val_accuracy: 0.8930\n",
            "Epoch 21/30\n",
            "5500/5500 [==============================] - 33s 6ms/step - loss: 0.1235 - accuracy: 0.9573 - val_loss: 0.9079 - val_accuracy: 0.8944\n",
            "Epoch 22/30\n",
            "5500/5500 [==============================] - 34s 6ms/step - loss: 0.1207 - accuracy: 0.9577 - val_loss: 0.8945 - val_accuracy: 0.8942\n",
            "Epoch 23/30\n",
            "5500/5500 [==============================] - 33s 6ms/step - loss: 0.1238 - accuracy: 0.9575 - val_loss: 0.9938 - val_accuracy: 0.8820\n",
            "Epoch 24/30\n",
            "5500/5500 [==============================] - 32s 6ms/step - loss: 0.1202 - accuracy: 0.9571 - val_loss: 0.9012 - val_accuracy: 0.8890\n",
            "Epoch 25/30\n",
            "5500/5500 [==============================] - 32s 6ms/step - loss: 0.1153 - accuracy: 0.9577 - val_loss: 1.0319 - val_accuracy: 0.8860\n",
            "Epoch 26/30\n",
            "5500/5500 [==============================] - 33s 6ms/step - loss: 0.1193 - accuracy: 0.9583 - val_loss: 0.9714 - val_accuracy: 0.8920\n",
            "Epoch 27/30\n",
            "5500/5500 [==============================] - 32s 6ms/step - loss: 0.1141 - accuracy: 0.9595 - val_loss: 0.9692 - val_accuracy: 0.8722\n",
            "Epoch 28/30\n",
            "5500/5500 [==============================] - 32s 6ms/step - loss: 0.1196 - accuracy: 0.9597 - val_loss: 0.9513 - val_accuracy: 0.8920\n",
            "Epoch 29/30\n",
            "5500/5500 [==============================] - 33s 6ms/step - loss: 0.1143 - accuracy: 0.9605 - val_loss: 1.0622 - val_accuracy: 0.8876\n",
            "Epoch 30/30\n",
            "5500/5500 [==============================] - 32s 6ms/step - loss: 0.1132 - accuracy: 0.9600 - val_loss: 1.0589 - val_accuracy: 0.8812\n"
          ],
          "name": "stdout"
        }
      ]
    },
    {
      "cell_type": "code",
      "metadata": {
        "colab": {
          "base_uri": "https://localhost:8080/",
          "height": 328
        },
        "id": "1fr-hJ7Ue_yI",
        "outputId": "5736afc2-e341-4f55-ba20-5ac202cfa046"
      },
      "source": [
        "pd.DataFrame(history3.history).plot(figsize=(8, 5))\n",
        "plt.grid(True)\n",
        "plt.gca().set_ylim(0, 1)\n",
        "plt.show()"
      ],
      "execution_count": 41,
      "outputs": [
        {
          "output_type": "display_data",
          "data": {
            "image/png": "[encoded data removed]",
            "text/plain": [
              "<Figure size 576x360 with 1 Axes>"
            ]
          },
          "metadata": {
            "tags": [],
            "needs_background": "light"
          }
        }
      ]
    },
    {
      "cell_type": "markdown",
      "metadata": {
        "id": "qrviHwOBeaze"
      },
      "source": [
        "Second batch size is 40"
      ]
    },
    {
      "cell_type": "code",
      "metadata": {
        "colab": {
          "base_uri": "https://localhost:8080/"
        },
        "id": "KfB7-ifOd7zb",
        "outputId": "5bd20bb2-7e41-42c7-8da9-d339af60ef1c"
      },
      "source": [
        "history4 = model.fit(X_train, y_train, batch_size=40, epochs=30,\n",
        "                    validation_data=(X_valid, y_valid))"
      ],
      "execution_count": 42,
      "outputs": [
        {
          "output_type": "stream",
          "text": [
            "Epoch 1/30\n",
            "1375/1375 [==============================] - 10s 8ms/step - loss: 0.0641 - accuracy: 0.9758 - val_loss: 1.0644 - val_accuracy: 0.9010\n",
            "Epoch 2/30\n",
            "1375/1375 [==============================] - 10s 7ms/step - loss: 0.0561 - accuracy: 0.9789 - val_loss: 1.0516 - val_accuracy: 0.8984\n",
            "Epoch 3/30\n",
            "1375/1375 [==============================] - 10s 7ms/step - loss: 0.0602 - accuracy: 0.9773 - val_loss: 1.1277 - val_accuracy: 0.8994\n",
            "Epoch 4/30\n",
            "1375/1375 [==============================] - 9s 7ms/step - loss: 0.0594 - accuracy: 0.9773 - val_loss: 1.1107 - val_accuracy: 0.8962\n",
            "Epoch 5/30\n",
            "1375/1375 [==============================] - 9s 7ms/step - loss: 0.0623 - accuracy: 0.9765 - val_loss: 1.2264 - val_accuracy: 0.8948\n",
            "Epoch 6/30\n",
            "1375/1375 [==============================] - 9s 7ms/step - loss: 0.0582 - accuracy: 0.9780 - val_loss: 1.2152 - val_accuracy: 0.8930\n",
            "Epoch 7/30\n",
            "1375/1375 [==============================] - 10s 7ms/step - loss: 0.0617 - accuracy: 0.9768 - val_loss: 1.2065 - val_accuracy: 0.8978\n",
            "Epoch 8/30\n",
            "1375/1375 [==============================] - 10s 7ms/step - loss: 0.0547 - accuracy: 0.9800 - val_loss: 1.2617 - val_accuracy: 0.8986\n",
            "Epoch 9/30\n",
            "1375/1375 [==============================] - 10s 7ms/step - loss: 0.0547 - accuracy: 0.9793 - val_loss: 1.3266 - val_accuracy: 0.8924\n",
            "Epoch 10/30\n",
            "1375/1375 [==============================] - 10s 7ms/step - loss: 0.0543 - accuracy: 0.9804 - val_loss: 1.2469 - val_accuracy: 0.8954\n",
            "Epoch 11/30\n",
            "1375/1375 [==============================] - 9s 7ms/step - loss: 0.0531 - accuracy: 0.9802 - val_loss: 1.2550 - val_accuracy: 0.8938\n",
            "Epoch 12/30\n",
            "1375/1375 [==============================] - 11s 8ms/step - loss: 0.0539 - accuracy: 0.9803 - val_loss: 1.2444 - val_accuracy: 0.8970\n",
            "Epoch 13/30\n",
            "1375/1375 [==============================] - 10s 7ms/step - loss: 0.0487 - accuracy: 0.9810 - val_loss: 1.3320 - val_accuracy: 0.8938\n",
            "Epoch 14/30\n",
            "1375/1375 [==============================] - 9s 7ms/step - loss: 0.0549 - accuracy: 0.9804 - val_loss: 1.2488 - val_accuracy: 0.8976\n",
            "Epoch 15/30\n",
            "1375/1375 [==============================] - 9s 7ms/step - loss: 0.0490 - accuracy: 0.9818 - val_loss: 1.4353 - val_accuracy: 0.8950\n",
            "Epoch 16/30\n",
            "1375/1375 [==============================] - 9s 6ms/step - loss: 0.0513 - accuracy: 0.9805 - val_loss: 1.3206 - val_accuracy: 0.8976\n",
            "Epoch 17/30\n",
            "1375/1375 [==============================] - 10s 7ms/step - loss: 0.0539 - accuracy: 0.9812 - val_loss: 1.3517 - val_accuracy: 0.8974\n",
            "Epoch 18/30\n",
            "1375/1375 [==============================] - 9s 7ms/step - loss: 0.0473 - accuracy: 0.9823 - val_loss: 1.2770 - val_accuracy: 0.8990\n",
            "Epoch 19/30\n",
            "1375/1375 [==============================] - 9s 7ms/step - loss: 0.0507 - accuracy: 0.9809 - val_loss: 1.3605 - val_accuracy: 0.8958\n",
            "Epoch 20/30\n",
            "1375/1375 [==============================] - 11s 8ms/step - loss: 0.0504 - accuracy: 0.9809 - val_loss: 1.2760 - val_accuracy: 0.8924\n",
            "Epoch 21/30\n",
            "1375/1375 [==============================] - 9s 7ms/step - loss: 0.0472 - accuracy: 0.9825 - val_loss: 1.3538 - val_accuracy: 0.8962\n",
            "Epoch 22/30\n",
            "1375/1375 [==============================] - 10s 7ms/step - loss: 0.0426 - accuracy: 0.9840 - val_loss: 1.3599 - val_accuracy: 0.8952\n",
            "Epoch 23/30\n",
            "1375/1375 [==============================] - 10s 7ms/step - loss: 0.0432 - accuracy: 0.9832 - val_loss: 1.3970 - val_accuracy: 0.8954\n",
            "Epoch 24/30\n",
            "1375/1375 [==============================] - 9s 7ms/step - loss: 0.0440 - accuracy: 0.9831 - val_loss: 1.4655 - val_accuracy: 0.8908\n",
            "Epoch 25/30\n",
            "1375/1375 [==============================] - 10s 7ms/step - loss: 0.0457 - accuracy: 0.9832 - val_loss: 1.3653 - val_accuracy: 0.8930\n",
            "Epoch 26/30\n",
            "1375/1375 [==============================] - 10s 7ms/step - loss: 0.0426 - accuracy: 0.9843 - val_loss: 1.4867 - val_accuracy: 0.8952\n",
            "Epoch 27/30\n",
            "1375/1375 [==============================] - 10s 7ms/step - loss: 0.0416 - accuracy: 0.9843 - val_loss: 1.5269 - val_accuracy: 0.8942\n",
            "Epoch 28/30\n",
            "1375/1375 [==============================] - 10s 7ms/step - loss: 0.0433 - accuracy: 0.9834 - val_loss: 1.4724 - val_accuracy: 0.8956\n",
            "Epoch 29/30\n",
            "1375/1375 [==============================] - 10s 7ms/step - loss: 0.0503 - accuracy: 0.9825 - val_loss: 1.5921 - val_accuracy: 0.8948\n",
            "Epoch 30/30\n",
            "1375/1375 [==============================] - 9s 7ms/step - loss: 0.0391 - accuracy: 0.9854 - val_loss: 1.4804 - val_accuracy: 0.8962\n"
          ],
          "name": "stdout"
        }
      ]
    },
    {
      "cell_type": "code",
      "metadata": {
        "colab": {
          "base_uri": "https://localhost:8080/",
          "height": 328
        },
        "id": "bPjLW9A_ep7e",
        "outputId": "be4d9fda-97e3-4b75-a7a9-74f2d03e92a3"
      },
      "source": [
        "pd.DataFrame(history4.history).plot(figsize=(8, 5))\n",
        "plt.grid(True)\n",
        "plt.gca().set_ylim(0, 1)\n",
        "plt.show()"
      ],
      "execution_count": 43,
      "outputs": [
        {
          "output_type": "display_data",
          "data": {
            "image/png": "[encoded data removed]",
            "text/plain": [
              "<Figure size 576x360 with 1 Axes>"
            ]
          },
          "metadata": {
            "tags": [],
            "needs_background": "light"
          }
        }
      ]
    },
    {
      "cell_type": "markdown",
      "metadata": {
        "id": "rk9C6fD9fF6C"
      },
      "source": [
        "3. Plot Learning curves when using different number of epochs"
      ]
    },
    {
      "cell_type": "markdown",
      "metadata": {
        "id": "aBFSCoIlfIrr"
      },
      "source": [
        "First epoch is 12"
      ]
    },
    {
      "cell_type": "code",
      "metadata": {
        "colab": {
          "base_uri": "https://localhost:8080/"
        },
        "id": "hKsolstHfH5e",
        "outputId": "cc6f218b-e075-4031-fec5-e2002d4e8e5d"
      },
      "source": [
        "history5 = model.fit(X_train, y_train, batch_size=32, epochs=12,\n",
        "                    validation_data=(X_valid, y_valid))"
      ],
      "execution_count": 44,
      "outputs": [
        {
          "output_type": "stream",
          "text": [
            "Epoch 1/12\n",
            "1719/1719 [==============================] - 11s 6ms/step - loss: 0.0536 - accuracy: 0.9802 - val_loss: 1.4644 - val_accuracy: 0.8902\n",
            "Epoch 2/12\n",
            "1719/1719 [==============================] - 10s 6ms/step - loss: 0.0494 - accuracy: 0.9828 - val_loss: 1.5602 - val_accuracy: 0.8936\n",
            "Epoch 3/12\n",
            "1719/1719 [==============================] - 12s 7ms/step - loss: 0.0478 - accuracy: 0.9837 - val_loss: 1.4331 - val_accuracy: 0.8982\n",
            "Epoch 4/12\n",
            "1719/1719 [==============================] - 11s 6ms/step - loss: 0.0439 - accuracy: 0.9842 - val_loss: 1.3926 - val_accuracy: 0.8952\n",
            "Epoch 5/12\n",
            "1719/1719 [==============================] - 11s 6ms/step - loss: 0.0427 - accuracy: 0.9844 - val_loss: 1.4700 - val_accuracy: 0.8952\n",
            "Epoch 6/12\n",
            "1719/1719 [==============================] - 11s 7ms/step - loss: 0.0533 - accuracy: 0.9819 - val_loss: 1.3599 - val_accuracy: 0.8940\n",
            "Epoch 7/12\n",
            "1719/1719 [==============================] - 11s 6ms/step - loss: 0.0421 - accuracy: 0.9844 - val_loss: 1.4745 - val_accuracy: 0.8966\n",
            "Epoch 8/12\n",
            "1719/1719 [==============================] - 11s 6ms/step - loss: 0.0492 - accuracy: 0.9837 - val_loss: 1.5254 - val_accuracy: 0.8948\n",
            "Epoch 9/12\n",
            "1719/1719 [==============================] - 10s 6ms/step - loss: 0.0440 - accuracy: 0.9841 - val_loss: 1.5946 - val_accuracy: 0.8962\n",
            "Epoch 10/12\n",
            "1719/1719 [==============================] - 11s 6ms/step - loss: 0.0443 - accuracy: 0.9837 - val_loss: 1.6080 - val_accuracy: 0.8936\n",
            "Epoch 11/12\n",
            "1719/1719 [==============================] - 11s 6ms/step - loss: 0.0427 - accuracy: 0.9846 - val_loss: 1.5499 - val_accuracy: 0.8952\n",
            "Epoch 12/12\n",
            "1719/1719 [==============================] - 11s 6ms/step - loss: 0.0459 - accuracy: 0.9840 - val_loss: 1.5721 - val_accuracy: 0.8932\n"
          ],
          "name": "stdout"
        }
      ]
    },
    {
      "cell_type": "code",
      "metadata": {
        "colab": {
          "base_uri": "https://localhost:8080/",
          "height": 328
        },
        "id": "NVTxOfV1fbQ9",
        "outputId": "655c0551-5a75-4820-f36f-3c10e65b9f02"
      },
      "source": [
        "pd.DataFrame(history5.history).plot(figsize=(8, 5))\n",
        "plt.grid(True)\n",
        "plt.gca().set_ylim(0, 1)\n",
        "plt.show()"
      ],
      "execution_count": 45,
      "outputs": [
        {
          "output_type": "display_data",
          "data": {
            "image/png": "[encoded data removed]",
            "text/plain": [
              "<Figure size 576x360 with 1 Axes>"
            ]
          },
          "metadata": {
            "tags": [],
            "needs_background": "light"
          }
        }
      ]
    },
    {
      "cell_type": "markdown",
      "metadata": {
        "id": "XerKrcgnfljx"
      },
      "source": [
        "Second epoch is 44"
      ]
    },
    {
      "cell_type": "code",
      "metadata": {
        "colab": {
          "base_uri": "https://localhost:8080/"
        },
        "id": "gYOhyEcUfeKF",
        "outputId": "31923a35-a348-444e-bf29-55b65fd7334f"
      },
      "source": [
        "history5 = model.fit(X_train, y_train, batch_size=32, epochs=44,\n",
        "                    validation_data=(X_valid, y_valid))"
      ],
      "execution_count": 46,
      "outputs": [
        {
          "output_type": "stream",
          "text": [
            "Epoch 1/44\n",
            "1719/1719 [==============================] - 11s 7ms/step - loss: 0.0415 - accuracy: 0.9852 - val_loss: 1.5375 - val_accuracy: 0.8946\n",
            "Epoch 2/44\n",
            "1719/1719 [==============================] - 10s 6ms/step - loss: 0.0476 - accuracy: 0.9834 - val_loss: 1.7231 - val_accuracy: 0.8898\n",
            "Epoch 3/44\n",
            "1719/1719 [==============================] - 10s 6ms/step - loss: 0.0400 - accuracy: 0.9862 - val_loss: 1.6807 - val_accuracy: 0.8926\n",
            "Epoch 4/44\n",
            "1719/1719 [==============================] - 10s 6ms/step - loss: 0.0408 - accuracy: 0.9848 - val_loss: 1.6029 - val_accuracy: 0.8948\n",
            "Epoch 5/44\n",
            "1719/1719 [==============================] - 10s 6ms/step - loss: 0.0393 - accuracy: 0.9854 - val_loss: 1.7263 - val_accuracy: 0.8976\n",
            "Epoch 6/44\n",
            "1719/1719 [==============================] - 11s 6ms/step - loss: 0.0507 - accuracy: 0.9827 - val_loss: 1.6462 - val_accuracy: 0.8922\n",
            "Epoch 7/44\n",
            "1719/1719 [==============================] - 11s 6ms/step - loss: 0.0369 - accuracy: 0.9868 - val_loss: 1.6778 - val_accuracy: 0.8978\n",
            "Epoch 8/44\n",
            "1719/1719 [==============================] - 10s 6ms/step - loss: 0.0410 - accuracy: 0.9849 - val_loss: 1.6468 - val_accuracy: 0.8842\n",
            "Epoch 9/44\n",
            "1719/1719 [==============================] - 10s 6ms/step - loss: 0.0475 - accuracy: 0.9833 - val_loss: 1.8431 - val_accuracy: 0.8900\n",
            "Epoch 10/44\n",
            "1719/1719 [==============================] - 10s 6ms/step - loss: 0.0389 - accuracy: 0.9857 - val_loss: 1.6394 - val_accuracy: 0.8928\n",
            "Epoch 11/44\n",
            "1719/1719 [==============================] - 10s 6ms/step - loss: 0.0372 - accuracy: 0.9861 - val_loss: 1.7146 - val_accuracy: 0.8926\n",
            "Epoch 12/44\n",
            "1719/1719 [==============================] - 10s 6ms/step - loss: 0.0390 - accuracy: 0.9856 - val_loss: 1.6310 - val_accuracy: 0.8910\n",
            "Epoch 13/44\n",
            "1719/1719 [==============================] - 11s 6ms/step - loss: 0.0410 - accuracy: 0.9854 - val_loss: 1.8394 - val_accuracy: 0.8886\n",
            "Epoch 14/44\n",
            "1719/1719 [==============================] - 11s 6ms/step - loss: 0.0361 - accuracy: 0.9872 - val_loss: 1.7471 - val_accuracy: 0.8922\n",
            "Epoch 15/44\n",
            "1719/1719 [==============================] - 11s 6ms/step - loss: 0.0368 - accuracy: 0.9870 - val_loss: 1.7974 - val_accuracy: 0.8954\n",
            "Epoch 16/44\n",
            "1719/1719 [==============================] - 10s 6ms/step - loss: 0.0435 - accuracy: 0.9855 - val_loss: 1.7824 - val_accuracy: 0.8942\n",
            "Epoch 17/44\n",
            "1719/1719 [==============================] - 10s 6ms/step - loss: 0.0385 - accuracy: 0.9863 - val_loss: 1.6659 - val_accuracy: 0.8966\n",
            "Epoch 18/44\n",
            "1719/1719 [==============================] - 11s 6ms/step - loss: 0.0366 - accuracy: 0.9872 - val_loss: 1.6474 - val_accuracy: 0.8962\n",
            "Epoch 19/44\n",
            "1719/1719 [==============================] - 11s 6ms/step - loss: 0.0414 - accuracy: 0.9856 - val_loss: 1.7874 - val_accuracy: 0.8982\n",
            "Epoch 20/44\n",
            "1719/1719 [==============================] - 12s 7ms/step - loss: 0.0423 - accuracy: 0.9863 - val_loss: 1.7626 - val_accuracy: 0.8982\n",
            "Epoch 21/44\n",
            "1719/1719 [==============================] - 11s 7ms/step - loss: 0.0390 - accuracy: 0.9872 - val_loss: 1.8214 - val_accuracy: 0.8934\n",
            "Epoch 22/44\n",
            "1719/1719 [==============================] - 11s 7ms/step - loss: 0.0397 - accuracy: 0.9867 - val_loss: 1.7983 - val_accuracy: 0.8970\n",
            "Epoch 23/44\n",
            "1719/1719 [==============================] - 11s 6ms/step - loss: 0.0386 - accuracy: 0.9868 - val_loss: 1.7220 - val_accuracy: 0.8944\n",
            "Epoch 24/44\n",
            "1719/1719 [==============================] - 10s 6ms/step - loss: 0.0318 - accuracy: 0.9881 - val_loss: 1.7996 - val_accuracy: 0.8904\n",
            "Epoch 25/44\n",
            "1719/1719 [==============================] - 10s 6ms/step - loss: 0.0504 - accuracy: 0.9840 - val_loss: 1.7376 - val_accuracy: 0.8972\n",
            "Epoch 26/44\n",
            "1719/1719 [==============================] - 11s 6ms/step - loss: 0.0419 - accuracy: 0.9866 - val_loss: 1.6408 - val_accuracy: 0.8950\n",
            "Epoch 27/44\n",
            "1719/1719 [==============================] - 10s 6ms/step - loss: 0.0403 - accuracy: 0.9873 - val_loss: 1.7471 - val_accuracy: 0.8948\n",
            "Epoch 28/44\n",
            "1719/1719 [==============================] - 11s 6ms/step - loss: 0.0357 - accuracy: 0.9875 - val_loss: 1.7906 - val_accuracy: 0.8910\n",
            "Epoch 29/44\n",
            "1719/1719 [==============================] - 10s 6ms/step - loss: 0.0362 - accuracy: 0.9874 - val_loss: 1.7724 - val_accuracy: 0.8984\n",
            "Epoch 30/44\n",
            "1719/1719 [==============================] - 11s 6ms/step - loss: 0.0356 - accuracy: 0.9880 - val_loss: 1.9296 - val_accuracy: 0.8968\n",
            "Epoch 31/44\n",
            "1719/1719 [==============================] - 10s 6ms/step - loss: 0.0353 - accuracy: 0.9878 - val_loss: 1.7861 - val_accuracy: 0.8940\n",
            "Epoch 32/44\n",
            "1719/1719 [==============================] - 11s 6ms/step - loss: 0.0324 - accuracy: 0.9885 - val_loss: 1.8624 - val_accuracy: 0.8938\n",
            "Epoch 33/44\n",
            "1719/1719 [==============================] - 10s 6ms/step - loss: 0.0348 - accuracy: 0.9869 - val_loss: 1.9491 - val_accuracy: 0.8948\n",
            "Epoch 34/44\n",
            "1719/1719 [==============================] - 11s 6ms/step - loss: 0.0380 - accuracy: 0.9869 - val_loss: 1.7953 - val_accuracy: 0.8948\n",
            "Epoch 35/44\n",
            "1719/1719 [==============================] - 10s 6ms/step - loss: 0.0319 - accuracy: 0.9887 - val_loss: 1.9277 - val_accuracy: 0.8936\n",
            "Epoch 36/44\n",
            "1719/1719 [==============================] - 11s 6ms/step - loss: 0.0376 - accuracy: 0.9873 - val_loss: 1.7311 - val_accuracy: 0.8894\n",
            "Epoch 37/44\n",
            "1719/1719 [==============================] - 11s 6ms/step - loss: 0.0304 - accuracy: 0.9894 - val_loss: 1.9053 - val_accuracy: 0.8946\n",
            "Epoch 38/44\n",
            "1719/1719 [==============================] - 10s 6ms/step - loss: 0.0464 - accuracy: 0.9856 - val_loss: 1.9097 - val_accuracy: 0.8904\n",
            "Epoch 39/44\n",
            "1719/1719 [==============================] - 10s 6ms/step - loss: 0.0290 - accuracy: 0.9905 - val_loss: 2.0458 - val_accuracy: 0.8924\n",
            "Epoch 40/44\n",
            "1719/1719 [==============================] - 10s 6ms/step - loss: 0.0492 - accuracy: 0.9851 - val_loss: 1.7821 - val_accuracy: 0.8952\n",
            "Epoch 41/44\n",
            "1719/1719 [==============================] - 11s 6ms/step - loss: 0.0241 - accuracy: 0.9911 - val_loss: 1.9834 - val_accuracy: 0.8916\n",
            "Epoch 42/44\n",
            "1719/1719 [==============================] - 11s 6ms/step - loss: 0.0357 - accuracy: 0.9879 - val_loss: 1.8341 - val_accuracy: 0.8916\n",
            "Epoch 43/44\n",
            "1719/1719 [==============================] - 10s 6ms/step - loss: 0.0352 - accuracy: 0.9879 - val_loss: 1.9191 - val_accuracy: 0.8920\n",
            "Epoch 44/44\n",
            "1719/1719 [==============================] - 10s 6ms/step - loss: 0.0350 - accuracy: 0.9884 - val_loss: 1.8856 - val_accuracy: 0.8900\n"
          ],
          "name": "stdout"
        }
      ]
    },
    {
      "cell_type": "code",
      "metadata": {
        "colab": {
          "base_uri": "https://localhost:8080/",
          "height": 328
        },
        "id": "0En8twlifeYI",
        "outputId": "3cce56dd-910b-484c-dbfb-57f279837511"
      },
      "source": [
        "pd.DataFrame(history5.history).plot(figsize=(8, 5))\n",
        "plt.grid(True)\n",
        "plt.gca().set_ylim(0, 1)\n",
        "plt.show()"
      ],
      "execution_count": 47,
      "outputs": [
        {
          "output_type": "display_data",
          "data": {
            "image/png": "[encoded data removed]",
            "text/plain": [
              "<Figure size 576x360 with 1 Axes>"
            ]
          },
          "metadata": {
            "tags": [],
            "needs_background": "light"
          }
        }
      ]
    },
    {
      "cell_type": "markdown",
      "metadata": {
        "id": "e_YoFskqfsAd"
      },
      "source": [
        " 4.Add additional neurons and use Dropout Layer. Plot Learning curves."
      ]
    },
    {
      "cell_type": "code",
      "metadata": {
        "id": "5ZbIgM1IkfjR"
      },
      "source": [
        "model = keras.models.Sequential()\n",
        "model.add(keras.layers.Flatten(input_shape=[28, 28]))\n",
        "model.add(keras.layers.Dense(400, activation=\"relu\"))\n",
        "model.add((keras.layers.Dropout(0.6)))\n",
        "model.add(keras.layers.Dense(150, activation=\"relu\"))\n",
        "model.add(keras.layers.Dense(70, activation=\"softmax\"))"
      ],
      "execution_count": 48,
      "outputs": []
    },
    {
      "cell_type": "code",
      "metadata": {
        "colab": {
          "base_uri": "https://localhost:8080/"
        },
        "id": "bqvJh0TJmjGn",
        "outputId": "7870151b-8498-4708-9df0-cd3d97a888ff"
      },
      "source": [
        "model.layers"
      ],
      "execution_count": 49,
      "outputs": [
        {
          "output_type": "execute_result",
          "data": {
            "text/plain": [
              "[<tensorflow.python.keras.layers.core.Flatten at 0x7f2795d3f278>,\n",
              " <tensorflow.python.keras.layers.core.Dense at 0x7f2788779ef0>,\n",
              " <tensorflow.python.keras.layers.core.Dropout at 0x7f278bd269e8>,\n",
              " <tensorflow.python.keras.layers.core.Dense at 0x7f278be70fd0>,\n",
              " <tensorflow.python.keras.layers.core.Dense at 0x7f278be27ef0>]"
            ]
          },
          "metadata": {
            "tags": []
          },
          "execution_count": 49
        }
      ]
    },
    {
      "cell_type": "code",
      "metadata": {
        "colab": {
          "base_uri": "https://localhost:8080/"
        },
        "id": "L44syg-3mjsi",
        "outputId": "36a87bc2-881a-4719-c2f1-1c706fdc33a0"
      },
      "source": [
        "model.summary()"
      ],
      "execution_count": 50,
      "outputs": [
        {
          "output_type": "stream",
          "text": [
            "Model: \"sequential\"\n",
            "_________________________________________________________________\n",
            "Layer (type)                 Output Shape              Param #   \n",
            "=================================================================\n",
            "flatten (Flatten)            (None, 784)               0         \n",
            "_________________________________________________________________\n",
            "dense (Dense)                (None, 400)               314000    \n",
            "_________________________________________________________________\n",
            "dropout (Dropout)            (None, 400)               0         \n",
            "_________________________________________________________________\n",
            "dense_1 (Dense)              (None, 150)               60150     \n",
            "_________________________________________________________________\n",
            "dense_2 (Dense)              (None, 70)                10570     \n",
            "=================================================================\n",
            "Total params: 384,720\n",
            "Trainable params: 384,720\n",
            "Non-trainable params: 0\n",
            "_________________________________________________________________\n"
          ],
          "name": "stdout"
        }
      ]
    },
    {
      "cell_type": "code",
      "metadata": {
        "id": "-MaQapkis489"
      },
      "source": [
        "model.compile(loss=\"sparse_categorical_crossentropy\",\n",
        "              optimizer=\"sgd\",\n",
        "              metrics=[\"accuracy\"])"
      ],
      "execution_count": 51,
      "outputs": []
    },
    {
      "cell_type": "code",
      "metadata": {
        "colab": {
          "base_uri": "https://localhost:8080/"
        },
        "id": "WseZHaBImwBv",
        "outputId": "fae080b9-b963-41a6-d732-b7bdd5bb8dbc"
      },
      "source": [
        "history7 = model.fit(X_train, y_train, batch_size=32, epochs=30,\n",
        "                    validation_data=(X_valid, y_valid))"
      ],
      "execution_count": 52,
      "outputs": [
        {
          "output_type": "stream",
          "text": [
            "Epoch 1/30\n",
            "1719/1719 [==============================] - 7s 4ms/step - loss: 0.9773 - accuracy: 0.6715 - val_loss: 0.5819 - val_accuracy: 0.7954\n",
            "Epoch 2/30\n",
            "1719/1719 [==============================] - 7s 4ms/step - loss: 0.6098 - accuracy: 0.7865 - val_loss: 0.4842 - val_accuracy: 0.8348\n",
            "Epoch 3/30\n",
            "1719/1719 [==============================] - 8s 5ms/step - loss: 0.5375 - accuracy: 0.8092 - val_loss: 0.4554 - val_accuracy: 0.8416\n",
            "Epoch 4/30\n",
            "1719/1719 [==============================] - 7s 4ms/step - loss: 0.4956 - accuracy: 0.8249 - val_loss: 0.4100 - val_accuracy: 0.8610\n",
            "Epoch 5/30\n",
            "1719/1719 [==============================] - 8s 4ms/step - loss: 0.4685 - accuracy: 0.8318 - val_loss: 0.3972 - val_accuracy: 0.8620\n",
            "Epoch 6/30\n",
            "1719/1719 [==============================] - 8s 5ms/step - loss: 0.4481 - accuracy: 0.8413 - val_loss: 0.3823 - val_accuracy: 0.8634\n",
            "Epoch 7/30\n",
            "1719/1719 [==============================] - 8s 5ms/step - loss: 0.4343 - accuracy: 0.8433 - val_loss: 0.3797 - val_accuracy: 0.8658\n",
            "Epoch 8/30\n",
            "1719/1719 [==============================] - 7s 4ms/step - loss: 0.4190 - accuracy: 0.8502 - val_loss: 0.3741 - val_accuracy: 0.8706\n",
            "Epoch 9/30\n",
            "1719/1719 [==============================] - 7s 4ms/step - loss: 0.4091 - accuracy: 0.8526 - val_loss: 0.3583 - val_accuracy: 0.8742\n",
            "Epoch 10/30\n",
            "1719/1719 [==============================] - 8s 4ms/step - loss: 0.4013 - accuracy: 0.8567 - val_loss: 0.3628 - val_accuracy: 0.8706\n",
            "Epoch 11/30\n",
            "1719/1719 [==============================] - 8s 4ms/step - loss: 0.3939 - accuracy: 0.8577 - val_loss: 0.3536 - val_accuracy: 0.8740\n",
            "Epoch 12/30\n",
            "1719/1719 [==============================] - 7s 4ms/step - loss: 0.3880 - accuracy: 0.8593 - val_loss: 0.3448 - val_accuracy: 0.8760\n",
            "Epoch 13/30\n",
            "1719/1719 [==============================] - 8s 4ms/step - loss: 0.3811 - accuracy: 0.8627 - val_loss: 0.3476 - val_accuracy: 0.8754\n",
            "Epoch 14/30\n",
            "1719/1719 [==============================] - 8s 5ms/step - loss: 0.3740 - accuracy: 0.8655 - val_loss: 0.3408 - val_accuracy: 0.8788\n",
            "Epoch 15/30\n",
            "1719/1719 [==============================] - 8s 5ms/step - loss: 0.3656 - accuracy: 0.8680 - val_loss: 0.3318 - val_accuracy: 0.8796\n",
            "Epoch 16/30\n",
            "1719/1719 [==============================] - 8s 4ms/step - loss: 0.3635 - accuracy: 0.8689 - val_loss: 0.3326 - val_accuracy: 0.8804\n",
            "Epoch 17/30\n",
            "1719/1719 [==============================] - 7s 4ms/step - loss: 0.3576 - accuracy: 0.8706 - val_loss: 0.3348 - val_accuracy: 0.8792\n",
            "Epoch 18/30\n",
            "1719/1719 [==============================] - 8s 5ms/step - loss: 0.3542 - accuracy: 0.8711 - val_loss: 0.3246 - val_accuracy: 0.8838\n",
            "Epoch 19/30\n",
            "1719/1719 [==============================] - 8s 5ms/step - loss: 0.3473 - accuracy: 0.8734 - val_loss: 0.3208 - val_accuracy: 0.8826\n",
            "Epoch 20/30\n",
            "1719/1719 [==============================] - 8s 5ms/step - loss: 0.3466 - accuracy: 0.8738 - val_loss: 0.3263 - val_accuracy: 0.8850\n",
            "Epoch 21/30\n",
            "1719/1719 [==============================] - 8s 5ms/step - loss: 0.3424 - accuracy: 0.8764 - val_loss: 0.3175 - val_accuracy: 0.8860\n",
            "Epoch 22/30\n",
            "1719/1719 [==============================] - 8s 4ms/step - loss: 0.3369 - accuracy: 0.8759 - val_loss: 0.3166 - val_accuracy: 0.8858\n",
            "Epoch 23/30\n",
            "1719/1719 [==============================] - 7s 4ms/step - loss: 0.3367 - accuracy: 0.8781 - val_loss: 0.3147 - val_accuracy: 0.8876\n",
            "Epoch 24/30\n",
            "1719/1719 [==============================] - 7s 4ms/step - loss: 0.3304 - accuracy: 0.8802 - val_loss: 0.3116 - val_accuracy: 0.8890\n",
            "Epoch 25/30\n",
            "1719/1719 [==============================] - 7s 4ms/step - loss: 0.3273 - accuracy: 0.8796 - val_loss: 0.3230 - val_accuracy: 0.8860\n",
            "Epoch 26/30\n",
            "1719/1719 [==============================] - 7s 4ms/step - loss: 0.3246 - accuracy: 0.8819 - val_loss: 0.3098 - val_accuracy: 0.8914\n",
            "Epoch 27/30\n",
            "1719/1719 [==============================] - 8s 5ms/step - loss: 0.3240 - accuracy: 0.8828 - val_loss: 0.3095 - val_accuracy: 0.8900\n",
            "Epoch 28/30\n",
            "1719/1719 [==============================] - 7s 4ms/step - loss: 0.3192 - accuracy: 0.8846 - val_loss: 0.3078 - val_accuracy: 0.8882\n",
            "Epoch 29/30\n",
            "1719/1719 [==============================] - 7s 4ms/step - loss: 0.3173 - accuracy: 0.8831 - val_loss: 0.3058 - val_accuracy: 0.8900\n",
            "Epoch 30/30\n",
            "1719/1719 [==============================] - 7s 4ms/step - loss: 0.3149 - accuracy: 0.8852 - val_loss: 0.3066 - val_accuracy: 0.8904\n"
          ],
          "name": "stdout"
        }
      ]
    },
    {
      "cell_type": "code",
      "metadata": {
        "colab": {
          "base_uri": "https://localhost:8080/",
          "height": 328
        },
        "id": "YB1M8jZ3myCa",
        "outputId": "8c79c84f-3f05-469b-fd95-24c49ff36541"
      },
      "source": [
        "pd.DataFrame(history7.history).plot(figsize=(8, 5))\n",
        "plt.grid(True)\n",
        "plt.gca().set_ylim(0, 1)\n",
        "plt.show()"
      ],
      "execution_count": 53,
      "outputs": [
        {
          "output_type": "display_data",
          "data": {
            "image/png": "[encoded data removed]",
            "text/plain": [
              "<Figure size 576x360 with 1 Axes>"
            ]
          },
          "metadata": {
            "tags": [],
            "needs_background": "light"
          }
        }
      ]
    },
    {
      "cell_type": "markdown",
      "metadata": {
        "id": "q8E6HkHBm9Jp"
      },
      "source": [
        "5.Use Batch Normalisation"
      ]
    },
    {
      "cell_type": "code",
      "metadata": {
        "id": "TkSKxdsrm-zW"
      },
      "source": [
        "model = keras.models.Sequential()\n",
        "model.add(keras.layers.Flatten(input_shape=[28, 28]))\n",
        "model.add(keras.layers.Dense(400, activation=\"relu\"))\n",
        "model.add((keras.layers.Dropout(0.6)))\n",
        "model.add(keras.layers.BatchNormalization())\n",
        "model.add(keras.layers.Dense(150, activation=\"relu\"))\n",
        "model.add(keras.layers.Dense(70, activation=\"softmax\"))"
      ],
      "execution_count": 54,
      "outputs": []
    },
    {
      "cell_type": "code",
      "metadata": {
        "colab": {
          "base_uri": "https://localhost:8080/"
        },
        "id": "BcEelC25ovfq",
        "outputId": "a4a66780-30d1-4fde-9289-3be0dc451fa5"
      },
      "source": [
        "model.layers"
      ],
      "execution_count": 55,
      "outputs": [
        {
          "output_type": "execute_result",
          "data": {
            "text/plain": [
              "[<tensorflow.python.keras.layers.core.Flatten at 0x7f278885ae48>,\n",
              " <tensorflow.python.keras.layers.core.Dense at 0x7f278873bba8>,\n",
              " <tensorflow.python.keras.layers.core.Dropout at 0x7f278ac97240>,\n",
              " <tensorflow.python.keras.layers.normalization_v2.BatchNormalization at 0x7f278ac974e0>,\n",
              " <tensorflow.python.keras.layers.core.Dense at 0x7f278ac970f0>,\n",
              " <tensorflow.python.keras.layers.core.Dense at 0x7f27876c8320>]"
            ]
          },
          "metadata": {
            "tags": []
          },
          "execution_count": 55
        }
      ]
    },
    {
      "cell_type": "code",
      "metadata": {
        "colab": {
          "base_uri": "https://localhost:8080/"
        },
        "id": "wj3G48Ufovpt",
        "outputId": "f337a48f-8bf4-4904-f953-69c54500809f"
      },
      "source": [
        "model.summary()"
      ],
      "execution_count": 56,
      "outputs": [
        {
          "output_type": "stream",
          "text": [
            "Model: \"sequential_1\"\n",
            "_________________________________________________________________\n",
            "Layer (type)                 Output Shape              Param #   \n",
            "=================================================================\n",
            "flatten_1 (Flatten)          (None, 784)               0         \n",
            "_________________________________________________________________\n",
            "dense_3 (Dense)              (None, 400)               314000    \n",
            "_________________________________________________________________\n",
            "dropout_1 (Dropout)          (None, 400)               0         \n",
            "_________________________________________________________________\n",
            "batch_normalization (BatchNo (None, 400)               1600      \n",
            "_________________________________________________________________\n",
            "dense_4 (Dense)              (None, 150)               60150     \n",
            "_________________________________________________________________\n",
            "dense_5 (Dense)              (None, 70)                10570     \n",
            "=================================================================\n",
            "Total params: 386,320\n",
            "Trainable params: 385,520\n",
            "Non-trainable params: 800\n",
            "_________________________________________________________________\n"
          ],
          "name": "stdout"
        }
      ]
    },
    {
      "cell_type": "code",
      "metadata": {
        "id": "73oZ3Ql1s-88"
      },
      "source": [
        "model.compile(loss=\"sparse_categorical_crossentropy\",\n",
        "              optimizer=\"sgd\",\n",
        "              metrics=[\"accuracy\"])"
      ],
      "execution_count": 57,
      "outputs": []
    },
    {
      "cell_type": "code",
      "metadata": {
        "colab": {
          "base_uri": "https://localhost:8080/"
        },
        "id": "VWmKK0Iloxyt",
        "outputId": "4e992f84-5ede-4daf-f9b6-ef4045825dec"
      },
      "source": [
        "history8 = model.fit(X_train, y_train, batch_size=32, epochs=30,\n",
        "                    validation_data=(X_valid, y_valid))"
      ],
      "execution_count": 58,
      "outputs": [
        {
          "output_type": "stream",
          "text": [
            "Epoch 1/30\n",
            "1719/1719 [==============================] - 8s 5ms/step - loss: 0.8589 - accuracy: 0.7197 - val_loss: 0.4801 - val_accuracy: 0.8340\n",
            "Epoch 2/30\n",
            "1719/1719 [==============================] - 8s 4ms/step - loss: 0.5728 - accuracy: 0.7904 - val_loss: 0.4240 - val_accuracy: 0.8468\n",
            "Epoch 3/30\n",
            "1719/1719 [==============================] - 8s 5ms/step - loss: 0.5299 - accuracy: 0.8074 - val_loss: 0.4038 - val_accuracy: 0.8548\n",
            "Epoch 4/30\n",
            "1719/1719 [==============================] - 8s 5ms/step - loss: 0.5052 - accuracy: 0.8164 - val_loss: 0.3907 - val_accuracy: 0.8622\n",
            "Epoch 5/30\n",
            "1719/1719 [==============================] - 8s 5ms/step - loss: 0.4853 - accuracy: 0.8245 - val_loss: 0.3772 - val_accuracy: 0.8616\n",
            "Epoch 6/30\n",
            "1719/1719 [==============================] - 8s 4ms/step - loss: 0.4760 - accuracy: 0.8269 - val_loss: 0.3700 - val_accuracy: 0.8692\n",
            "Epoch 7/30\n",
            "1719/1719 [==============================] - 8s 5ms/step - loss: 0.4640 - accuracy: 0.8309 - val_loss: 0.3581 - val_accuracy: 0.8742\n",
            "Epoch 8/30\n",
            "1719/1719 [==============================] - 8s 5ms/step - loss: 0.4553 - accuracy: 0.8335 - val_loss: 0.3606 - val_accuracy: 0.8678\n",
            "Epoch 9/30\n",
            "1719/1719 [==============================] - 8s 4ms/step - loss: 0.4425 - accuracy: 0.8395 - val_loss: 0.3657 - val_accuracy: 0.8650\n",
            "Epoch 10/30\n",
            "1719/1719 [==============================] - 7s 4ms/step - loss: 0.4340 - accuracy: 0.8425 - val_loss: 0.3634 - val_accuracy: 0.8624\n",
            "Epoch 11/30\n",
            "1719/1719 [==============================] - 8s 5ms/step - loss: 0.4305 - accuracy: 0.8423 - val_loss: 0.3490 - val_accuracy: 0.8748\n",
            "Epoch 12/30\n",
            "1719/1719 [==============================] - 8s 5ms/step - loss: 0.4270 - accuracy: 0.8446 - val_loss: 0.3543 - val_accuracy: 0.8720\n",
            "Epoch 13/30\n",
            "1719/1719 [==============================] - 8s 5ms/step - loss: 0.4251 - accuracy: 0.8444 - val_loss: 0.3431 - val_accuracy: 0.8730\n",
            "Epoch 14/30\n",
            "1719/1719 [==============================] - 9s 5ms/step - loss: 0.4191 - accuracy: 0.8470 - val_loss: 0.3418 - val_accuracy: 0.8770\n",
            "Epoch 15/30\n",
            "1719/1719 [==============================] - 8s 5ms/step - loss: 0.4147 - accuracy: 0.8476 - val_loss: 0.3305 - val_accuracy: 0.8780\n",
            "Epoch 16/30\n",
            "1719/1719 [==============================] - 10s 6ms/step - loss: 0.4136 - accuracy: 0.8506 - val_loss: 0.3365 - val_accuracy: 0.8784\n",
            "Epoch 17/30\n",
            "1719/1719 [==============================] - 8s 5ms/step - loss: 0.4101 - accuracy: 0.8500 - val_loss: 0.3322 - val_accuracy: 0.8776\n",
            "Epoch 18/30\n",
            "1719/1719 [==============================] - 8s 5ms/step - loss: 0.4073 - accuracy: 0.8497 - val_loss: 0.3338 - val_accuracy: 0.8794\n",
            "Epoch 19/30\n",
            "1719/1719 [==============================] - 8s 5ms/step - loss: 0.4060 - accuracy: 0.8512 - val_loss: 0.3330 - val_accuracy: 0.8782\n",
            "Epoch 20/30\n",
            "1719/1719 [==============================] - 8s 5ms/step - loss: 0.3999 - accuracy: 0.8534 - val_loss: 0.3247 - val_accuracy: 0.8820\n",
            "Epoch 21/30\n",
            "1719/1719 [==============================] - 8s 5ms/step - loss: 0.4042 - accuracy: 0.8521 - val_loss: 0.3274 - val_accuracy: 0.8818\n",
            "Epoch 22/30\n",
            "1719/1719 [==============================] - 8s 5ms/step - loss: 0.4005 - accuracy: 0.8546 - val_loss: 0.3224 - val_accuracy: 0.8868\n",
            "Epoch 23/30\n",
            "1719/1719 [==============================] - 8s 5ms/step - loss: 0.3979 - accuracy: 0.8553 - val_loss: 0.3212 - val_accuracy: 0.8822\n",
            "Epoch 24/30\n",
            "1719/1719 [==============================] - 8s 5ms/step - loss: 0.3969 - accuracy: 0.8554 - val_loss: 0.3321 - val_accuracy: 0.8778\n",
            "Epoch 25/30\n",
            "1719/1719 [==============================] - 8s 5ms/step - loss: 0.3952 - accuracy: 0.8544 - val_loss: 0.3371 - val_accuracy: 0.8744\n",
            "Epoch 26/30\n",
            "1719/1719 [==============================] - 9s 5ms/step - loss: 0.3915 - accuracy: 0.8546 - val_loss: 0.3240 - val_accuracy: 0.8804\n",
            "Epoch 27/30\n",
            "1719/1719 [==============================] - 8s 5ms/step - loss: 0.3908 - accuracy: 0.8557 - val_loss: 0.3212 - val_accuracy: 0.8790\n",
            "Epoch 28/30\n",
            "1719/1719 [==============================] - 8s 5ms/step - loss: 0.3895 - accuracy: 0.8572 - val_loss: 0.3238 - val_accuracy: 0.8810\n",
            "Epoch 29/30\n",
            "1719/1719 [==============================] - 9s 6ms/step - loss: 0.3858 - accuracy: 0.8572 - val_loss: 0.3137 - val_accuracy: 0.8820\n",
            "Epoch 30/30\n",
            "1719/1719 [==============================] - 9s 5ms/step - loss: 0.3869 - accuracy: 0.8572 - val_loss: 0.3275 - val_accuracy: 0.8814\n"
          ],
          "name": "stdout"
        }
      ]
    },
    {
      "cell_type": "code",
      "metadata": {
        "colab": {
          "base_uri": "https://localhost:8080/",
          "height": 328
        },
        "id": "Q6aTht-Uo1SJ",
        "outputId": "91016f0d-2b4e-493e-e792-1505c2d4c296"
      },
      "source": [
        "pd.DataFrame(history8.history).plot(figsize=(8, 5))\n",
        "plt.grid(True)\n",
        "plt.gca().set_ylim(0, 1)\n",
        "plt.show()"
      ],
      "execution_count": 59,
      "outputs": [
        {
          "output_type": "display_data",
          "data": {
            "image/png": "[encoded data removed]",
            "text/plain": [
              "<Figure size 576x360 with 1 Axes>"
            ]
          },
          "metadata": {
            "tags": [],
            "needs_background": "light"
          }
        }
      ]
    },
    {
      "cell_type": "markdown",
      "metadata": {
        "id": "_zKcRSmInXpp"
      },
      "source": [
        "6. Repeat with more layers"
      ]
    },
    {
      "cell_type": "code",
      "metadata": {
        "id": "3rwcuBTOnfjx"
      },
      "source": [
        "model = keras.models.Sequential()\n",
        "model.add(keras.layers.Flatten(input_shape=[28, 28]))\n",
        "model.add(keras.layers.Dense(100, activation=\"relu\"))\n",
        "model.add((keras.layers.Dropout(0.3)))\n",
        "model.add(keras.layers.BatchNormalization())\n",
        "model.add(keras.layers.Dense(255, activation=\"relu\"))\n",
        "model.add(keras.layers.Dense(85, activation=\"tanh\"))\n",
        "model.add(keras.layers.Dense(36, activation=\"relu\"))\n",
        "model.add(keras.layers.Dense(12, activation=\"softmax\"))"
      ],
      "execution_count": 60,
      "outputs": []
    },
    {
      "cell_type": "code",
      "metadata": {
        "colab": {
          "base_uri": "https://localhost:8080/"
        },
        "id": "Dd-oOMSEnfwX",
        "outputId": "965613a9-7db2-4100-8489-adfc859996ff"
      },
      "source": [
        "model.layers"
      ],
      "execution_count": 61,
      "outputs": [
        {
          "output_type": "execute_result",
          "data": {
            "text/plain": [
              "[<tensorflow.python.keras.layers.core.Flatten at 0x7f2788837da0>,\n",
              " <tensorflow.python.keras.layers.core.Dense at 0x7f278be27668>,\n",
              " <tensorflow.python.keras.layers.core.Dropout at 0x7f27854fd7b8>,\n",
              " <tensorflow.python.keras.layers.normalization_v2.BatchNormalization at 0x7f27854fd518>,\n",
              " <tensorflow.python.keras.layers.core.Dense at 0x7f27854fd470>,\n",
              " <tensorflow.python.keras.layers.core.Dense at 0x7f2785496438>,\n",
              " <tensorflow.python.keras.layers.core.Dense at 0x7f278549cd68>,\n",
              " <tensorflow.python.keras.layers.core.Dense at 0x7f27854a2860>]"
            ]
          },
          "metadata": {
            "tags": []
          },
          "execution_count": 61
        }
      ]
    },
    {
      "cell_type": "code",
      "metadata": {
        "colab": {
          "base_uri": "https://localhost:8080/"
        },
        "id": "mRKO9cnNnmXt",
        "outputId": "081393b5-faf9-4330-814b-5291e86eba18"
      },
      "source": [
        "model.summary()"
      ],
      "execution_count": 62,
      "outputs": [
        {
          "output_type": "stream",
          "text": [
            "Model: \"sequential_2\"\n",
            "_________________________________________________________________\n",
            "Layer (type)                 Output Shape              Param #   \n",
            "=================================================================\n",
            "flatten_2 (Flatten)          (None, 784)               0         \n",
            "_________________________________________________________________\n",
            "dense_6 (Dense)              (None, 100)               78500     \n",
            "_________________________________________________________________\n",
            "dropout_2 (Dropout)          (None, 100)               0         \n",
            "_________________________________________________________________\n",
            "batch_normalization_1 (Batch (None, 100)               400       \n",
            "_________________________________________________________________\n",
            "dense_7 (Dense)              (None, 255)               25755     \n",
            "_________________________________________________________________\n",
            "dense_8 (Dense)              (None, 85)                21760     \n",
            "_________________________________________________________________\n",
            "dense_9 (Dense)              (None, 36)                3096      \n",
            "_________________________________________________________________\n",
            "dense_10 (Dense)             (None, 12)                444       \n",
            "=================================================================\n",
            "Total params: 129,955\n",
            "Trainable params: 129,755\n",
            "Non-trainable params: 200\n",
            "_________________________________________________________________\n"
          ],
          "name": "stdout"
        }
      ]
    },
    {
      "cell_type": "code",
      "metadata": {
        "id": "Trss9L1ltAJ-"
      },
      "source": [
        "model.compile(loss=\"sparse_categorical_crossentropy\",\n",
        "              optimizer=\"sgd\",\n",
        "              metrics=[\"accuracy\"])"
      ],
      "execution_count": 63,
      "outputs": []
    },
    {
      "cell_type": "code",
      "metadata": {
        "colab": {
          "base_uri": "https://localhost:8080/"
        },
        "id": "N8YgpQpTnvg7",
        "outputId": "65af4133-8dca-49fa-e2d4-820d79d8d37e"
      },
      "source": [
        "history9 = model.fit(X_train, y_train, batch_size=32, epochs=30,\n",
        "                    validation_data=(X_valid, y_valid))"
      ],
      "execution_count": 64,
      "outputs": [
        {
          "output_type": "stream",
          "text": [
            "Epoch 1/30\n",
            "1719/1719 [==============================] - 5s 3ms/step - loss: 0.7953 - accuracy: 0.7291 - val_loss: 0.4949 - val_accuracy: 0.8230\n",
            "Epoch 2/30\n",
            "1719/1719 [==============================] - 4s 3ms/step - loss: 0.5265 - accuracy: 0.8097 - val_loss: 0.4457 - val_accuracy: 0.8366\n",
            "Epoch 3/30\n",
            "1719/1719 [==============================] - 4s 2ms/step - loss: 0.4834 - accuracy: 0.8261 - val_loss: 0.3938 - val_accuracy: 0.8494\n",
            "Epoch 4/30\n",
            "1719/1719 [==============================] - 5s 3ms/step - loss: 0.4574 - accuracy: 0.8340 - val_loss: 0.3719 - val_accuracy: 0.8624\n",
            "Epoch 5/30\n",
            "1719/1719 [==============================] - 5s 3ms/step - loss: 0.4411 - accuracy: 0.8397 - val_loss: 0.3620 - val_accuracy: 0.8678\n",
            "Epoch 6/30\n",
            "1719/1719 [==============================] - 5s 3ms/step - loss: 0.4266 - accuracy: 0.8465 - val_loss: 0.3551 - val_accuracy: 0.8718\n",
            "Epoch 7/30\n",
            "1719/1719 [==============================] - 4s 2ms/step - loss: 0.4121 - accuracy: 0.8499 - val_loss: 0.3497 - val_accuracy: 0.8738\n",
            "Epoch 8/30\n",
            "1719/1719 [==============================] - 4s 3ms/step - loss: 0.3994 - accuracy: 0.8531 - val_loss: 0.3452 - val_accuracy: 0.8734\n",
            "Epoch 9/30\n",
            "1719/1719 [==============================] - 4s 3ms/step - loss: 0.3925 - accuracy: 0.8572 - val_loss: 0.3369 - val_accuracy: 0.8758\n",
            "Epoch 10/30\n",
            "1719/1719 [==============================] - 4s 3ms/step - loss: 0.3893 - accuracy: 0.8555 - val_loss: 0.3417 - val_accuracy: 0.8758\n",
            "Epoch 11/30\n",
            "1719/1719 [==============================] - 4s 3ms/step - loss: 0.3868 - accuracy: 0.8571 - val_loss: 0.3500 - val_accuracy: 0.8714\n",
            "Epoch 12/30\n",
            "1719/1719 [==============================] - 4s 3ms/step - loss: 0.3840 - accuracy: 0.8589 - val_loss: 0.3373 - val_accuracy: 0.8796\n",
            "Epoch 13/30\n",
            "1719/1719 [==============================] - 4s 3ms/step - loss: 0.3720 - accuracy: 0.8625 - val_loss: 0.3289 - val_accuracy: 0.8806\n",
            "Epoch 14/30\n",
            "1719/1719 [==============================] - 4s 3ms/step - loss: 0.3670 - accuracy: 0.8655 - val_loss: 0.3211 - val_accuracy: 0.8816\n",
            "Epoch 15/30\n",
            "1719/1719 [==============================] - 5s 3ms/step - loss: 0.3638 - accuracy: 0.8669 - val_loss: 0.3286 - val_accuracy: 0.8804\n",
            "Epoch 16/30\n",
            "1719/1719 [==============================] - 4s 3ms/step - loss: 0.3577 - accuracy: 0.8675 - val_loss: 0.3187 - val_accuracy: 0.8848\n",
            "Epoch 17/30\n",
            "1719/1719 [==============================] - 5s 3ms/step - loss: 0.3501 - accuracy: 0.8715 - val_loss: 0.3228 - val_accuracy: 0.8806\n",
            "Epoch 18/30\n",
            "1719/1719 [==============================] - 5s 3ms/step - loss: 0.3542 - accuracy: 0.8689 - val_loss: 0.3227 - val_accuracy: 0.8820\n",
            "Epoch 19/30\n",
            "1719/1719 [==============================] - 5s 3ms/step - loss: 0.3453 - accuracy: 0.8724 - val_loss: 0.3229 - val_accuracy: 0.8810\n",
            "Epoch 20/30\n",
            "1719/1719 [==============================] - 5s 3ms/step - loss: 0.3401 - accuracy: 0.8740 - val_loss: 0.3179 - val_accuracy: 0.8834\n",
            "Epoch 21/30\n",
            "1719/1719 [==============================] - 4s 3ms/step - loss: 0.3392 - accuracy: 0.8741 - val_loss: 0.3138 - val_accuracy: 0.8830\n",
            "Epoch 22/30\n",
            "1719/1719 [==============================] - 5s 3ms/step - loss: 0.3342 - accuracy: 0.8757 - val_loss: 0.3144 - val_accuracy: 0.8834\n",
            "Epoch 23/30\n",
            "1719/1719 [==============================] - 5s 3ms/step - loss: 0.3337 - accuracy: 0.8761 - val_loss: 0.3123 - val_accuracy: 0.8830\n",
            "Epoch 24/30\n",
            "1719/1719 [==============================] - 5s 3ms/step - loss: 0.3308 - accuracy: 0.8786 - val_loss: 0.3118 - val_accuracy: 0.8856\n",
            "Epoch 25/30\n",
            "1719/1719 [==============================] - 5s 3ms/step - loss: 0.3306 - accuracy: 0.8782 - val_loss: 0.3122 - val_accuracy: 0.8884\n",
            "Epoch 26/30\n",
            "1719/1719 [==============================] - 5s 3ms/step - loss: 0.3290 - accuracy: 0.8786 - val_loss: 0.3054 - val_accuracy: 0.8874\n",
            "Epoch 27/30\n",
            "1719/1719 [==============================] - 5s 3ms/step - loss: 0.3285 - accuracy: 0.8777 - val_loss: 0.3125 - val_accuracy: 0.8874\n",
            "Epoch 28/30\n",
            "1719/1719 [==============================] - 4s 3ms/step - loss: 0.3263 - accuracy: 0.8782 - val_loss: 0.3213 - val_accuracy: 0.8832\n",
            "Epoch 29/30\n",
            "1719/1719 [==============================] - 4s 3ms/step - loss: 0.3224 - accuracy: 0.8815 - val_loss: 0.3040 - val_accuracy: 0.8890\n",
            "Epoch 30/30\n",
            "1719/1719 [==============================] - 4s 3ms/step - loss: 0.3231 - accuracy: 0.8788 - val_loss: 0.3040 - val_accuracy: 0.8852\n"
          ],
          "name": "stdout"
        }
      ]
    },
    {
      "cell_type": "code",
      "metadata": {
        "colab": {
          "base_uri": "https://localhost:8080/",
          "height": 328
        },
        "id": "JNgBmWninyRO",
        "outputId": "81daf809-ebd7-4fea-fdd2-7e66a21b7e29"
      },
      "source": [
        "pd.DataFrame(history9.history).plot(figsize=(8, 5))\n",
        "plt.grid(True)\n",
        "plt.gca().set_ylim(0, 1)\n",
        "plt.show()"
      ],
      "execution_count": 65,
      "outputs": [
        {
          "output_type": "display_data",
          "data": {
            "image/png": "[encoded data removed]",
            "text/plain": [
              "<Figure size 576x360 with 1 Axes>"
            ]
          },
          "metadata": {
            "tags": [],
            "needs_background": "light"
          }
        }
      ]
    },
    {
      "cell_type": "markdown",
      "metadata": {
        "id": "x5MHWffuF_OW"
      },
      "source": [
        "7. Apply on different datasets"
      ]
    },
    {
      "cell_type": "markdown",
      "metadata": {
        "id": "DKeVR8UbGY5d"
      },
      "source": [
        "i choose mnist data "
      ]
    },
    {
      "cell_type": "code",
      "metadata": {
        "id": "nZAXZBi4GZj7"
      },
      "source": [
        "(X_train_full, y_train_full), (X_test, y_test) = tf.keras.datasets.mnist.load_data(\n",
        "    path='mnist.npz'\n",
        ")"
      ],
      "execution_count": 70,
      "outputs": []
    },
    {
      "cell_type": "code",
      "metadata": {
        "colab": {
          "base_uri": "https://localhost:8080/"
        },
        "id": "DG5ltmA2GaiD",
        "outputId": "d8c3cc6a-a8d1-4996-b587-04362a4b81fa"
      },
      "source": [
        "X_train_full.shape"
      ],
      "execution_count": 71,
      "outputs": [
        {
          "output_type": "execute_result",
          "data": {
            "text/plain": [
              "(60000, 28, 28)"
            ]
          },
          "metadata": {
            "tags": []
          },
          "execution_count": 71
        }
      ]
    },
    {
      "cell_type": "code",
      "metadata": {
        "id": "oYK4wvTwGaO1"
      },
      "source": [
        "\n",
        "X_valid, X_train = (X_train_full[:10000]) / 255., X_train_full[10000:] / 255.\n",
        "y_valid, y_train = y_train_full[:10000], y_train_full[10000:]\n",
        "X_test = X_test / 255."
      ],
      "execution_count": 72,
      "outputs": []
    },
    {
      "cell_type": "code",
      "metadata": {
        "id": "XIIzCGmiGaFH"
      },
      "source": [
        "class_names = [\"0\", \"1\", \"2\", \"3\", \"4\",\"5\", \"6\", \"7\", \"8\", \"9\"]"
      ],
      "execution_count": 73,
      "outputs": []
    },
    {
      "cell_type": "code",
      "metadata": {
        "colab": {
          "base_uri": "https://localhost:8080/",
          "height": 35
        },
        "id": "R85SnWyUGZ9-",
        "outputId": "d026db7b-7be6-494b-b3fd-8391ceda52e2"
      },
      "source": [
        "class_names[y_train[4]]"
      ],
      "execution_count": 75,
      "outputs": [
        {
          "output_type": "execute_result",
          "data": {
            "application/vnd.google.colaboratory.intrinsic+json": {
              "type": "string"
            },
            "text/plain": [
              "'9'"
            ]
          },
          "metadata": {
            "tags": []
          },
          "execution_count": 75
        }
      ]
    },
    {
      "cell_type": "code",
      "metadata": {
        "colab": {
          "base_uri": "https://localhost:8080/",
          "height": 308
        },
        "id": "a5Noct_6GZ21",
        "outputId": "e4372f4f-e908-4cb3-c06b-38ea06a61439"
      },
      "source": [
        "n_rows = 4\n",
        "n_cols = 10\n",
        "plt.figure(figsize=(n_cols * 1.2, n_rows * 1.2))\n",
        "for row in range(n_rows):\n",
        "    for col in range(n_cols):\n",
        "        index = n_cols * row + col\n",
        "        plt.subplot(n_rows, n_cols, index + 1)\n",
        "        plt.imshow(X_train[index], cmap=\"binary\", interpolation=\"nearest\")\n",
        "        plt.axis('off')\n",
        "        plt.title(class_names[y_train[index]], fontsize=12)\n",
        "plt.subplots_adjust(wspace=0.1, hspace=0.5)\n",
        "plt.show()"
      ],
      "execution_count": 77,
      "outputs": [
        {
          "output_type": "display_data",
          "data": {
            "image/png": "[encoded data removed]",
            "text/plain": [
              "<Figure size 864x345.6 with 40 Axes>"
            ]
          },
          "metadata": {
            "tags": [],
            "needs_background": "light"
          }
        }
      ]
    },
    {
      "cell_type": "code",
      "metadata": {
        "id": "OLevJrDWVo1N"
      },
      "source": [
        "model = keras.models.Sequential()\n",
        "model.add(keras.layers.Flatten(input_shape=[28, 28]))\n",
        "model.add(keras.layers.Dense(400, activation=\"relu\"))\n",
        "model.add((keras.layers.Dropout(0.6)))\n",
        "model.add(keras.layers.Dense(150, activation=\"relu\"))\n",
        "model.add(keras.layers.Dense(70, activation=\"softmax\"))"
      ],
      "execution_count": 78,
      "outputs": []
    },
    {
      "cell_type": "code",
      "metadata": {
        "id": "yxcw1B5CG6zl"
      },
      "source": [
        "keras.backend.clear_session()\n",
        "np.random.seed(42)"
      ],
      "execution_count": 79,
      "outputs": []
    },
    {
      "cell_type": "code",
      "metadata": {
        "colab": {
          "base_uri": "https://localhost:8080/"
        },
        "id": "7r47Z5GaG6sS",
        "outputId": "24faaed5-48f7-4a00-f44b-908083e5f3ae"
      },
      "source": [
        "model.layers"
      ],
      "execution_count": 80,
      "outputs": [
        {
          "output_type": "execute_result",
          "data": {
            "text/plain": [
              "[<tensorflow.python.keras.layers.core.Flatten at 0x7f278530a2e8>,\n",
              " <tensorflow.python.keras.layers.core.Dense at 0x7f278873b828>,\n",
              " <tensorflow.python.keras.layers.core.Dropout at 0x7f278531b588>,\n",
              " <tensorflow.python.keras.layers.core.Dense at 0x7f278531b9b0>,\n",
              " <tensorflow.python.keras.layers.core.Dense at 0x7f2783ad9e10>]"
            ]
          },
          "metadata": {
            "tags": []
          },
          "execution_count": 80
        }
      ]
    },
    {
      "cell_type": "code",
      "metadata": {
        "colab": {
          "base_uri": "https://localhost:8080/"
        },
        "id": "4dTk4aAgG6jZ",
        "outputId": "59ed6c59-460c-473a-f477-74b59bdd988e"
      },
      "source": [
        "model.summary()"
      ],
      "execution_count": 81,
      "outputs": [
        {
          "output_type": "stream",
          "text": [
            "Model: \"sequential_3\"\n",
            "_________________________________________________________________\n",
            "Layer (type)                 Output Shape              Param #   \n",
            "=================================================================\n",
            "flatten_3 (Flatten)          (None, 784)               0         \n",
            "_________________________________________________________________\n",
            "dense_11 (Dense)             (None, 400)               314000    \n",
            "_________________________________________________________________\n",
            "dropout_3 (Dropout)          (None, 400)               0         \n",
            "_________________________________________________________________\n",
            "dense_12 (Dense)             (None, 150)               60150     \n",
            "_________________________________________________________________\n",
            "dense_13 (Dense)             (None, 70)                10570     \n",
            "=================================================================\n",
            "Total params: 384,720\n",
            "Trainable params: 384,720\n",
            "Non-trainable params: 0\n",
            "_________________________________________________________________\n"
          ],
          "name": "stdout"
        }
      ]
    },
    {
      "cell_type": "code",
      "metadata": {
        "colab": {
          "base_uri": "https://localhost:8080/",
          "height": 35
        },
        "id": "qs5LeEh9G6aV",
        "outputId": "5f8e5770-c870-4ed4-cdac-5509472e7688"
      },
      "source": [
        "hidden1 = model.layers[4]\n",
        "hidden1.name"
      ],
      "execution_count": 82,
      "outputs": [
        {
          "output_type": "execute_result",
          "data": {
            "application/vnd.google.colaboratory.intrinsic+json": {
              "type": "string"
            },
            "text/plain": [
              "'dense_13'"
            ]
          },
          "metadata": {
            "tags": []
          },
          "execution_count": 82
        }
      ]
    },
    {
      "cell_type": "code",
      "metadata": {
        "id": "6z935nEaHB-X"
      },
      "source": [
        "\n",
        "weights, biases = hidden1.get_weights()"
      ],
      "execution_count": 83,
      "outputs": []
    },
    {
      "cell_type": "code",
      "metadata": {
        "colab": {
          "base_uri": "https://localhost:8080/"
        },
        "id": "-BE0_c_tHCHD",
        "outputId": "5e728be6-a440-40c3-ce8f-deeb06c061ed"
      },
      "source": [
        "weights"
      ],
      "execution_count": 84,
      "outputs": [
        {
          "output_type": "execute_result",
          "data": {
            "text/plain": [
              "array([[ 0.07748728,  0.05154255, -0.08820474, ..., -0.02374975,\n",
              "         0.06008205,  0.07759701],\n",
              "       [ 0.1570034 ,  0.15450552, -0.09203847, ...,  0.0810658 ,\n",
              "         0.11402202, -0.14483991],\n",
              "       [-0.05236763, -0.06367905,  0.02415641, ..., -0.02177088,\n",
              "         0.06576785,  0.09267014],\n",
              "       ...,\n",
              "       [-0.11513522,  0.16303769,  0.10073084, ...,  0.0987865 ,\n",
              "        -0.11458638, -0.02074355],\n",
              "       [-0.16259642,  0.09731004,  0.08879223, ..., -0.13131353,\n",
              "         0.07773925, -0.0987413 ],\n",
              "       [ 0.09189263, -0.03767914,  0.03699817, ...,  0.00267094,\n",
              "         0.10629091, -0.02695043]], dtype=float32)"
            ]
          },
          "metadata": {
            "tags": []
          },
          "execution_count": 84
        }
      ]
    },
    {
      "cell_type": "code",
      "metadata": {
        "colab": {
          "base_uri": "https://localhost:8080/"
        },
        "id": "5sBLsuVtHHrf",
        "outputId": "32dcd1a8-fca0-41fd-f769-3c7cd1b5328b"
      },
      "source": [
        "biases"
      ],
      "execution_count": 85,
      "outputs": [
        {
          "output_type": "execute_result",
          "data": {
            "text/plain": [
              "array([0., 0., 0., 0., 0., 0., 0., 0., 0., 0., 0., 0., 0., 0., 0., 0., 0.,\n",
              "       0., 0., 0., 0., 0., 0., 0., 0., 0., 0., 0., 0., 0., 0., 0., 0., 0.,\n",
              "       0., 0., 0., 0., 0., 0., 0., 0., 0., 0., 0., 0., 0., 0., 0., 0., 0.,\n",
              "       0., 0., 0., 0., 0., 0., 0., 0., 0., 0., 0., 0., 0., 0., 0., 0., 0.,\n",
              "       0., 0.], dtype=float32)"
            ]
          },
          "metadata": {
            "tags": []
          },
          "execution_count": 85
        }
      ]
    },
    {
      "cell_type": "code",
      "metadata": {
        "id": "RLAXWyQ-HHWl"
      },
      "source": [
        "\n",
        "model.compile(loss=\"sparse_categorical_crossentropy\",\n",
        "              optimizer=\"sgd\",\n",
        "              metrics=[\"accuracy\"])"
      ],
      "execution_count": 86,
      "outputs": []
    },
    {
      "cell_type": "code",
      "metadata": {
        "colab": {
          "base_uri": "https://localhost:8080/"
        },
        "id": "_zQgOk5ZHL9F",
        "outputId": "3b7d1b91-d0a4-4ec7-b213-53c98f600ac9"
      },
      "source": [
        "historyc = model.fit(X_train, y_train, batch_size=32, epochs=30,\n",
        "                    validation_data=(X_valid, y_valid))"
      ],
      "execution_count": 87,
      "outputs": [
        {
          "output_type": "stream",
          "text": [
            "Epoch 1/30\n",
            "1563/1563 [==============================] - 8s 5ms/step - loss: 0.9150 - accuracy: 0.7304 - val_loss: 0.3650 - val_accuracy: 0.8984\n",
            "Epoch 2/30\n",
            "1563/1563 [==============================] - 7s 5ms/step - loss: 0.4238 - accuracy: 0.8747 - val_loss: 0.2794 - val_accuracy: 0.9199\n",
            "Epoch 3/30\n",
            "1563/1563 [==============================] - 7s 5ms/step - loss: 0.3423 - accuracy: 0.8986 - val_loss: 0.2335 - val_accuracy: 0.9338\n",
            "Epoch 4/30\n",
            "1563/1563 [==============================] - 7s 5ms/step - loss: 0.2953 - accuracy: 0.9125 - val_loss: 0.2106 - val_accuracy: 0.9398\n",
            "Epoch 5/30\n",
            "1563/1563 [==============================] - 8s 5ms/step - loss: 0.2595 - accuracy: 0.9239 - val_loss: 0.1840 - val_accuracy: 0.9460\n",
            "Epoch 6/30\n",
            "1563/1563 [==============================] - 7s 5ms/step - loss: 0.2359 - accuracy: 0.9303 - val_loss: 0.1700 - val_accuracy: 0.9495\n",
            "Epoch 7/30\n",
            "1563/1563 [==============================] - 7s 5ms/step - loss: 0.2196 - accuracy: 0.9350 - val_loss: 0.1573 - val_accuracy: 0.9533\n",
            "Epoch 8/30\n",
            "1563/1563 [==============================] - 7s 5ms/step - loss: 0.2003 - accuracy: 0.9407 - val_loss: 0.1480 - val_accuracy: 0.9556\n",
            "Epoch 9/30\n",
            "1563/1563 [==============================] - 7s 5ms/step - loss: 0.1890 - accuracy: 0.9436 - val_loss: 0.1421 - val_accuracy: 0.9572\n",
            "Epoch 10/30\n",
            "1563/1563 [==============================] - 8s 5ms/step - loss: 0.1760 - accuracy: 0.9481 - val_loss: 0.1307 - val_accuracy: 0.9613\n",
            "Epoch 11/30\n",
            "1563/1563 [==============================] - 8s 5ms/step - loss: 0.1652 - accuracy: 0.9518 - val_loss: 0.1248 - val_accuracy: 0.9631\n",
            "Epoch 12/30\n",
            "1563/1563 [==============================] - 8s 5ms/step - loss: 0.1597 - accuracy: 0.9521 - val_loss: 0.1202 - val_accuracy: 0.9652\n",
            "Epoch 13/30\n",
            "1563/1563 [==============================] - 7s 5ms/step - loss: 0.1517 - accuracy: 0.9551 - val_loss: 0.1158 - val_accuracy: 0.9661\n",
            "Epoch 14/30\n",
            "1563/1563 [==============================] - 7s 5ms/step - loss: 0.1452 - accuracy: 0.9562 - val_loss: 0.1115 - val_accuracy: 0.9667\n",
            "Epoch 15/30\n",
            "1563/1563 [==============================] - 8s 5ms/step - loss: 0.1390 - accuracy: 0.9585 - val_loss: 0.1072 - val_accuracy: 0.9673\n",
            "Epoch 16/30\n",
            "1563/1563 [==============================] - 7s 5ms/step - loss: 0.1322 - accuracy: 0.9604 - val_loss: 0.1046 - val_accuracy: 0.9691\n",
            "Epoch 17/30\n",
            "1563/1563 [==============================] - 8s 5ms/step - loss: 0.1285 - accuracy: 0.9622 - val_loss: 0.1002 - val_accuracy: 0.9706\n",
            "Epoch 18/30\n",
            "1563/1563 [==============================] - 8s 5ms/step - loss: 0.1227 - accuracy: 0.9642 - val_loss: 0.0984 - val_accuracy: 0.9716\n",
            "Epoch 19/30\n",
            "1563/1563 [==============================] - 8s 5ms/step - loss: 0.1212 - accuracy: 0.9634 - val_loss: 0.0969 - val_accuracy: 0.9713\n",
            "Epoch 20/30\n",
            "1563/1563 [==============================] - 8s 5ms/step - loss: 0.1132 - accuracy: 0.9651 - val_loss: 0.0943 - val_accuracy: 0.9727\n",
            "Epoch 21/30\n",
            "1563/1563 [==============================] - 8s 5ms/step - loss: 0.1135 - accuracy: 0.9662 - val_loss: 0.0906 - val_accuracy: 0.9725\n",
            "Epoch 22/30\n",
            "1563/1563 [==============================] - 7s 5ms/step - loss: 0.1087 - accuracy: 0.9677 - val_loss: 0.0912 - val_accuracy: 0.9729\n",
            "Epoch 23/30\n",
            "1563/1563 [==============================] - 8s 5ms/step - loss: 0.1057 - accuracy: 0.9681 - val_loss: 0.0893 - val_accuracy: 0.9733\n",
            "Epoch 24/30\n",
            "1563/1563 [==============================] - 9s 5ms/step - loss: 0.1018 - accuracy: 0.9686 - val_loss: 0.0868 - val_accuracy: 0.9737\n",
            "Epoch 25/30\n",
            "1563/1563 [==============================] - 7s 5ms/step - loss: 0.0963 - accuracy: 0.9705 - val_loss: 0.0861 - val_accuracy: 0.9743\n",
            "Epoch 26/30\n",
            "1563/1563 [==============================] - 8s 5ms/step - loss: 0.0969 - accuracy: 0.9696 - val_loss: 0.0842 - val_accuracy: 0.9751\n",
            "Epoch 27/30\n",
            "1563/1563 [==============================] - 7s 5ms/step - loss: 0.0938 - accuracy: 0.9718 - val_loss: 0.0828 - val_accuracy: 0.9750\n",
            "Epoch 28/30\n",
            "1563/1563 [==============================] - 8s 5ms/step - loss: 0.0917 - accuracy: 0.9724 - val_loss: 0.0806 - val_accuracy: 0.9757\n",
            "Epoch 29/30\n",
            "1563/1563 [==============================] - 8s 5ms/step - loss: 0.0903 - accuracy: 0.9727 - val_loss: 0.0800 - val_accuracy: 0.9763\n",
            "Epoch 30/30\n",
            "1563/1563 [==============================] - 7s 5ms/step - loss: 0.0855 - accuracy: 0.9737 - val_loss: 0.0836 - val_accuracy: 0.9739\n"
          ],
          "name": "stdout"
        }
      ]
    },
    {
      "cell_type": "code",
      "metadata": {
        "colab": {
          "base_uri": "https://localhost:8080/",
          "height": 328
        },
        "id": "UCKKNcTIHMF1",
        "outputId": "8a7917ac-fe2b-4b60-ddd6-de17357ea391"
      },
      "source": [
        "pd.DataFrame(historyc.history).plot(figsize=(8, 5))\n",
        "plt.grid(True)\n",
        "plt.gca().set_ylim(0, 1)\n",
        "plt.show()"
      ],
      "execution_count": 88,
      "outputs": [
        {
          "output_type": "display_data",
          "data": {
            "image/png": "[encoded data removed]",
            "text/plain": [
              "<Figure size 576x360 with 1 Axes>"
            ]
          },
          "metadata": {
            "tags": [],
            "needs_background": "light"
          }
        }
      ]
    }
  ]
}